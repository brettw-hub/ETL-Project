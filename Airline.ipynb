{
 "metadata": {
  "language_info": {
   "codemirror_mode": {
    "name": "ipython",
    "version": 3
   },
   "file_extension": ".py",
   "mimetype": "text/x-python",
   "name": "python",
   "nbconvert_exporter": "python",
   "pygments_lexer": "ipython3",
   "version": "3.8.3-final"
  },
  "orig_nbformat": 2,
  "kernelspec": {
   "name": "python3",
   "display_name": "Python 3"
  }
 },
 "nbformat": 4,
 "nbformat_minor": 2,
 "cells": [
  {
   "cell_type": "code",
   "execution_count": 1,
   "metadata": {},
   "outputs": [],
   "source": [
    "import pandas as pd\n",
    "from sqlalchemy import create_engine\n",
    "import datetime as dt"
   ]
  },
  {
   "cell_type": "code",
   "execution_count": 2,
   "metadata": {},
   "outputs": [
    {
     "output_type": "execute_result",
     "data": {
      "text/plain": [
       "   Airline ID                                          Name Alias IATA ICAO  \\\n",
       "0          -1                                       Unknown    \\N    -  NaN   \n",
       "1           1                                Private flight    \\N    -  NaN   \n",
       "2           2                                   135 Airways    \\N  NaN  GNL   \n",
       "3           3                                 1Time Airline    \\N   1T  RNX   \n",
       "4           4  2 Sqn No 1 Elementary Flying Training School    \\N  NaN  WYT   \n",
       "\n",
       "  Callsign         Country Active  \n",
       "0       \\N              \\N      Y  \n",
       "1      NaN             NaN      Y  \n",
       "2  GENERAL   United States      N  \n",
       "3  NEXTIME    South Africa      Y  \n",
       "4      NaN  United Kingdom      N  "
      ],
      "text/html": "<div>\n<style scoped>\n    .dataframe tbody tr th:only-of-type {\n        vertical-align: middle;\n    }\n\n    .dataframe tbody tr th {\n        vertical-align: top;\n    }\n\n    .dataframe thead th {\n        text-align: right;\n    }\n</style>\n<table border=\"1\" class=\"dataframe\">\n  <thead>\n    <tr style=\"text-align: right;\">\n      <th></th>\n      <th>Airline ID</th>\n      <th>Name</th>\n      <th>Alias</th>\n      <th>IATA</th>\n      <th>ICAO</th>\n      <th>Callsign</th>\n      <th>Country</th>\n      <th>Active</th>\n    </tr>\n  </thead>\n  <tbody>\n    <tr>\n      <th>0</th>\n      <td>-1</td>\n      <td>Unknown</td>\n      <td>\\N</td>\n      <td>-</td>\n      <td>NaN</td>\n      <td>\\N</td>\n      <td>\\N</td>\n      <td>Y</td>\n    </tr>\n    <tr>\n      <th>1</th>\n      <td>1</td>\n      <td>Private flight</td>\n      <td>\\N</td>\n      <td>-</td>\n      <td>NaN</td>\n      <td>NaN</td>\n      <td>NaN</td>\n      <td>Y</td>\n    </tr>\n    <tr>\n      <th>2</th>\n      <td>2</td>\n      <td>135 Airways</td>\n      <td>\\N</td>\n      <td>NaN</td>\n      <td>GNL</td>\n      <td>GENERAL</td>\n      <td>United States</td>\n      <td>N</td>\n    </tr>\n    <tr>\n      <th>3</th>\n      <td>3</td>\n      <td>1Time Airline</td>\n      <td>\\N</td>\n      <td>1T</td>\n      <td>RNX</td>\n      <td>NEXTIME</td>\n      <td>South Africa</td>\n      <td>Y</td>\n    </tr>\n    <tr>\n      <th>4</th>\n      <td>4</td>\n      <td>2 Sqn No 1 Elementary Flying Training School</td>\n      <td>\\N</td>\n      <td>NaN</td>\n      <td>WYT</td>\n      <td>NaN</td>\n      <td>United Kingdom</td>\n      <td>N</td>\n    </tr>\n  </tbody>\n</table>\n</div>"
     },
     "metadata": {},
     "execution_count": 2
    }
   ],
   "source": [
    "airline_file = \"Data/airlines.csv\"\n",
    "airline_df = pd.read_csv(airline_file)\n",
    "airline_df.head()"
   ]
  },
  {
   "cell_type": "code",
   "execution_count": 3,
   "metadata": {},
   "outputs": [
    {
     "output_type": "execute_result",
     "data": {
      "text/plain": [
       "      Airline ID                                      Operator ICAO  \\\n",
       "0             -1                                       Unknown  NaN   \n",
       "1              1                                Private flight  NaN   \n",
       "2              2                                   135 Airways  GNL   \n",
       "3              3                                 1Time Airline  RNX   \n",
       "4              4  2 Sqn No 1 Elementary Flying Training School  WYT   \n",
       "...          ...                                           ...  ...   \n",
       "6157       21248                                   GX Airlines  CBG   \n",
       "6158       21251                        Lynx Aviation (L3/SSX)  SSX   \n",
       "6159       21268                               Jetgo Australia   \\N   \n",
       "6160       21270                                  Air Carnival   \\N   \n",
       "6161       21317                                 Svyaz Rossiya  SJM   \n",
       "\n",
       "             Country Active  \n",
       "0                 \\N      Y  \n",
       "1                NaN      Y  \n",
       "2      United States      N  \n",
       "3       South Africa      Y  \n",
       "4     United Kingdom      N  \n",
       "...              ...    ...  \n",
       "6157           China      Y  \n",
       "6158   United States      N  \n",
       "6159       Australia      Y  \n",
       "6160           India      Y  \n",
       "6161          Russia      Y  \n",
       "\n",
       "[6162 rows x 5 columns]"
      ],
      "text/html": "<div>\n<style scoped>\n    .dataframe tbody tr th:only-of-type {\n        vertical-align: middle;\n    }\n\n    .dataframe tbody tr th {\n        vertical-align: top;\n    }\n\n    .dataframe thead th {\n        text-align: right;\n    }\n</style>\n<table border=\"1\" class=\"dataframe\">\n  <thead>\n    <tr style=\"text-align: right;\">\n      <th></th>\n      <th>Airline ID</th>\n      <th>Operator</th>\n      <th>ICAO</th>\n      <th>Country</th>\n      <th>Active</th>\n    </tr>\n  </thead>\n  <tbody>\n    <tr>\n      <th>0</th>\n      <td>-1</td>\n      <td>Unknown</td>\n      <td>NaN</td>\n      <td>\\N</td>\n      <td>Y</td>\n    </tr>\n    <tr>\n      <th>1</th>\n      <td>1</td>\n      <td>Private flight</td>\n      <td>NaN</td>\n      <td>NaN</td>\n      <td>Y</td>\n    </tr>\n    <tr>\n      <th>2</th>\n      <td>2</td>\n      <td>135 Airways</td>\n      <td>GNL</td>\n      <td>United States</td>\n      <td>N</td>\n    </tr>\n    <tr>\n      <th>3</th>\n      <td>3</td>\n      <td>1Time Airline</td>\n      <td>RNX</td>\n      <td>South Africa</td>\n      <td>Y</td>\n    </tr>\n    <tr>\n      <th>4</th>\n      <td>4</td>\n      <td>2 Sqn No 1 Elementary Flying Training School</td>\n      <td>WYT</td>\n      <td>United Kingdom</td>\n      <td>N</td>\n    </tr>\n    <tr>\n      <th>...</th>\n      <td>...</td>\n      <td>...</td>\n      <td>...</td>\n      <td>...</td>\n      <td>...</td>\n    </tr>\n    <tr>\n      <th>6157</th>\n      <td>21248</td>\n      <td>GX Airlines</td>\n      <td>CBG</td>\n      <td>China</td>\n      <td>Y</td>\n    </tr>\n    <tr>\n      <th>6158</th>\n      <td>21251</td>\n      <td>Lynx Aviation (L3/SSX)</td>\n      <td>SSX</td>\n      <td>United States</td>\n      <td>N</td>\n    </tr>\n    <tr>\n      <th>6159</th>\n      <td>21268</td>\n      <td>Jetgo Australia</td>\n      <td>\\N</td>\n      <td>Australia</td>\n      <td>Y</td>\n    </tr>\n    <tr>\n      <th>6160</th>\n      <td>21270</td>\n      <td>Air Carnival</td>\n      <td>\\N</td>\n      <td>India</td>\n      <td>Y</td>\n    </tr>\n    <tr>\n      <th>6161</th>\n      <td>21317</td>\n      <td>Svyaz Rossiya</td>\n      <td>SJM</td>\n      <td>Russia</td>\n      <td>Y</td>\n    </tr>\n  </tbody>\n</table>\n<p>6162 rows × 5 columns</p>\n</div>"
     },
     "metadata": {},
     "execution_count": 3
    }
   ],
   "source": [
    "# Changing the names of columns and filtering columns we require\n",
    "airline_clean_df = airline_df[[\"Airline ID\", \"Name\", \"ICAO\", \"Country\", \"Active\"]].copy()\n",
    "airline_clean_df = airline_clean_df.rename(columns = {\"Name\": \"Operator\"})\n",
    "airline_clean_df"
   ]
  },
  {
   "cell_type": "code",
   "execution_count": 4,
   "metadata": {},
   "outputs": [
    {
     "output_type": "execute_result",
     "data": {
      "text/plain": [
       "      Airline ID                                      Operator ICAO  \\\n",
       "0             -1                                       Unknown  NaN   \n",
       "1              1                                Private flight  NaN   \n",
       "2              2                                   135 Airways  GNL   \n",
       "3              3                                 1Time Airline  RNX   \n",
       "4              4  2 Sqn No 1 Elementary Flying Training School  WYT   \n",
       "...          ...                                           ...  ...   \n",
       "6157       21248                                   GX Airlines  CBG   \n",
       "6158       21251                        Lynx Aviation (L3/SSX)  SSX   \n",
       "6159       21268                               Jetgo Australia   \\N   \n",
       "6160       21270                                  Air Carnival   \\N   \n",
       "6161       21317                                 Svyaz Rossiya  SJM   \n",
       "\n",
       "             Country Active  \n",
       "0                 \\N      Y  \n",
       "1                NaN      Y  \n",
       "2      United States      N  \n",
       "3       South Africa      Y  \n",
       "4     United Kingdom      N  \n",
       "...              ...    ...  \n",
       "6157           China      Y  \n",
       "6158   United States      N  \n",
       "6159       Australia      Y  \n",
       "6160           India      Y  \n",
       "6161          Russia      Y  \n",
       "\n",
       "[6162 rows x 5 columns]"
      ],
      "text/html": "<div>\n<style scoped>\n    .dataframe tbody tr th:only-of-type {\n        vertical-align: middle;\n    }\n\n    .dataframe tbody tr th {\n        vertical-align: top;\n    }\n\n    .dataframe thead th {\n        text-align: right;\n    }\n</style>\n<table border=\"1\" class=\"dataframe\">\n  <thead>\n    <tr style=\"text-align: right;\">\n      <th></th>\n      <th>Airline ID</th>\n      <th>Operator</th>\n      <th>ICAO</th>\n      <th>Country</th>\n      <th>Active</th>\n    </tr>\n  </thead>\n  <tbody>\n    <tr>\n      <th>0</th>\n      <td>-1</td>\n      <td>Unknown</td>\n      <td>NaN</td>\n      <td>\\N</td>\n      <td>Y</td>\n    </tr>\n    <tr>\n      <th>1</th>\n      <td>1</td>\n      <td>Private flight</td>\n      <td>NaN</td>\n      <td>NaN</td>\n      <td>Y</td>\n    </tr>\n    <tr>\n      <th>2</th>\n      <td>2</td>\n      <td>135 Airways</td>\n      <td>GNL</td>\n      <td>United States</td>\n      <td>N</td>\n    </tr>\n    <tr>\n      <th>3</th>\n      <td>3</td>\n      <td>1Time Airline</td>\n      <td>RNX</td>\n      <td>South Africa</td>\n      <td>Y</td>\n    </tr>\n    <tr>\n      <th>4</th>\n      <td>4</td>\n      <td>2 Sqn No 1 Elementary Flying Training School</td>\n      <td>WYT</td>\n      <td>United Kingdom</td>\n      <td>N</td>\n    </tr>\n    <tr>\n      <th>...</th>\n      <td>...</td>\n      <td>...</td>\n      <td>...</td>\n      <td>...</td>\n      <td>...</td>\n    </tr>\n    <tr>\n      <th>6157</th>\n      <td>21248</td>\n      <td>GX Airlines</td>\n      <td>CBG</td>\n      <td>China</td>\n      <td>Y</td>\n    </tr>\n    <tr>\n      <th>6158</th>\n      <td>21251</td>\n      <td>Lynx Aviation (L3/SSX)</td>\n      <td>SSX</td>\n      <td>United States</td>\n      <td>N</td>\n    </tr>\n    <tr>\n      <th>6159</th>\n      <td>21268</td>\n      <td>Jetgo Australia</td>\n      <td>\\N</td>\n      <td>Australia</td>\n      <td>Y</td>\n    </tr>\n    <tr>\n      <th>6160</th>\n      <td>21270</td>\n      <td>Air Carnival</td>\n      <td>\\N</td>\n      <td>India</td>\n      <td>Y</td>\n    </tr>\n    <tr>\n      <th>6161</th>\n      <td>21317</td>\n      <td>Svyaz Rossiya</td>\n      <td>SJM</td>\n      <td>Russia</td>\n      <td>Y</td>\n    </tr>\n  </tbody>\n</table>\n<p>6162 rows × 5 columns</p>\n</div>"
     },
     "metadata": {},
     "execution_count": 4
    }
   ],
   "source": [
    "# Changing the name of Airlines in the Airlines.csv\n",
    "airline_clean_df = airline_clean_df.replace({'Aeroflot Russian Airlines': 'Aeroflot',\n",
    "                                            'Avianca - Aerovias Nacionales de Colombia': 'Avianca'})\n",
    "airline_clean_df"
   ]
  },
  {
   "cell_type": "code",
   "execution_count": 8,
   "metadata": {},
   "outputs": [
    {
     "output_type": "execute_result",
     "data": {
      "text/plain": [
       "     Airline ID Operator ICAO   Country Active\n",
       "515         515  Avianca  AVA  Colombia      Y"
      ],
      "text/html": "<div>\n<style scoped>\n    .dataframe tbody tr th:only-of-type {\n        vertical-align: middle;\n    }\n\n    .dataframe tbody tr th {\n        vertical-align: top;\n    }\n\n    .dataframe thead th {\n        text-align: right;\n    }\n</style>\n<table border=\"1\" class=\"dataframe\">\n  <thead>\n    <tr style=\"text-align: right;\">\n      <th></th>\n      <th>Airline ID</th>\n      <th>Operator</th>\n      <th>ICAO</th>\n      <th>Country</th>\n      <th>Active</th>\n    </tr>\n  </thead>\n  <tbody>\n    <tr>\n      <th>515</th>\n      <td>515</td>\n      <td>Avianca</td>\n      <td>AVA</td>\n      <td>Colombia</td>\n      <td>Y</td>\n    </tr>\n  </tbody>\n</table>\n</div>"
     },
     "metadata": {},
     "execution_count": 8
    }
   ],
   "source": [
    "# Checking if the Operator names have been changed\n",
    "airline_clean_df.loc[airline_clean_df['Operator'] == 'Avianca']"
   ]
  },
  {
   "cell_type": "code",
   "execution_count": 7,
   "metadata": {},
   "outputs": [
    {
     "output_type": "execute_result",
     "data": {
      "text/plain": [
       "      Airline ID                                      Operator ICAO  \\\n",
       "0             -1                                       Unknown  NaN   \n",
       "1              1                                Private flight  NaN   \n",
       "2              2                                   135 Airways  GNL   \n",
       "3              3                                 1Time Airline  RNX   \n",
       "4              4  2 Sqn No 1 Elementary Flying Training School  WYT   \n",
       "...          ...                                           ...  ...   \n",
       "6157       21248                                   GX Airlines  CBG   \n",
       "6158       21251                        Lynx Aviation (L3/SSX)  SSX   \n",
       "6159       21268                               Jetgo Australia   \\N   \n",
       "6160       21270                                  Air Carnival   \\N   \n",
       "6161       21317                                 Svyaz Rossiya  SJM   \n",
       "\n",
       "             Country Active  \n",
       "0                 \\N      Y  \n",
       "1                NaN      Y  \n",
       "2      United States      N  \n",
       "3       South Africa      Y  \n",
       "4     United Kingdom      N  \n",
       "...              ...    ...  \n",
       "6157           China      Y  \n",
       "6158   United States      N  \n",
       "6159       Australia      Y  \n",
       "6160           India      Y  \n",
       "6161          Russia      Y  \n",
       "\n",
       "[6162 rows x 5 columns]"
      ],
      "text/html": "<div>\n<style scoped>\n    .dataframe tbody tr th:only-of-type {\n        vertical-align: middle;\n    }\n\n    .dataframe tbody tr th {\n        vertical-align: top;\n    }\n\n    .dataframe thead th {\n        text-align: right;\n    }\n</style>\n<table border=\"1\" class=\"dataframe\">\n  <thead>\n    <tr style=\"text-align: right;\">\n      <th></th>\n      <th>Airline ID</th>\n      <th>Operator</th>\n      <th>ICAO</th>\n      <th>Country</th>\n      <th>Active</th>\n    </tr>\n  </thead>\n  <tbody>\n    <tr>\n      <th>0</th>\n      <td>-1</td>\n      <td>Unknown</td>\n      <td>NaN</td>\n      <td>\\N</td>\n      <td>Y</td>\n    </tr>\n    <tr>\n      <th>1</th>\n      <td>1</td>\n      <td>Private flight</td>\n      <td>NaN</td>\n      <td>NaN</td>\n      <td>Y</td>\n    </tr>\n    <tr>\n      <th>2</th>\n      <td>2</td>\n      <td>135 Airways</td>\n      <td>GNL</td>\n      <td>United States</td>\n      <td>N</td>\n    </tr>\n    <tr>\n      <th>3</th>\n      <td>3</td>\n      <td>1Time Airline</td>\n      <td>RNX</td>\n      <td>South Africa</td>\n      <td>Y</td>\n    </tr>\n    <tr>\n      <th>4</th>\n      <td>4</td>\n      <td>2 Sqn No 1 Elementary Flying Training School</td>\n      <td>WYT</td>\n      <td>United Kingdom</td>\n      <td>N</td>\n    </tr>\n    <tr>\n      <th>...</th>\n      <td>...</td>\n      <td>...</td>\n      <td>...</td>\n      <td>...</td>\n      <td>...</td>\n    </tr>\n    <tr>\n      <th>6157</th>\n      <td>21248</td>\n      <td>GX Airlines</td>\n      <td>CBG</td>\n      <td>China</td>\n      <td>Y</td>\n    </tr>\n    <tr>\n      <th>6158</th>\n      <td>21251</td>\n      <td>Lynx Aviation (L3/SSX)</td>\n      <td>SSX</td>\n      <td>United States</td>\n      <td>N</td>\n    </tr>\n    <tr>\n      <th>6159</th>\n      <td>21268</td>\n      <td>Jetgo Australia</td>\n      <td>\\N</td>\n      <td>Australia</td>\n      <td>Y</td>\n    </tr>\n    <tr>\n      <th>6160</th>\n      <td>21270</td>\n      <td>Air Carnival</td>\n      <td>\\N</td>\n      <td>India</td>\n      <td>Y</td>\n    </tr>\n    <tr>\n      <th>6161</th>\n      <td>21317</td>\n      <td>Svyaz Rossiya</td>\n      <td>SJM</td>\n      <td>Russia</td>\n      <td>Y</td>\n    </tr>\n  </tbody>\n</table>\n<p>6162 rows × 5 columns</p>\n</div>"
     },
     "metadata": {},
     "execution_count": 7
    }
   ],
   "source": [
    "# Changing the names of Countries\n",
    "airline_clean_df = airline_clean_df.replace({'ALASKA': 'United States',\n",
    "                                                        'AVIANCA': 'Colombia',\n",
    "                                                        'Russia]]': 'Russia'\n",
    "                                                        })\n",
    "airline_clean_df"
   ]
  },
  {
   "cell_type": "code",
   "execution_count": 9,
   "metadata": {},
   "outputs": [
    {
     "output_type": "execute_result",
     "data": {
      "text/plain": [
       "Empty DataFrame\n",
       "Columns: [Airline ID, Operator, ICAO, Country, Active]\n",
       "Index: []"
      ],
      "text/html": "<div>\n<style scoped>\n    .dataframe tbody tr th:only-of-type {\n        vertical-align: middle;\n    }\n\n    .dataframe tbody tr th {\n        vertical-align: top;\n    }\n\n    .dataframe thead th {\n        text-align: right;\n    }\n</style>\n<table border=\"1\" class=\"dataframe\">\n  <thead>\n    <tr style=\"text-align: right;\">\n      <th></th>\n      <th>Airline ID</th>\n      <th>Operator</th>\n      <th>ICAO</th>\n      <th>Country</th>\n      <th>Active</th>\n    </tr>\n  </thead>\n  <tbody>\n  </tbody>\n</table>\n</div>"
     },
     "metadata": {},
     "execution_count": 9
    }
   ],
   "source": [
    "# Checking to see if the Country names have been changed\n",
    "airline_clean_df.loc[airline_clean_df['Country'] == 'ALASKA']"
   ]
  },
  {
   "cell_type": "code",
   "execution_count": null,
   "metadata": {},
   "outputs": [],
   "source": [
    "# # Resetin the index for airline_clean_df\n",
    "# airline_clean_df = airline_clean_df.reset_index()\n",
    "# # airline_clean_df = airline_df[[\"Airline ID\", \"Name\", \"Country\", \"Active\"]]\n",
    "# airline_clean_df"
   ]
  },
  {
   "cell_type": "code",
   "execution_count": 10,
   "metadata": {},
   "outputs": [
    {
     "output_type": "execute_result",
     "data": {
      "text/plain": [
       "     Airline ID  Operator ICAO Country Active\n",
       "130         130  Aeroflot  AFL  Russia      Y"
      ],
      "text/html": "<div>\n<style scoped>\n    .dataframe tbody tr th:only-of-type {\n        vertical-align: middle;\n    }\n\n    .dataframe tbody tr th {\n        vertical-align: top;\n    }\n\n    .dataframe thead th {\n        text-align: right;\n    }\n</style>\n<table border=\"1\" class=\"dataframe\">\n  <thead>\n    <tr style=\"text-align: right;\">\n      <th></th>\n      <th>Airline ID</th>\n      <th>Operator</th>\n      <th>ICAO</th>\n      <th>Country</th>\n      <th>Active</th>\n    </tr>\n  </thead>\n  <tbody>\n    <tr>\n      <th>130</th>\n      <td>130</td>\n      <td>Aeroflot</td>\n      <td>AFL</td>\n      <td>Russia</td>\n      <td>Y</td>\n    </tr>\n  </tbody>\n</table>\n</div>"
     },
     "metadata": {},
     "execution_count": 10
    }
   ],
   "source": [
    "airline_clean_df.loc[airline_clean_df['Operator'] == 'Aeroflot']"
   ]
  },
  {
   "cell_type": "code",
   "execution_count": null,
   "metadata": {},
   "outputs": [],
   "source": [
    "# airline_clean_df['Operator'].drop_duplicates()"
   ]
  },
  {
   "cell_type": "code",
   "execution_count": null,
   "metadata": {},
   "outputs": [],
   "source": [
    "# airline_clean_df['Operator'].value_counts().head(50)"
   ]
  },
  {
   "cell_type": "code",
   "execution_count": 11,
   "metadata": {},
   "outputs": [
    {
     "output_type": "execute_result",
     "data": {
      "text/plain": [
       "         Date   Time                            Location  \\\n",
       "0  09/17/1908  17:18                 Fort Myer, Virginia   \n",
       "1   7/12/1912   6:30             AtlantiCity, New Jersey   \n",
       "2   8/06/1913    NaN  Victoria, British Columbia, Canada   \n",
       "3   9/09/1913  18:30                  Over the North Sea   \n",
       "4  10/17/1913  10:30          Near Johannisthal, Germany   \n",
       "\n",
       "                 Operator Flight #          Route                    Type  \\\n",
       "0    Military - U.S. Army      NaN  Demonstration        Wright Flyer III   \n",
       "1    Military - U.S. Navy      NaN    Test flight               Dirigible   \n",
       "2                 Private        -            NaN        Curtiss seaplane   \n",
       "3  Military - German Navy      NaN            NaN  Zeppelin L-1 (airship)   \n",
       "4  Military - German Navy      NaN            NaN  Zeppelin L-2 (airship)   \n",
       "\n",
       "  Registration cn/In  Aboard  Fatalities  Ground  \\\n",
       "0          NaN     1     2.0         1.0     0.0   \n",
       "1          NaN   NaN     5.0         5.0     0.0   \n",
       "2          NaN   NaN     1.0         1.0     0.0   \n",
       "3          NaN   NaN    20.0        14.0     0.0   \n",
       "4          NaN   NaN    30.0        30.0     0.0   \n",
       "\n",
       "                                             Summary  \n",
       "0  During a demonstration flight, a U.S. Army fly...  \n",
       "1  First U.S. dirigible Akron exploded just offsh...  \n",
       "2  The first fatal airplane accident in Canada oc...  \n",
       "3  The airship flew into a thunderstorm and encou...  \n",
       "4  Hydrogen gas which was being vented was sucked...  "
      ],
      "text/html": "<div>\n<style scoped>\n    .dataframe tbody tr th:only-of-type {\n        vertical-align: middle;\n    }\n\n    .dataframe tbody tr th {\n        vertical-align: top;\n    }\n\n    .dataframe thead th {\n        text-align: right;\n    }\n</style>\n<table border=\"1\" class=\"dataframe\">\n  <thead>\n    <tr style=\"text-align: right;\">\n      <th></th>\n      <th>Date</th>\n      <th>Time</th>\n      <th>Location</th>\n      <th>Operator</th>\n      <th>Flight #</th>\n      <th>Route</th>\n      <th>Type</th>\n      <th>Registration</th>\n      <th>cn/In</th>\n      <th>Aboard</th>\n      <th>Fatalities</th>\n      <th>Ground</th>\n      <th>Summary</th>\n    </tr>\n  </thead>\n  <tbody>\n    <tr>\n      <th>0</th>\n      <td>09/17/1908</td>\n      <td>17:18</td>\n      <td>Fort Myer, Virginia</td>\n      <td>Military - U.S. Army</td>\n      <td>NaN</td>\n      <td>Demonstration</td>\n      <td>Wright Flyer III</td>\n      <td>NaN</td>\n      <td>1</td>\n      <td>2.0</td>\n      <td>1.0</td>\n      <td>0.0</td>\n      <td>During a demonstration flight, a U.S. Army fly...</td>\n    </tr>\n    <tr>\n      <th>1</th>\n      <td>7/12/1912</td>\n      <td>6:30</td>\n      <td>AtlantiCity, New Jersey</td>\n      <td>Military - U.S. Navy</td>\n      <td>NaN</td>\n      <td>Test flight</td>\n      <td>Dirigible</td>\n      <td>NaN</td>\n      <td>NaN</td>\n      <td>5.0</td>\n      <td>5.0</td>\n      <td>0.0</td>\n      <td>First U.S. dirigible Akron exploded just offsh...</td>\n    </tr>\n    <tr>\n      <th>2</th>\n      <td>8/06/1913</td>\n      <td>NaN</td>\n      <td>Victoria, British Columbia, Canada</td>\n      <td>Private</td>\n      <td>-</td>\n      <td>NaN</td>\n      <td>Curtiss seaplane</td>\n      <td>NaN</td>\n      <td>NaN</td>\n      <td>1.0</td>\n      <td>1.0</td>\n      <td>0.0</td>\n      <td>The first fatal airplane accident in Canada oc...</td>\n    </tr>\n    <tr>\n      <th>3</th>\n      <td>9/09/1913</td>\n      <td>18:30</td>\n      <td>Over the North Sea</td>\n      <td>Military - German Navy</td>\n      <td>NaN</td>\n      <td>NaN</td>\n      <td>Zeppelin L-1 (airship)</td>\n      <td>NaN</td>\n      <td>NaN</td>\n      <td>20.0</td>\n      <td>14.0</td>\n      <td>0.0</td>\n      <td>The airship flew into a thunderstorm and encou...</td>\n    </tr>\n    <tr>\n      <th>4</th>\n      <td>10/17/1913</td>\n      <td>10:30</td>\n      <td>Near Johannisthal, Germany</td>\n      <td>Military - German Navy</td>\n      <td>NaN</td>\n      <td>NaN</td>\n      <td>Zeppelin L-2 (airship)</td>\n      <td>NaN</td>\n      <td>NaN</td>\n      <td>30.0</td>\n      <td>30.0</td>\n      <td>0.0</td>\n      <td>Hydrogen gas which was being vented was sucked...</td>\n    </tr>\n  </tbody>\n</table>\n</div>"
     },
     "metadata": {},
     "execution_count": 11
    }
   ],
   "source": [
    "crash_file = \"Data/Airplane_Crashes_and_Fatalities_Since_1908.csv\"\n",
    "crash_df = pd.read_csv(crash_file)\n",
    "crash_df.head()"
   ]
  },
  {
   "cell_type": "code",
   "execution_count": 12,
   "metadata": {},
   "outputs": [],
   "source": [
    "crash_clean_df = crash_df[[\"Date\", \"Location\", \"Operator\", \"Type\", \"Aboard\", \"Fatalities\", \"Summary\"]].copy()\n",
    "crash_clean_df[\"Date\"] = pd.to_datetime(crash_clean_df[\"Date\"])\n",
    "crash_clean_df = crash_clean_df[crash_clean_df[\"Date\"].dt.year >= 1970]\n",
    "\n",
    "crash_clean_df = crash_clean_df.reset_index()"
   ]
  },
  {
   "cell_type": "code",
   "execution_count": 13,
   "metadata": {},
   "outputs": [],
   "source": [
    "# # All the crashes with two or more collisions, still trying a way to separating the two operators\n",
    "# crash_clean_df[crash_clean_df['Operator'].str.contains('/', na=False)]"
   ]
  },
  {
   "cell_type": "code",
   "execution_count": 14,
   "metadata": {},
   "outputs": [],
   "source": [
    "# Attempting the resolve how to split the two collision rows\n",
    "# crash_clean_df['Operator', 'Type'] = crash_clean_df['Operator', 'Type'].str.split(\"/\") \n",
    "# crash_clean_df.explode('Operator', 'Type').reset_index(drop=False)\n"
   ]
  },
  {
   "cell_type": "code",
   "execution_count": 15,
   "metadata": {},
   "outputs": [
    {
     "output_type": "execute_result",
     "data": {
      "text/plain": [
       "   index       Date                  Location                      Operator  \\\n",
       "0   1237 1970-02-13    Pin-la-Garenne, France                     Avia-Taxi   \n",
       "1   1643 1973-05-11  Near Semipalatinsk, USSR                      Aeroflot   \n",
       "2   1807 1973-10-12          Acapulco, Mexico              Avionas  Banamex   \n",
       "3   1965 1973-10-15  Fort Smith AFB, Oklahoma     Military - U.S. Air Force   \n",
       "4   2003 1975-07-31           Santiago, Chili  Military - Chilian Air Force   \n",
       "\n",
       "                       Type  Aboard  Fatalities  \\\n",
       "0                Cessna 402    10.0        10.0   \n",
       "1           Ilyushin IL-18B    61.0        61.0   \n",
       "2    de Havilland DH-125-1A     8.0         8.0   \n",
       "3  Lockheed C-130E Hercules     7.0         7.0   \n",
       "4              Douglas C-47    10.0        10.0   \n",
       "\n",
       "                              Summary  \n",
       "0                                 NaN  \n",
       "1                                 NaN  \n",
       "2  Crashed while approaching to land.  \n",
       "3            Crashed into a mountain.  \n",
       "4                                 NaN  "
      ],
      "text/html": "<div>\n<style scoped>\n    .dataframe tbody tr th:only-of-type {\n        vertical-align: middle;\n    }\n\n    .dataframe tbody tr th {\n        vertical-align: top;\n    }\n\n    .dataframe thead th {\n        text-align: right;\n    }\n</style>\n<table border=\"1\" class=\"dataframe\">\n  <thead>\n    <tr style=\"text-align: right;\">\n      <th></th>\n      <th>index</th>\n      <th>Date</th>\n      <th>Location</th>\n      <th>Operator</th>\n      <th>Type</th>\n      <th>Aboard</th>\n      <th>Fatalities</th>\n      <th>Summary</th>\n    </tr>\n  </thead>\n  <tbody>\n    <tr>\n      <th>0</th>\n      <td>1237</td>\n      <td>1970-02-13</td>\n      <td>Pin-la-Garenne, France</td>\n      <td>Avia-Taxi</td>\n      <td>Cessna 402</td>\n      <td>10.0</td>\n      <td>10.0</td>\n      <td>NaN</td>\n    </tr>\n    <tr>\n      <th>1</th>\n      <td>1643</td>\n      <td>1973-05-11</td>\n      <td>Near Semipalatinsk, USSR</td>\n      <td>Aeroflot</td>\n      <td>Ilyushin IL-18B</td>\n      <td>61.0</td>\n      <td>61.0</td>\n      <td>NaN</td>\n    </tr>\n    <tr>\n      <th>2</th>\n      <td>1807</td>\n      <td>1973-10-12</td>\n      <td>Acapulco, Mexico</td>\n      <td>Avionas  Banamex</td>\n      <td>de Havilland DH-125-1A</td>\n      <td>8.0</td>\n      <td>8.0</td>\n      <td>Crashed while approaching to land.</td>\n    </tr>\n    <tr>\n      <th>3</th>\n      <td>1965</td>\n      <td>1973-10-15</td>\n      <td>Fort Smith AFB, Oklahoma</td>\n      <td>Military - U.S. Air Force</td>\n      <td>Lockheed C-130E Hercules</td>\n      <td>7.0</td>\n      <td>7.0</td>\n      <td>Crashed into a mountain.</td>\n    </tr>\n    <tr>\n      <th>4</th>\n      <td>2003</td>\n      <td>1975-07-31</td>\n      <td>Santiago, Chili</td>\n      <td>Military - Chilian Air Force</td>\n      <td>Douglas C-47</td>\n      <td>10.0</td>\n      <td>10.0</td>\n      <td>NaN</td>\n    </tr>\n  </tbody>\n</table>\n</div>"
     },
     "metadata": {},
     "execution_count": 15
    }
   ],
   "source": [
    "crash_clean_df.head()"
   ]
  },
  {
   "cell_type": "code",
   "execution_count": 16,
   "metadata": {},
   "outputs": [],
   "source": [
    "# crash_clean_df.iloc[80:100]"
   ]
  },
  {
   "cell_type": "code",
   "execution_count": 17,
   "metadata": {},
   "outputs": [],
   "source": [
    "crash_clean_df = crash_clean_df.replace({'United Air lines': 'United Airlines',\n",
    "                                         'AVIANCA': 'Avianca',\n",
    "                                         'Varig': ' Varig Log',\n",
    "                                         'Compania Dominicana de Aviacion': 'Dominicana de Aviaci',\n",
    "                                         'Aviogenex (Yugoslavia)': 'Aviogenex',\n",
    "                                         'Stirling Airways': 'Stirling Airlines',\n",
    "                                         'Japan Air Lines': 'Japan Airlines',\n",
    "                                         'Cathay PacifiAirways': 'Cathay Pacific',\n",
    "                                         'British European Airways': 'British Airways',\n",
    "                                         'Spantax': 'Spantax S.A.',\n",
    "                                         'Eastern Air Lines': 'Balitmore Airways',\n",
    "                                         'Alia Royal Jordanian Airlines': ' Royal Jordanian',\n",
    "                                         'Libya Arab Airlines': ' Libyan Airlines',\n",
    "                                         'Turkish Airlines(THY)': 'Turkish Airlines',\n",
    "                                         'Martinair Holland NV': 'Martinair',\n",
    "                                         'Ceskoslevenske Aerolinie': 'Czech Airlines',\n",
    "                                         'Inex Adria Aviopromet': 'Adria Airways',\n",
    "                                         'TAP (Air Portugal)': 'TAP Portugal',\n",
    "                                         'Air India': 'Air India Limited',\n",
    "                                         'Loftledidir IcelandiAirlines': 'Icelandair',\n",
    "                                         'Iran National Airlines': 'Iran Air',\n",
    "                                         'Dan Air Services': 'Dan-Air London',\n",
    "                                         'Korean Airlines': ' Korean Air',\n",
    "                                         'Arrow Airways': 'Arrow Air',\n",
    "                                         'Mexicana': 'Mexicana de Aviaci',\n",
    "                                         'Thai Airways': 'Thai Airways International',\n",
    "                                         'Tajikistan Airlines': 'Tajikistan International Airlines',\n",
    "                                         'Cebu PacifiAir': ' Cebu Pacific',\n",
    "                                         'China Airlines (Taiwan)': 'China Airlines',\n",
    "                                         'EgyptAir': 'Egyptair',\n",
    "                                         'Scandinavian Airlines (SAS)': 'Scandinavian Airlines System',\n",
    "                                         'Flash Air': 'Flash Airlines',\n",
    "                                         'Subir (S7)': 'S7 Airlines',\n",
    "                                         'Pulkovo Airlines': 'Rossiya-Russian Airlines',\n",
    "                                         'TAM (Brazil)': 'TAM Brazilian Airlines',\n",
    "                                         'One-Two-Go Airlines': 'One Two Go Airlines',\n",
    "                                         'Philippine Air Lines': 'Philippine Airlines',\n",
    "                                         'Garuda Indonesia Airlines': 'Garuda Indonesia'})"
   ]
  },
  {
   "cell_type": "code",
   "execution_count": 18,
   "metadata": {},
   "outputs": [
    {
     "output_type": "execute_result",
     "data": {
      "text/plain": [
       "           Date                                           Location  \\\n",
       "0    1970-02-13                             Pin-la-Garenne, France   \n",
       "1    1973-05-11                           Near Semipalatinsk, USSR   \n",
       "2    1973-10-12                                   Acapulco, Mexico   \n",
       "3    1973-10-15                           Fort Smith AFB, Oklahoma   \n",
       "4    1975-07-31                                    Santiago, Chili   \n",
       "...         ...                                                ...   \n",
       "2907 2009-05-20                             Near Madiun, Indonesia   \n",
       "2908 2009-05-26                  Near Isiro, DemocratiRepubliCongo   \n",
       "2909 2009-06-01  AtlantiOcean, 570 miles northeast of Natal, Br...   \n",
       "2910 2009-06-07       Near Port Hope Simpson, Newfoundland, Canada   \n",
       "2911 2009-06-08                  State of Arunachal Pradesh, India   \n",
       "\n",
       "                             Operator                              Type  \\\n",
       "0                           Avia-Taxi                        Cessna 402   \n",
       "1                            Aeroflot                   Ilyushin IL-18B   \n",
       "2                    Avionas  Banamex            de Havilland DH-125-1A   \n",
       "3           Military - U.S. Air Force          Lockheed C-130E Hercules   \n",
       "4        Military - Chilian Air Force                      Douglas C-47   \n",
       "...                               ...                               ...   \n",
       "2907  Military - Indonesian Air Force           Lockheed C-130 Hercules   \n",
       "2908                      Service Air                     Antonov An-26   \n",
       "2909                       Air France                   Airbus A330-203   \n",
       "2910                       Strait Air  Britten-Norman BN-2A-27 Islander   \n",
       "2911      Military - Indian Air Force                     Antonov An-32   \n",
       "\n",
       "      Aboard  Fatalities                                            Summary  \n",
       "0       10.0        10.0                                                NaN  \n",
       "1       61.0        61.0                                                NaN  \n",
       "2        8.0         8.0                 Crashed while approaching to land.  \n",
       "3        7.0         7.0                           Crashed into a mountain.  \n",
       "4       10.0        10.0                                                NaN  \n",
       "...      ...         ...                                                ...  \n",
       "2907   112.0        98.0  While on approach, the military transport cras...  \n",
       "2908     4.0         4.0  The cargo plane crashed while on approach to I...  \n",
       "2909   228.0       228.0  The Airbus went missing over the AtlantiOcean ...  \n",
       "2910     1.0         1.0  The air ambulance crashed into hills while att...  \n",
       "2911    13.0        13.0  The military transport went missing while en r...  \n",
       "\n",
       "[2912 rows x 7 columns]"
      ],
      "text/html": "<div>\n<style scoped>\n    .dataframe tbody tr th:only-of-type {\n        vertical-align: middle;\n    }\n\n    .dataframe tbody tr th {\n        vertical-align: top;\n    }\n\n    .dataframe thead th {\n        text-align: right;\n    }\n</style>\n<table border=\"1\" class=\"dataframe\">\n  <thead>\n    <tr style=\"text-align: right;\">\n      <th></th>\n      <th>Date</th>\n      <th>Location</th>\n      <th>Operator</th>\n      <th>Type</th>\n      <th>Aboard</th>\n      <th>Fatalities</th>\n      <th>Summary</th>\n    </tr>\n  </thead>\n  <tbody>\n    <tr>\n      <th>0</th>\n      <td>1970-02-13</td>\n      <td>Pin-la-Garenne, France</td>\n      <td>Avia-Taxi</td>\n      <td>Cessna 402</td>\n      <td>10.0</td>\n      <td>10.0</td>\n      <td>NaN</td>\n    </tr>\n    <tr>\n      <th>1</th>\n      <td>1973-05-11</td>\n      <td>Near Semipalatinsk, USSR</td>\n      <td>Aeroflot</td>\n      <td>Ilyushin IL-18B</td>\n      <td>61.0</td>\n      <td>61.0</td>\n      <td>NaN</td>\n    </tr>\n    <tr>\n      <th>2</th>\n      <td>1973-10-12</td>\n      <td>Acapulco, Mexico</td>\n      <td>Avionas  Banamex</td>\n      <td>de Havilland DH-125-1A</td>\n      <td>8.0</td>\n      <td>8.0</td>\n      <td>Crashed while approaching to land.</td>\n    </tr>\n    <tr>\n      <th>3</th>\n      <td>1973-10-15</td>\n      <td>Fort Smith AFB, Oklahoma</td>\n      <td>Military - U.S. Air Force</td>\n      <td>Lockheed C-130E Hercules</td>\n      <td>7.0</td>\n      <td>7.0</td>\n      <td>Crashed into a mountain.</td>\n    </tr>\n    <tr>\n      <th>4</th>\n      <td>1975-07-31</td>\n      <td>Santiago, Chili</td>\n      <td>Military - Chilian Air Force</td>\n      <td>Douglas C-47</td>\n      <td>10.0</td>\n      <td>10.0</td>\n      <td>NaN</td>\n    </tr>\n    <tr>\n      <th>...</th>\n      <td>...</td>\n      <td>...</td>\n      <td>...</td>\n      <td>...</td>\n      <td>...</td>\n      <td>...</td>\n      <td>...</td>\n    </tr>\n    <tr>\n      <th>2907</th>\n      <td>2009-05-20</td>\n      <td>Near Madiun, Indonesia</td>\n      <td>Military - Indonesian Air Force</td>\n      <td>Lockheed C-130 Hercules</td>\n      <td>112.0</td>\n      <td>98.0</td>\n      <td>While on approach, the military transport cras...</td>\n    </tr>\n    <tr>\n      <th>2908</th>\n      <td>2009-05-26</td>\n      <td>Near Isiro, DemocratiRepubliCongo</td>\n      <td>Service Air</td>\n      <td>Antonov An-26</td>\n      <td>4.0</td>\n      <td>4.0</td>\n      <td>The cargo plane crashed while on approach to I...</td>\n    </tr>\n    <tr>\n      <th>2909</th>\n      <td>2009-06-01</td>\n      <td>AtlantiOcean, 570 miles northeast of Natal, Br...</td>\n      <td>Air France</td>\n      <td>Airbus A330-203</td>\n      <td>228.0</td>\n      <td>228.0</td>\n      <td>The Airbus went missing over the AtlantiOcean ...</td>\n    </tr>\n    <tr>\n      <th>2910</th>\n      <td>2009-06-07</td>\n      <td>Near Port Hope Simpson, Newfoundland, Canada</td>\n      <td>Strait Air</td>\n      <td>Britten-Norman BN-2A-27 Islander</td>\n      <td>1.0</td>\n      <td>1.0</td>\n      <td>The air ambulance crashed into hills while att...</td>\n    </tr>\n    <tr>\n      <th>2911</th>\n      <td>2009-06-08</td>\n      <td>State of Arunachal Pradesh, India</td>\n      <td>Military - Indian Air Force</td>\n      <td>Antonov An-32</td>\n      <td>13.0</td>\n      <td>13.0</td>\n      <td>The military transport went missing while en r...</td>\n    </tr>\n  </tbody>\n</table>\n<p>2912 rows × 7 columns</p>\n</div>"
     },
     "metadata": {},
     "execution_count": 18
    }
   ],
   "source": [
    "# Dropping the index column\n",
    "crash_clean_df = crash_clean_df.drop(columns=['index'])\n",
    "crash_clean_df"
   ]
  },
  {
   "cell_type": "code",
   "execution_count": 19,
   "metadata": {},
   "outputs": [
    {
     "output_type": "execute_result",
     "data": {
      "text/plain": [
       "      Airline ID                                      Operator ICAO  \\\n",
       "0           -1.0                                       Unknown  NaN   \n",
       "1            1.0                                Private flight  NaN   \n",
       "2            2.0                                   135 Airways  GNL   \n",
       "3            3.0                                 1Time Airline  RNX   \n",
       "4            4.0  2 Sqn No 1 Elementary Flying Training School  WYT   \n",
       "...          ...                                           ...  ...   \n",
       "8756         NaN                              Aviastar Mandiri  NaN   \n",
       "8757         NaN                                    Mimika Air  NaN   \n",
       "8758         NaN                               Aerotuy airline  NaN   \n",
       "8759         NaN                                      Bako Air  NaN   \n",
       "8760         NaN                                    Strait Air  NaN   \n",
       "\n",
       "             Country Active       Date  \\\n",
       "0                 \\N      Y        NaT   \n",
       "1                NaN      Y        NaT   \n",
       "2      United States      N        NaT   \n",
       "3       South Africa      Y        NaT   \n",
       "4     United Kingdom      N        NaT   \n",
       "...              ...    ...        ...   \n",
       "8756             NaN    NaN 2009-04-09   \n",
       "8757             NaN    NaN 2009-04-17   \n",
       "8758             NaN    NaN 2009-04-17   \n",
       "8759             NaN    NaN 2009-04-29   \n",
       "8760             NaN    NaN 2009-06-07   \n",
       "\n",
       "                                          Location  \\\n",
       "0                                              NaN   \n",
       "1                                              NaN   \n",
       "2                                              NaN   \n",
       "3                                              NaN   \n",
       "4                                              NaN   \n",
       "...                                            ...   \n",
       "8756                        Near Wamena, Indonesia   \n",
       "8757                      Mount Gergaji, Indonesia   \n",
       "8758              Canaima National Park, Venezuela   \n",
       "8759            Massamba, DemocratiRepubliof Congo   \n",
       "8760  Near Port Hope Simpson, Newfoundland, Canada   \n",
       "\n",
       "                                  Type  Aboard  Fatalities  \\\n",
       "0                                  NaN     NaN         NaN   \n",
       "1                                  NaN     NaN         NaN   \n",
       "2                                  NaN     NaN         NaN   \n",
       "3                                  NaN     NaN         NaN   \n",
       "4                                  NaN     NaN         NaN   \n",
       "...                                ...     ...         ...   \n",
       "8756     British Aerospace BAe-146-300     6.0         6.0   \n",
       "8757                      Pilatus PC-6    11.0        11.0   \n",
       "8758         Cessna 208B Grand Caravan    11.0         1.0   \n",
       "8759                  Boeing B-737-200     7.0         7.0   \n",
       "8760  Britten-Norman BN-2A-27 Islander     1.0         1.0   \n",
       "\n",
       "                                                Summary  \n",
       "0                                                   NaN  \n",
       "1                                                   NaN  \n",
       "2                                                   NaN  \n",
       "3                                                   NaN  \n",
       "4                                                   NaN  \n",
       "...                                                 ...  \n",
       "8756  The cargo plane crashed into Gunung Pike mount...  \n",
       "8757  The passenger plane crashed in poor weather in...  \n",
       "8758  The plane, carrying 9 tourists, crashed 5 mile...  \n",
       "8759  Crashed while en route on a ferrying flight. T...  \n",
       "8760  The air ambulance crashed into hills while att...  \n",
       "\n",
       "[8761 rows x 11 columns]"
      ],
      "text/html": "<div>\n<style scoped>\n    .dataframe tbody tr th:only-of-type {\n        vertical-align: middle;\n    }\n\n    .dataframe tbody tr th {\n        vertical-align: top;\n    }\n\n    .dataframe thead th {\n        text-align: right;\n    }\n</style>\n<table border=\"1\" class=\"dataframe\">\n  <thead>\n    <tr style=\"text-align: right;\">\n      <th></th>\n      <th>Airline ID</th>\n      <th>Operator</th>\n      <th>ICAO</th>\n      <th>Country</th>\n      <th>Active</th>\n      <th>Date</th>\n      <th>Location</th>\n      <th>Type</th>\n      <th>Aboard</th>\n      <th>Fatalities</th>\n      <th>Summary</th>\n    </tr>\n  </thead>\n  <tbody>\n    <tr>\n      <th>0</th>\n      <td>-1.0</td>\n      <td>Unknown</td>\n      <td>NaN</td>\n      <td>\\N</td>\n      <td>Y</td>\n      <td>NaT</td>\n      <td>NaN</td>\n      <td>NaN</td>\n      <td>NaN</td>\n      <td>NaN</td>\n      <td>NaN</td>\n    </tr>\n    <tr>\n      <th>1</th>\n      <td>1.0</td>\n      <td>Private flight</td>\n      <td>NaN</td>\n      <td>NaN</td>\n      <td>Y</td>\n      <td>NaT</td>\n      <td>NaN</td>\n      <td>NaN</td>\n      <td>NaN</td>\n      <td>NaN</td>\n      <td>NaN</td>\n    </tr>\n    <tr>\n      <th>2</th>\n      <td>2.0</td>\n      <td>135 Airways</td>\n      <td>GNL</td>\n      <td>United States</td>\n      <td>N</td>\n      <td>NaT</td>\n      <td>NaN</td>\n      <td>NaN</td>\n      <td>NaN</td>\n      <td>NaN</td>\n      <td>NaN</td>\n    </tr>\n    <tr>\n      <th>3</th>\n      <td>3.0</td>\n      <td>1Time Airline</td>\n      <td>RNX</td>\n      <td>South Africa</td>\n      <td>Y</td>\n      <td>NaT</td>\n      <td>NaN</td>\n      <td>NaN</td>\n      <td>NaN</td>\n      <td>NaN</td>\n      <td>NaN</td>\n    </tr>\n    <tr>\n      <th>4</th>\n      <td>4.0</td>\n      <td>2 Sqn No 1 Elementary Flying Training School</td>\n      <td>WYT</td>\n      <td>United Kingdom</td>\n      <td>N</td>\n      <td>NaT</td>\n      <td>NaN</td>\n      <td>NaN</td>\n      <td>NaN</td>\n      <td>NaN</td>\n      <td>NaN</td>\n    </tr>\n    <tr>\n      <th>...</th>\n      <td>...</td>\n      <td>...</td>\n      <td>...</td>\n      <td>...</td>\n      <td>...</td>\n      <td>...</td>\n      <td>...</td>\n      <td>...</td>\n      <td>...</td>\n      <td>...</td>\n      <td>...</td>\n    </tr>\n    <tr>\n      <th>8756</th>\n      <td>NaN</td>\n      <td>Aviastar Mandiri</td>\n      <td>NaN</td>\n      <td>NaN</td>\n      <td>NaN</td>\n      <td>2009-04-09</td>\n      <td>Near Wamena, Indonesia</td>\n      <td>British Aerospace BAe-146-300</td>\n      <td>6.0</td>\n      <td>6.0</td>\n      <td>The cargo plane crashed into Gunung Pike mount...</td>\n    </tr>\n    <tr>\n      <th>8757</th>\n      <td>NaN</td>\n      <td>Mimika Air</td>\n      <td>NaN</td>\n      <td>NaN</td>\n      <td>NaN</td>\n      <td>2009-04-17</td>\n      <td>Mount Gergaji, Indonesia</td>\n      <td>Pilatus PC-6</td>\n      <td>11.0</td>\n      <td>11.0</td>\n      <td>The passenger plane crashed in poor weather in...</td>\n    </tr>\n    <tr>\n      <th>8758</th>\n      <td>NaN</td>\n      <td>Aerotuy airline</td>\n      <td>NaN</td>\n      <td>NaN</td>\n      <td>NaN</td>\n      <td>2009-04-17</td>\n      <td>Canaima National Park, Venezuela</td>\n      <td>Cessna 208B Grand Caravan</td>\n      <td>11.0</td>\n      <td>1.0</td>\n      <td>The plane, carrying 9 tourists, crashed 5 mile...</td>\n    </tr>\n    <tr>\n      <th>8759</th>\n      <td>NaN</td>\n      <td>Bako Air</td>\n      <td>NaN</td>\n      <td>NaN</td>\n      <td>NaN</td>\n      <td>2009-04-29</td>\n      <td>Massamba, DemocratiRepubliof Congo</td>\n      <td>Boeing B-737-200</td>\n      <td>7.0</td>\n      <td>7.0</td>\n      <td>Crashed while en route on a ferrying flight. T...</td>\n    </tr>\n    <tr>\n      <th>8760</th>\n      <td>NaN</td>\n      <td>Strait Air</td>\n      <td>NaN</td>\n      <td>NaN</td>\n      <td>NaN</td>\n      <td>2009-06-07</td>\n      <td>Near Port Hope Simpson, Newfoundland, Canada</td>\n      <td>Britten-Norman BN-2A-27 Islander</td>\n      <td>1.0</td>\n      <td>1.0</td>\n      <td>The air ambulance crashed into hills while att...</td>\n    </tr>\n  </tbody>\n</table>\n<p>8761 rows × 11 columns</p>\n</div>"
     },
     "metadata": {},
     "execution_count": 19
    }
   ],
   "source": [
    "# Merging the two tables together\n",
    "airline_crash_df = pd.merge(airline_clean_df, crash_clean_df, how='outer', on='Operator')\n",
    "airline_crash_df"
   ]
  },
  {
   "cell_type": "code",
   "execution_count": 20,
   "metadata": {},
   "outputs": [
    {
     "output_type": "execute_result",
     "data": {
      "text/plain": [
       "      Airline ID           Operator ICAO        Country Active       Date  \\\n",
       "23          22.0     Aloha Airlines  AAH  United States      Y 1988-04-28   \n",
       "25          24.0  American Airlines  AAL  United States      Y 1976-04-27   \n",
       "26          24.0  American Airlines  AAL  United States      Y 1979-05-25   \n",
       "27          24.0  American Airlines  AAL  United States      Y 1979-11-15   \n",
       "28          24.0  American Airlines  AAL  United States      Y 1985-04-16   \n",
       "...          ...                ...  ...            ...    ...        ...   \n",
       "8756         NaN   Aviastar Mandiri  NaN            NaN    NaN 2009-04-09   \n",
       "8757         NaN         Mimika Air  NaN            NaN    NaN 2009-04-17   \n",
       "8758         NaN    Aerotuy airline  NaN            NaN    NaN 2009-04-17   \n",
       "8759         NaN           Bako Air  NaN            NaN    NaN 2009-04-29   \n",
       "8760         NaN         Strait Air  NaN            NaN    NaN 2009-06-07   \n",
       "\n",
       "                                          Location  \\\n",
       "23                                    Maui, Hawaii   \n",
       "25                      St. Thomas, Virgin Islands   \n",
       "26                        Chicago O'Hare, Illinois   \n",
       "27                          Near Chicago, Illinois   \n",
       "28                          Las Cruces, New Mexico   \n",
       "...                                            ...   \n",
       "8756                        Near Wamena, Indonesia   \n",
       "8757                      Mount Gergaji, Indonesia   \n",
       "8758              Canaima National Park, Venezuela   \n",
       "8759            Massamba, DemocratiRepubliof Congo   \n",
       "8760  Near Port Hope Simpson, Newfoundland, Canada   \n",
       "\n",
       "                                  Type  Aboard  Fatalities  \\\n",
       "23                    Boeing B-737-297    95.0         1.0   \n",
       "25                     Boeing B-727-95    88.0        37.0   \n",
       "26          McDonnell Douglas DC-10-10   271.0       271.0   \n",
       "27                        Boeing B-727    78.0         0.0   \n",
       "28                    Boeing B-727-227    89.0         0.0   \n",
       "...                                ...     ...         ...   \n",
       "8756     British Aerospace BAe-146-300     6.0         6.0   \n",
       "8757                      Pilatus PC-6    11.0        11.0   \n",
       "8758         Cessna 208B Grand Caravan    11.0         1.0   \n",
       "8759                  Boeing B-737-200     7.0         7.0   \n",
       "8760  Britten-Norman BN-2A-27 Islander     1.0         1.0   \n",
       "\n",
       "                                                Summary  \n",
       "23    The aircraft suffered separation of the top of...  \n",
       "25    After touching down 2,200 feet down the runway...  \n",
       "26    During takeoff just, as the plane lifted from ...  \n",
       "27    While en route from Chicago to Washington an e...  \n",
       "28    While cruising at FL 350 a loud noise was hear...  \n",
       "...                                                 ...  \n",
       "8756  The cargo plane crashed into Gunung Pike mount...  \n",
       "8757  The passenger plane crashed in poor weather in...  \n",
       "8758  The plane, carrying 9 tourists, crashed 5 mile...  \n",
       "8759  Crashed while en route on a ferrying flight. T...  \n",
       "8760  The air ambulance crashed into hills while att...  \n",
       "\n",
       "[2949 rows x 11 columns]"
      ],
      "text/html": "<div>\n<style scoped>\n    .dataframe tbody tr th:only-of-type {\n        vertical-align: middle;\n    }\n\n    .dataframe tbody tr th {\n        vertical-align: top;\n    }\n\n    .dataframe thead th {\n        text-align: right;\n    }\n</style>\n<table border=\"1\" class=\"dataframe\">\n  <thead>\n    <tr style=\"text-align: right;\">\n      <th></th>\n      <th>Airline ID</th>\n      <th>Operator</th>\n      <th>ICAO</th>\n      <th>Country</th>\n      <th>Active</th>\n      <th>Date</th>\n      <th>Location</th>\n      <th>Type</th>\n      <th>Aboard</th>\n      <th>Fatalities</th>\n      <th>Summary</th>\n    </tr>\n  </thead>\n  <tbody>\n    <tr>\n      <th>23</th>\n      <td>22.0</td>\n      <td>Aloha Airlines</td>\n      <td>AAH</td>\n      <td>United States</td>\n      <td>Y</td>\n      <td>1988-04-28</td>\n      <td>Maui, Hawaii</td>\n      <td>Boeing B-737-297</td>\n      <td>95.0</td>\n      <td>1.0</td>\n      <td>The aircraft suffered separation of the top of...</td>\n    </tr>\n    <tr>\n      <th>25</th>\n      <td>24.0</td>\n      <td>American Airlines</td>\n      <td>AAL</td>\n      <td>United States</td>\n      <td>Y</td>\n      <td>1976-04-27</td>\n      <td>St. Thomas, Virgin Islands</td>\n      <td>Boeing B-727-95</td>\n      <td>88.0</td>\n      <td>37.0</td>\n      <td>After touching down 2,200 feet down the runway...</td>\n    </tr>\n    <tr>\n      <th>26</th>\n      <td>24.0</td>\n      <td>American Airlines</td>\n      <td>AAL</td>\n      <td>United States</td>\n      <td>Y</td>\n      <td>1979-05-25</td>\n      <td>Chicago O'Hare, Illinois</td>\n      <td>McDonnell Douglas DC-10-10</td>\n      <td>271.0</td>\n      <td>271.0</td>\n      <td>During takeoff just, as the plane lifted from ...</td>\n    </tr>\n    <tr>\n      <th>27</th>\n      <td>24.0</td>\n      <td>American Airlines</td>\n      <td>AAL</td>\n      <td>United States</td>\n      <td>Y</td>\n      <td>1979-11-15</td>\n      <td>Near Chicago, Illinois</td>\n      <td>Boeing B-727</td>\n      <td>78.0</td>\n      <td>0.0</td>\n      <td>While en route from Chicago to Washington an e...</td>\n    </tr>\n    <tr>\n      <th>28</th>\n      <td>24.0</td>\n      <td>American Airlines</td>\n      <td>AAL</td>\n      <td>United States</td>\n      <td>Y</td>\n      <td>1985-04-16</td>\n      <td>Las Cruces, New Mexico</td>\n      <td>Boeing B-727-227</td>\n      <td>89.0</td>\n      <td>0.0</td>\n      <td>While cruising at FL 350 a loud noise was hear...</td>\n    </tr>\n    <tr>\n      <th>...</th>\n      <td>...</td>\n      <td>...</td>\n      <td>...</td>\n      <td>...</td>\n      <td>...</td>\n      <td>...</td>\n      <td>...</td>\n      <td>...</td>\n      <td>...</td>\n      <td>...</td>\n      <td>...</td>\n    </tr>\n    <tr>\n      <th>8756</th>\n      <td>NaN</td>\n      <td>Aviastar Mandiri</td>\n      <td>NaN</td>\n      <td>NaN</td>\n      <td>NaN</td>\n      <td>2009-04-09</td>\n      <td>Near Wamena, Indonesia</td>\n      <td>British Aerospace BAe-146-300</td>\n      <td>6.0</td>\n      <td>6.0</td>\n      <td>The cargo plane crashed into Gunung Pike mount...</td>\n    </tr>\n    <tr>\n      <th>8757</th>\n      <td>NaN</td>\n      <td>Mimika Air</td>\n      <td>NaN</td>\n      <td>NaN</td>\n      <td>NaN</td>\n      <td>2009-04-17</td>\n      <td>Mount Gergaji, Indonesia</td>\n      <td>Pilatus PC-6</td>\n      <td>11.0</td>\n      <td>11.0</td>\n      <td>The passenger plane crashed in poor weather in...</td>\n    </tr>\n    <tr>\n      <th>8758</th>\n      <td>NaN</td>\n      <td>Aerotuy airline</td>\n      <td>NaN</td>\n      <td>NaN</td>\n      <td>NaN</td>\n      <td>2009-04-17</td>\n      <td>Canaima National Park, Venezuela</td>\n      <td>Cessna 208B Grand Caravan</td>\n      <td>11.0</td>\n      <td>1.0</td>\n      <td>The plane, carrying 9 tourists, crashed 5 mile...</td>\n    </tr>\n    <tr>\n      <th>8759</th>\n      <td>NaN</td>\n      <td>Bako Air</td>\n      <td>NaN</td>\n      <td>NaN</td>\n      <td>NaN</td>\n      <td>2009-04-29</td>\n      <td>Massamba, DemocratiRepubliof Congo</td>\n      <td>Boeing B-737-200</td>\n      <td>7.0</td>\n      <td>7.0</td>\n      <td>Crashed while en route on a ferrying flight. T...</td>\n    </tr>\n    <tr>\n      <th>8760</th>\n      <td>NaN</td>\n      <td>Strait Air</td>\n      <td>NaN</td>\n      <td>NaN</td>\n      <td>NaN</td>\n      <td>2009-06-07</td>\n      <td>Near Port Hope Simpson, Newfoundland, Canada</td>\n      <td>Britten-Norman BN-2A-27 Islander</td>\n      <td>1.0</td>\n      <td>1.0</td>\n      <td>The air ambulance crashed into hills while att...</td>\n    </tr>\n  </tbody>\n</table>\n<p>2949 rows × 11 columns</p>\n</div>"
     },
     "metadata": {},
     "execution_count": 20
    }
   ],
   "source": [
    "# Dropping NaN by Date\n",
    "airline_crash_df = airline_crash_df[airline_crash_df['Date'].notna()]\n",
    "airline_crash_df"
   ]
  },
  {
   "cell_type": "code",
   "execution_count": 21,
   "metadata": {},
   "outputs": [
    {
     "output_type": "execute_result",
     "data": {
      "text/plain": [
       "      Airline ID           Operator ICAO              Country Active  \\\n",
       "23          22.0     Aloha Airlines  AAH        United States      Y   \n",
       "25          24.0  American Airlines  AAL        United States      Y   \n",
       "26          24.0  American Airlines  AAL        United States      Y   \n",
       "27          24.0  American Airlines  AAL        United States      Y   \n",
       "28          24.0  American Airlines  AAL        United States      Y   \n",
       "...          ...                ...  ...                  ...    ...   \n",
       "6474     18140.0       Spantax S.A.  BXS                Spain      N   \n",
       "6475     18140.0       Spantax S.A.  BXS                Spain      N   \n",
       "6476     18140.0       Spantax S.A.  BXS                Spain      N   \n",
       "6477     18140.0       Spantax S.A.  BXS                Spain      N   \n",
       "6515     18762.0         Lina Congo   \\N  Congo (Brazzaville)      N   \n",
       "\n",
       "           Date                    Location  \\\n",
       "23   1988-04-28                Maui, Hawaii   \n",
       "25   1976-04-27  St. Thomas, Virgin Islands   \n",
       "26   1979-05-25    Chicago O'Hare, Illinois   \n",
       "27   1979-11-15      Near Chicago, Illinois   \n",
       "28   1985-04-16      Las Cruces, New Mexico   \n",
       "...         ...                         ...   \n",
       "6474 1972-09-30               Madrid, Spain   \n",
       "6475 1972-12-03   Tenerife,  Canary Islands   \n",
       "6476 1980-08-13          Sa Cabaneta, Spain   \n",
       "6477 1982-09-13          Near Malaga, Spain   \n",
       "6515 1992-03-12             Etsouali, Congo   \n",
       "\n",
       "                                          Type  Aboard  Fatalities  \\\n",
       "23                            Boeing B-737-297    95.0         1.0   \n",
       "25                             Boeing B-727-95    88.0        37.0   \n",
       "26                  McDonnell Douglas DC-10-10   271.0       271.0   \n",
       "27                                Boeing B-727    78.0         0.0   \n",
       "28                            Boeing B-727-227    89.0         0.0   \n",
       "...                                        ...     ...         ...   \n",
       "6474                             Douglas C-47B     6.0         1.0   \n",
       "6475             Convair CV-990-30A-5 Coronado   155.0       155.0   \n",
       "6476                               Learjet 35A     4.0         4.0   \n",
       "6477              McDonnell Douglas DC-10-30CF   394.0        50.0   \n",
       "6515  de Havilland Canada DHC-6 Twin Otter 300     8.0         3.0   \n",
       "\n",
       "                                                Summary  \n",
       "23    The aircraft suffered separation of the top of...  \n",
       "25    After touching down 2,200 feet down the runway...  \n",
       "26    During takeoff just, as the plane lifted from ...  \n",
       "27    While en route from Chicago to Washington an e...  \n",
       "28    While cruising at FL 350 a loud noise was hear...  \n",
       "...                                                 ...  \n",
       "6474  The student pilot rotated too quickly, the pla...  \n",
       "6475  Reached a height of 300 feet  when the plane s...  \n",
       "6476          Slamed into a mountain while on approach.  \n",
       "6477  The aircraft crashed during takeoff after inte...  \n",
       "6515              Crashed during a severe thunderstorm.  \n",
       "\n",
       "[901 rows x 11 columns]"
      ],
      "text/html": "<div>\n<style scoped>\n    .dataframe tbody tr th:only-of-type {\n        vertical-align: middle;\n    }\n\n    .dataframe tbody tr th {\n        vertical-align: top;\n    }\n\n    .dataframe thead th {\n        text-align: right;\n    }\n</style>\n<table border=\"1\" class=\"dataframe\">\n  <thead>\n    <tr style=\"text-align: right;\">\n      <th></th>\n      <th>Airline ID</th>\n      <th>Operator</th>\n      <th>ICAO</th>\n      <th>Country</th>\n      <th>Active</th>\n      <th>Date</th>\n      <th>Location</th>\n      <th>Type</th>\n      <th>Aboard</th>\n      <th>Fatalities</th>\n      <th>Summary</th>\n    </tr>\n  </thead>\n  <tbody>\n    <tr>\n      <th>23</th>\n      <td>22.0</td>\n      <td>Aloha Airlines</td>\n      <td>AAH</td>\n      <td>United States</td>\n      <td>Y</td>\n      <td>1988-04-28</td>\n      <td>Maui, Hawaii</td>\n      <td>Boeing B-737-297</td>\n      <td>95.0</td>\n      <td>1.0</td>\n      <td>The aircraft suffered separation of the top of...</td>\n    </tr>\n    <tr>\n      <th>25</th>\n      <td>24.0</td>\n      <td>American Airlines</td>\n      <td>AAL</td>\n      <td>United States</td>\n      <td>Y</td>\n      <td>1976-04-27</td>\n      <td>St. Thomas, Virgin Islands</td>\n      <td>Boeing B-727-95</td>\n      <td>88.0</td>\n      <td>37.0</td>\n      <td>After touching down 2,200 feet down the runway...</td>\n    </tr>\n    <tr>\n      <th>26</th>\n      <td>24.0</td>\n      <td>American Airlines</td>\n      <td>AAL</td>\n      <td>United States</td>\n      <td>Y</td>\n      <td>1979-05-25</td>\n      <td>Chicago O'Hare, Illinois</td>\n      <td>McDonnell Douglas DC-10-10</td>\n      <td>271.0</td>\n      <td>271.0</td>\n      <td>During takeoff just, as the plane lifted from ...</td>\n    </tr>\n    <tr>\n      <th>27</th>\n      <td>24.0</td>\n      <td>American Airlines</td>\n      <td>AAL</td>\n      <td>United States</td>\n      <td>Y</td>\n      <td>1979-11-15</td>\n      <td>Near Chicago, Illinois</td>\n      <td>Boeing B-727</td>\n      <td>78.0</td>\n      <td>0.0</td>\n      <td>While en route from Chicago to Washington an e...</td>\n    </tr>\n    <tr>\n      <th>28</th>\n      <td>24.0</td>\n      <td>American Airlines</td>\n      <td>AAL</td>\n      <td>United States</td>\n      <td>Y</td>\n      <td>1985-04-16</td>\n      <td>Las Cruces, New Mexico</td>\n      <td>Boeing B-727-227</td>\n      <td>89.0</td>\n      <td>0.0</td>\n      <td>While cruising at FL 350 a loud noise was hear...</td>\n    </tr>\n    <tr>\n      <th>...</th>\n      <td>...</td>\n      <td>...</td>\n      <td>...</td>\n      <td>...</td>\n      <td>...</td>\n      <td>...</td>\n      <td>...</td>\n      <td>...</td>\n      <td>...</td>\n      <td>...</td>\n      <td>...</td>\n    </tr>\n    <tr>\n      <th>6474</th>\n      <td>18140.0</td>\n      <td>Spantax S.A.</td>\n      <td>BXS</td>\n      <td>Spain</td>\n      <td>N</td>\n      <td>1972-09-30</td>\n      <td>Madrid, Spain</td>\n      <td>Douglas C-47B</td>\n      <td>6.0</td>\n      <td>1.0</td>\n      <td>The student pilot rotated too quickly, the pla...</td>\n    </tr>\n    <tr>\n      <th>6475</th>\n      <td>18140.0</td>\n      <td>Spantax S.A.</td>\n      <td>BXS</td>\n      <td>Spain</td>\n      <td>N</td>\n      <td>1972-12-03</td>\n      <td>Tenerife,  Canary Islands</td>\n      <td>Convair CV-990-30A-5 Coronado</td>\n      <td>155.0</td>\n      <td>155.0</td>\n      <td>Reached a height of 300 feet  when the plane s...</td>\n    </tr>\n    <tr>\n      <th>6476</th>\n      <td>18140.0</td>\n      <td>Spantax S.A.</td>\n      <td>BXS</td>\n      <td>Spain</td>\n      <td>N</td>\n      <td>1980-08-13</td>\n      <td>Sa Cabaneta, Spain</td>\n      <td>Learjet 35A</td>\n      <td>4.0</td>\n      <td>4.0</td>\n      <td>Slamed into a mountain while on approach.</td>\n    </tr>\n    <tr>\n      <th>6477</th>\n      <td>18140.0</td>\n      <td>Spantax S.A.</td>\n      <td>BXS</td>\n      <td>Spain</td>\n      <td>N</td>\n      <td>1982-09-13</td>\n      <td>Near Malaga, Spain</td>\n      <td>McDonnell Douglas DC-10-30CF</td>\n      <td>394.0</td>\n      <td>50.0</td>\n      <td>The aircraft crashed during takeoff after inte...</td>\n    </tr>\n    <tr>\n      <th>6515</th>\n      <td>18762.0</td>\n      <td>Lina Congo</td>\n      <td>\\N</td>\n      <td>Congo (Brazzaville)</td>\n      <td>N</td>\n      <td>1992-03-12</td>\n      <td>Etsouali, Congo</td>\n      <td>de Havilland Canada DHC-6 Twin Otter 300</td>\n      <td>8.0</td>\n      <td>3.0</td>\n      <td>Crashed during a severe thunderstorm.</td>\n    </tr>\n  </tbody>\n</table>\n<p>901 rows × 11 columns</p>\n</div>"
     },
     "metadata": {},
     "execution_count": 21
    }
   ],
   "source": [
    "# Dropping NaN by Active\n",
    "airline_crash_df = airline_crash_df[airline_crash_df['Active'].notna()]\n",
    "airline_crash_df"
   ]
  },
  {
   "cell_type": "code",
   "execution_count": 22,
   "metadata": {},
   "outputs": [
    {
     "output_type": "execute_result",
     "data": {
      "text/plain": [
       "     Airline ID Operator ICAO   Country Active       Date  \\\n",
       "711       515.0  Avianca  AVA  Colombia      Y 1973-08-22   \n",
       "712       515.0  Avianca  AVA  Colombia      Y 1974-08-12   \n",
       "713       515.0  Avianca  AVA  Colombia      Y 1975-09-30   \n",
       "714       515.0  Avianca  AVA  Colombia      Y 1983-11-27   \n",
       "715       515.0  Avianca  AVA  Colombia      Y 1988-03-17   \n",
       "716       515.0  Avianca  AVA  Colombia      Y 1989-11-27   \n",
       "717       515.0  Avianca  AVA  Colombia      Y 1990-01-25   \n",
       "\n",
       "                                   Location               Type  Aboard  \\\n",
       "711                      El Yopal, Colombia       Douglas DC-3    17.0   \n",
       "712                          Cali, Colombia    Douglas C-47-DL    27.0   \n",
       "713                  Barranquilla, Colombia     Boeing 727-24C     4.0   \n",
       "714                   Madrid-Barajas, Spain  Boeing B-747-283B   192.0   \n",
       "715  Near Cucuta, N of  Santander, Colombia    Boeing B-727-21   143.0   \n",
       "716                        Bogota, Colombia    Boeing B-727-21   107.0   \n",
       "717                     Cove Neck, New York  Boeing B-707-321B   158.0   \n",
       "\n",
       "     Fatalities                                            Summary  \n",
       "711        16.0  Struck a hill in heavy fog. Flying VFR in IFR ...  \n",
       "712        27.0  The crew became lost in rainy weather and cras...  \n",
       "713         4.0  The cargo plane struck trees and broke up on a...  \n",
       "714       181.0  While attempting to land at Madrid, the crew i...  \n",
       "715       143.0  The aircraft struck a mountain at 6,200 feet a...  \n",
       "716       107.0  The plane burst into flames and crashed shortl...  \n",
       "717        73.0  The aircraft was put in a series of extended h...  "
      ],
      "text/html": "<div>\n<style scoped>\n    .dataframe tbody tr th:only-of-type {\n        vertical-align: middle;\n    }\n\n    .dataframe tbody tr th {\n        vertical-align: top;\n    }\n\n    .dataframe thead th {\n        text-align: right;\n    }\n</style>\n<table border=\"1\" class=\"dataframe\">\n  <thead>\n    <tr style=\"text-align: right;\">\n      <th></th>\n      <th>Airline ID</th>\n      <th>Operator</th>\n      <th>ICAO</th>\n      <th>Country</th>\n      <th>Active</th>\n      <th>Date</th>\n      <th>Location</th>\n      <th>Type</th>\n      <th>Aboard</th>\n      <th>Fatalities</th>\n      <th>Summary</th>\n    </tr>\n  </thead>\n  <tbody>\n    <tr>\n      <th>711</th>\n      <td>515.0</td>\n      <td>Avianca</td>\n      <td>AVA</td>\n      <td>Colombia</td>\n      <td>Y</td>\n      <td>1973-08-22</td>\n      <td>El Yopal, Colombia</td>\n      <td>Douglas DC-3</td>\n      <td>17.0</td>\n      <td>16.0</td>\n      <td>Struck a hill in heavy fog. Flying VFR in IFR ...</td>\n    </tr>\n    <tr>\n      <th>712</th>\n      <td>515.0</td>\n      <td>Avianca</td>\n      <td>AVA</td>\n      <td>Colombia</td>\n      <td>Y</td>\n      <td>1974-08-12</td>\n      <td>Cali, Colombia</td>\n      <td>Douglas C-47-DL</td>\n      <td>27.0</td>\n      <td>27.0</td>\n      <td>The crew became lost in rainy weather and cras...</td>\n    </tr>\n    <tr>\n      <th>713</th>\n      <td>515.0</td>\n      <td>Avianca</td>\n      <td>AVA</td>\n      <td>Colombia</td>\n      <td>Y</td>\n      <td>1975-09-30</td>\n      <td>Barranquilla, Colombia</td>\n      <td>Boeing 727-24C</td>\n      <td>4.0</td>\n      <td>4.0</td>\n      <td>The cargo plane struck trees and broke up on a...</td>\n    </tr>\n    <tr>\n      <th>714</th>\n      <td>515.0</td>\n      <td>Avianca</td>\n      <td>AVA</td>\n      <td>Colombia</td>\n      <td>Y</td>\n      <td>1983-11-27</td>\n      <td>Madrid-Barajas, Spain</td>\n      <td>Boeing B-747-283B</td>\n      <td>192.0</td>\n      <td>181.0</td>\n      <td>While attempting to land at Madrid, the crew i...</td>\n    </tr>\n    <tr>\n      <th>715</th>\n      <td>515.0</td>\n      <td>Avianca</td>\n      <td>AVA</td>\n      <td>Colombia</td>\n      <td>Y</td>\n      <td>1988-03-17</td>\n      <td>Near Cucuta, N of  Santander, Colombia</td>\n      <td>Boeing B-727-21</td>\n      <td>143.0</td>\n      <td>143.0</td>\n      <td>The aircraft struck a mountain at 6,200 feet a...</td>\n    </tr>\n    <tr>\n      <th>716</th>\n      <td>515.0</td>\n      <td>Avianca</td>\n      <td>AVA</td>\n      <td>Colombia</td>\n      <td>Y</td>\n      <td>1989-11-27</td>\n      <td>Bogota, Colombia</td>\n      <td>Boeing B-727-21</td>\n      <td>107.0</td>\n      <td>107.0</td>\n      <td>The plane burst into flames and crashed shortl...</td>\n    </tr>\n    <tr>\n      <th>717</th>\n      <td>515.0</td>\n      <td>Avianca</td>\n      <td>AVA</td>\n      <td>Colombia</td>\n      <td>Y</td>\n      <td>1990-01-25</td>\n      <td>Cove Neck, New York</td>\n      <td>Boeing B-707-321B</td>\n      <td>158.0</td>\n      <td>73.0</td>\n      <td>The aircraft was put in a series of extended h...</td>\n    </tr>\n  </tbody>\n</table>\n</div>"
     },
     "metadata": {},
     "execution_count": 22
    }
   ],
   "source": [
    "# Test to see Airline values are entered \n",
    "airline_crash_df[airline_crash_df['Operator'] == 'Avianca']"
   ]
  },
  {
   "cell_type": "code",
   "execution_count": 23,
   "metadata": {},
   "outputs": [
    {
     "output_type": "execute_result",
     "data": {
      "text/plain": [
       "United States        148\n",
       "Russia               146\n",
       "France                52\n",
       "Indonesia             50\n",
       "United Kingdom        28\n",
       "Canada                27\n",
       "Colombia              24\n",
       "Taiwan                21\n",
       "China                 17\n",
       "Philippines           17\n",
       "India                 16\n",
       "Brazil                15\n",
       "Sudan                 14\n",
       "Spain                 13\n",
       "Egypt                 12\n",
       "Nigeria               10\n",
       "Japan                 10\n",
       "Ecuador               10\n",
       "Romania                9\n",
       "Papua New Guinea       9\n",
       "Ethiopia               9\n",
       "Angola                 9\n",
       "South Africa           9\n",
       "Pakistan               8\n",
       "Thailand               8\n",
       "Nepal                  7\n",
       "Uganda                 7\n",
       "Afghanistan            7\n",
       "Venezuela              6\n",
       "Italy                  6\n",
       "Mexico                 6\n",
       "Sweden                 5\n",
       "Malaysia               5\n",
       "Poland                 5\n",
       "Algeria                4\n",
       "Argentina              4\n",
       "Kenya                  4\n",
       "Guatemala              4\n",
       "Cameroon               4\n",
       "Portugal               4\n",
       "Iran                   4\n",
       "New Zealand            3\n",
       "Somali Republic        3\n",
       "Azerbaijan             3\n",
       "Ukraine                3\n",
       "Republic of Korea      3\n",
       "Tajikistan             3\n",
       "Guyana                 3\n",
       "Uzbekistan             3\n",
       "Germany                3\n",
       "Name: Country, dtype: int64"
      ]
     },
     "metadata": {},
     "execution_count": 23
    }
   ],
   "source": [
    "# Number of crashes per Operator Country\n",
    "airline_crash_df[\"Country\"].value_counts().head(50)"
   ]
  },
  {
   "cell_type": "code",
   "execution_count": 24,
   "metadata": {},
   "outputs": [
    {
     "output_type": "execute_result",
     "data": {
      "text/plain": [
       "Y    540\n",
       "N    361\n",
       "Name: Active, dtype: int64"
      ]
     },
     "metadata": {},
     "execution_count": 24
    }
   ],
   "source": [
    "# Number of active operators\n",
    "airline_crash_df[\"Active\"].value_counts()"
   ]
  },
  {
   "cell_type": "code",
   "execution_count": 25,
   "metadata": {},
   "outputs": [
    {
     "output_type": "execute_result",
     "data": {
      "text/plain": [
       "Aeroflot                           141\n",
       "Air Taxi                            41\n",
       "Merpati Nusantara Airlines          16\n",
       "Philippine Airlines                 14\n",
       "Indian Airlines                     13\n",
       "British Airways                     12\n",
       "Pan American World Airways          12\n",
       "China Airlines                      12\n",
       "Garuda Indonesia                    11\n",
       "SATENA                              10\n",
       "National Airlines                   10\n",
       "American Airlines                   10\n",
       "Ethiopian Airlines                   9\n",
       "Balkan Bulgarian Airlines            9\n",
       "Tarom                                9\n",
       "Egyptair                             9\n",
       "Air France                           8\n",
       "Pakistan International Airlines      8\n",
       "Trans World Airlines                 7\n",
       "VASP                                 7\n",
       "Avianca                              7\n",
       "Japan Airlines                       7\n",
       "TAME                                 7\n",
       "Talair                               7\n",
       "Comair                               6\n",
       "Eagle Air                            6\n",
       "Delta Air Lines                      6\n",
       "Ariana Afghan Airlines               6\n",
       "Thai Airways International           6\n",
       "Air Express                          6\n",
       "Royal Nepal Airlines                 5\n",
       "Spantax S.A.                         5\n",
       "Pelita Air Service                   5\n",
       "TAAG Angola Airlines                 5\n",
       "TAM Brazilian Airlines               5\n",
       "Sudan Airways                        5\n",
       "Formosa Airlines                     5\n",
       "LOT Polish Airlines                  5\n",
       "Bali International Air Service       4\n",
       "Ameriflight                          4\n",
       "Cameroon Airlines                    4\n",
       "Dan-Air London                       4\n",
       "Iran Air                             4\n",
       "Air Canada                           4\n",
       "Eagle Aviation                       4\n",
       "China Eastern Airlines               4\n",
       "Airlink                              4\n",
       "Continental Airlines                 4\n",
       "Aviateca                             4\n",
       "Universal Airlines                   3\n",
       "Name: Operator, dtype: int64"
      ]
     },
     "metadata": {},
     "execution_count": 25
    }
   ],
   "source": [
    "# Operators with the most crashes\n",
    "airline_crash_df[\"Operator\"].value_counts().head(50)"
   ]
  },
  {
   "cell_type": "code",
   "execution_count": null,
   "metadata": {},
   "outputs": [],
   "source": []
  }
 ]
}