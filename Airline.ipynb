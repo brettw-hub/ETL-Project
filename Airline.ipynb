{
 "metadata": {
  "language_info": {
   "codemirror_mode": {
    "name": "ipython",
    "version": 3
   },
   "file_extension": ".py",
   "mimetype": "text/x-python",
   "name": "python",
   "nbconvert_exporter": "python",
   "pygments_lexer": "ipython3",
   "version": "3.8.3-final"
  },
  "orig_nbformat": 2,
  "kernelspec": {
   "name": "python3",
   "display_name": "Python 3"
  }
 },
 "nbformat": 4,
 "nbformat_minor": 2,
 "cells": [
  {
   "cell_type": "code",
   "execution_count": 1,
   "metadata": {},
   "outputs": [],
   "source": [
    "import pandas as pd\n",
    "from sqlalchemy import create_engine\n",
    "import datetime as dt"
   ]
  },
  {
   "cell_type": "code",
   "execution_count": 2,
   "metadata": {},
   "outputs": [],
   "source": [
    "# url = "
   ]
  },
  {
   "cell_type": "code",
   "execution_count": 3,
   "metadata": {},
   "outputs": [
    {
     "output_type": "execute_result",
     "data": {
      "text/plain": [
       "   Airline ID                                          Name Alias IATA ICAO  \\\n",
       "0          -1                                       Unknown    \\N    -  NaN   \n",
       "1           1                                Private flight    \\N    -  NaN   \n",
       "2           2                                   135 Airways    \\N  NaN  GNL   \n",
       "3           3                                 1Time Airline    \\N   1T  RNX   \n",
       "4           4  2 Sqn No 1 Elementary Flying Training School    \\N  NaN  WYT   \n",
       "\n",
       "  Callsign         Country Active  \n",
       "0       \\N              \\N      Y  \n",
       "1      NaN             NaN      Y  \n",
       "2  GENERAL   United States      N  \n",
       "3  NEXTIME    South Africa      Y  \n",
       "4      NaN  United Kingdom      N  "
      ],
      "text/html": "<div>\n<style scoped>\n    .dataframe tbody tr th:only-of-type {\n        vertical-align: middle;\n    }\n\n    .dataframe tbody tr th {\n        vertical-align: top;\n    }\n\n    .dataframe thead th {\n        text-align: right;\n    }\n</style>\n<table border=\"1\" class=\"dataframe\">\n  <thead>\n    <tr style=\"text-align: right;\">\n      <th></th>\n      <th>Airline ID</th>\n      <th>Name</th>\n      <th>Alias</th>\n      <th>IATA</th>\n      <th>ICAO</th>\n      <th>Callsign</th>\n      <th>Country</th>\n      <th>Active</th>\n    </tr>\n  </thead>\n  <tbody>\n    <tr>\n      <th>0</th>\n      <td>-1</td>\n      <td>Unknown</td>\n      <td>\\N</td>\n      <td>-</td>\n      <td>NaN</td>\n      <td>\\N</td>\n      <td>\\N</td>\n      <td>Y</td>\n    </tr>\n    <tr>\n      <th>1</th>\n      <td>1</td>\n      <td>Private flight</td>\n      <td>\\N</td>\n      <td>-</td>\n      <td>NaN</td>\n      <td>NaN</td>\n      <td>NaN</td>\n      <td>Y</td>\n    </tr>\n    <tr>\n      <th>2</th>\n      <td>2</td>\n      <td>135 Airways</td>\n      <td>\\N</td>\n      <td>NaN</td>\n      <td>GNL</td>\n      <td>GENERAL</td>\n      <td>United States</td>\n      <td>N</td>\n    </tr>\n    <tr>\n      <th>3</th>\n      <td>3</td>\n      <td>1Time Airline</td>\n      <td>\\N</td>\n      <td>1T</td>\n      <td>RNX</td>\n      <td>NEXTIME</td>\n      <td>South Africa</td>\n      <td>Y</td>\n    </tr>\n    <tr>\n      <th>4</th>\n      <td>4</td>\n      <td>2 Sqn No 1 Elementary Flying Training School</td>\n      <td>\\N</td>\n      <td>NaN</td>\n      <td>WYT</td>\n      <td>NaN</td>\n      <td>United Kingdom</td>\n      <td>N</td>\n    </tr>\n  </tbody>\n</table>\n</div>"
     },
     "metadata": {},
     "execution_count": 3
    }
   ],
   "source": [
    "airline_file = \"Data/airlines.csv\"\n",
    "airline_df = pd.read_csv(airline_file)\n",
    "airline_df.head()"
   ]
  },
  {
   "cell_type": "code",
   "execution_count": 4,
   "metadata": {},
   "outputs": [
    {
     "output_type": "execute_result",
     "data": {
      "text/plain": [
       "      Airline ID                                      Operator IATA ICAO  \\\n",
       "0             -1                                       Unknown    -  NaN   \n",
       "1              1                                Private flight    -  NaN   \n",
       "2              2                                   135 Airways  NaN  GNL   \n",
       "3              3                                 1Time Airline   1T  RNX   \n",
       "4              4  2 Sqn No 1 Elementary Flying Training School  NaN  WYT   \n",
       "...          ...                                           ...  ...  ...   \n",
       "6157       21248                                   GX Airlines  NaN  CBG   \n",
       "6158       21251                        Lynx Aviation (L3/SSX)  NaN  SSX   \n",
       "6159       21268                               Jetgo Australia   JG   \\N   \n",
       "6160       21270                                  Air Carnival   2S   \\N   \n",
       "6161       21317                                 Svyaz Rossiya   7R  SJM   \n",
       "\n",
       "             Country Active  \n",
       "0                 \\N      Y  \n",
       "1                NaN      Y  \n",
       "2      United States      N  \n",
       "3       South Africa      Y  \n",
       "4     United Kingdom      N  \n",
       "...              ...    ...  \n",
       "6157           China      Y  \n",
       "6158   United States      N  \n",
       "6159       Australia      Y  \n",
       "6160           India      Y  \n",
       "6161          Russia      Y  \n",
       "\n",
       "[6162 rows x 6 columns]"
      ],
      "text/html": "<div>\n<style scoped>\n    .dataframe tbody tr th:only-of-type {\n        vertical-align: middle;\n    }\n\n    .dataframe tbody tr th {\n        vertical-align: top;\n    }\n\n    .dataframe thead th {\n        text-align: right;\n    }\n</style>\n<table border=\"1\" class=\"dataframe\">\n  <thead>\n    <tr style=\"text-align: right;\">\n      <th></th>\n      <th>Airline ID</th>\n      <th>Operator</th>\n      <th>IATA</th>\n      <th>ICAO</th>\n      <th>Country</th>\n      <th>Active</th>\n    </tr>\n  </thead>\n  <tbody>\n    <tr>\n      <th>0</th>\n      <td>-1</td>\n      <td>Unknown</td>\n      <td>-</td>\n      <td>NaN</td>\n      <td>\\N</td>\n      <td>Y</td>\n    </tr>\n    <tr>\n      <th>1</th>\n      <td>1</td>\n      <td>Private flight</td>\n      <td>-</td>\n      <td>NaN</td>\n      <td>NaN</td>\n      <td>Y</td>\n    </tr>\n    <tr>\n      <th>2</th>\n      <td>2</td>\n      <td>135 Airways</td>\n      <td>NaN</td>\n      <td>GNL</td>\n      <td>United States</td>\n      <td>N</td>\n    </tr>\n    <tr>\n      <th>3</th>\n      <td>3</td>\n      <td>1Time Airline</td>\n      <td>1T</td>\n      <td>RNX</td>\n      <td>South Africa</td>\n      <td>Y</td>\n    </tr>\n    <tr>\n      <th>4</th>\n      <td>4</td>\n      <td>2 Sqn No 1 Elementary Flying Training School</td>\n      <td>NaN</td>\n      <td>WYT</td>\n      <td>United Kingdom</td>\n      <td>N</td>\n    </tr>\n    <tr>\n      <th>...</th>\n      <td>...</td>\n      <td>...</td>\n      <td>...</td>\n      <td>...</td>\n      <td>...</td>\n      <td>...</td>\n    </tr>\n    <tr>\n      <th>6157</th>\n      <td>21248</td>\n      <td>GX Airlines</td>\n      <td>NaN</td>\n      <td>CBG</td>\n      <td>China</td>\n      <td>Y</td>\n    </tr>\n    <tr>\n      <th>6158</th>\n      <td>21251</td>\n      <td>Lynx Aviation (L3/SSX)</td>\n      <td>NaN</td>\n      <td>SSX</td>\n      <td>United States</td>\n      <td>N</td>\n    </tr>\n    <tr>\n      <th>6159</th>\n      <td>21268</td>\n      <td>Jetgo Australia</td>\n      <td>JG</td>\n      <td>\\N</td>\n      <td>Australia</td>\n      <td>Y</td>\n    </tr>\n    <tr>\n      <th>6160</th>\n      <td>21270</td>\n      <td>Air Carnival</td>\n      <td>2S</td>\n      <td>\\N</td>\n      <td>India</td>\n      <td>Y</td>\n    </tr>\n    <tr>\n      <th>6161</th>\n      <td>21317</td>\n      <td>Svyaz Rossiya</td>\n      <td>7R</td>\n      <td>SJM</td>\n      <td>Russia</td>\n      <td>Y</td>\n    </tr>\n  </tbody>\n</table>\n<p>6162 rows × 6 columns</p>\n</div>"
     },
     "metadata": {},
     "execution_count": 4
    }
   ],
   "source": [
    "# Changing the names of columns and filtering columns we require\n",
    "airline_clean_df = airline_df[[\"Airline ID\", \"Name\", \"IATA\", \"ICAO\", \"Country\", \"Active\"]].copy()\n",
    "airline_clean_df = airline_clean_df.rename(columns = {\"Name\": \"Operator\"})\n",
    "airline_clean_df"
   ]
  },
  {
   "cell_type": "code",
   "execution_count": 5,
   "metadata": {},
   "outputs": [
    {
     "output_type": "execute_result",
     "data": {
      "text/plain": [
       "      Airline ID                                      Operator IATA ICAO  \\\n",
       "0             -1                                       Unknown    -  NaN   \n",
       "1              1                                       Private    -  NaN   \n",
       "2              2                                   135 Airways  NaN  GNL   \n",
       "3              3                                 1Time Airline   1T  RNX   \n",
       "4              4  2 Sqn No 1 Elementary Flying Training School  NaN  WYT   \n",
       "...          ...                                           ...  ...  ...   \n",
       "6157       21248                                   GX Airlines  NaN  CBG   \n",
       "6158       21251                        Lynx Aviation (L3/SSX)  NaN  SSX   \n",
       "6159       21268                               Jetgo Australia   JG   \\N   \n",
       "6160       21270                                  Air Carnival   2S   \\N   \n",
       "6161       21317                                 Svyaz Rossiya   7R  SJM   \n",
       "\n",
       "             Country Active  \n",
       "0                 \\N      Y  \n",
       "1                NaN      Y  \n",
       "2      United States      N  \n",
       "3       South Africa      Y  \n",
       "4     United Kingdom      N  \n",
       "...              ...    ...  \n",
       "6157           China      Y  \n",
       "6158   United States      N  \n",
       "6159       Australia      Y  \n",
       "6160           India      Y  \n",
       "6161          Russia      Y  \n",
       "\n",
       "[6162 rows x 6 columns]"
      ],
      "text/html": "<div>\n<style scoped>\n    .dataframe tbody tr th:only-of-type {\n        vertical-align: middle;\n    }\n\n    .dataframe tbody tr th {\n        vertical-align: top;\n    }\n\n    .dataframe thead th {\n        text-align: right;\n    }\n</style>\n<table border=\"1\" class=\"dataframe\">\n  <thead>\n    <tr style=\"text-align: right;\">\n      <th></th>\n      <th>Airline ID</th>\n      <th>Operator</th>\n      <th>IATA</th>\n      <th>ICAO</th>\n      <th>Country</th>\n      <th>Active</th>\n    </tr>\n  </thead>\n  <tbody>\n    <tr>\n      <th>0</th>\n      <td>-1</td>\n      <td>Unknown</td>\n      <td>-</td>\n      <td>NaN</td>\n      <td>\\N</td>\n      <td>Y</td>\n    </tr>\n    <tr>\n      <th>1</th>\n      <td>1</td>\n      <td>Private</td>\n      <td>-</td>\n      <td>NaN</td>\n      <td>NaN</td>\n      <td>Y</td>\n    </tr>\n    <tr>\n      <th>2</th>\n      <td>2</td>\n      <td>135 Airways</td>\n      <td>NaN</td>\n      <td>GNL</td>\n      <td>United States</td>\n      <td>N</td>\n    </tr>\n    <tr>\n      <th>3</th>\n      <td>3</td>\n      <td>1Time Airline</td>\n      <td>1T</td>\n      <td>RNX</td>\n      <td>South Africa</td>\n      <td>Y</td>\n    </tr>\n    <tr>\n      <th>4</th>\n      <td>4</td>\n      <td>2 Sqn No 1 Elementary Flying Training School</td>\n      <td>NaN</td>\n      <td>WYT</td>\n      <td>United Kingdom</td>\n      <td>N</td>\n    </tr>\n    <tr>\n      <th>...</th>\n      <td>...</td>\n      <td>...</td>\n      <td>...</td>\n      <td>...</td>\n      <td>...</td>\n      <td>...</td>\n    </tr>\n    <tr>\n      <th>6157</th>\n      <td>21248</td>\n      <td>GX Airlines</td>\n      <td>NaN</td>\n      <td>CBG</td>\n      <td>China</td>\n      <td>Y</td>\n    </tr>\n    <tr>\n      <th>6158</th>\n      <td>21251</td>\n      <td>Lynx Aviation (L3/SSX)</td>\n      <td>NaN</td>\n      <td>SSX</td>\n      <td>United States</td>\n      <td>N</td>\n    </tr>\n    <tr>\n      <th>6159</th>\n      <td>21268</td>\n      <td>Jetgo Australia</td>\n      <td>JG</td>\n      <td>\\N</td>\n      <td>Australia</td>\n      <td>Y</td>\n    </tr>\n    <tr>\n      <th>6160</th>\n      <td>21270</td>\n      <td>Air Carnival</td>\n      <td>2S</td>\n      <td>\\N</td>\n      <td>India</td>\n      <td>Y</td>\n    </tr>\n    <tr>\n      <th>6161</th>\n      <td>21317</td>\n      <td>Svyaz Rossiya</td>\n      <td>7R</td>\n      <td>SJM</td>\n      <td>Russia</td>\n      <td>Y</td>\n    </tr>\n  </tbody>\n</table>\n<p>6162 rows × 6 columns</p>\n</div>"
     },
     "metadata": {},
     "execution_count": 5
    }
   ],
   "source": [
    "# Changing the name of Airlines in the Airlines.csv\n",
    "airline_clean_df = airline_clean_df.replace({'Aeroflot Russian Airlines': 'Aeroflot',\n",
    "                                            'Avianca - Aerovias Nacionales de Colombia': 'Avianca',\n",
    "                                            'Private flight': 'Private'})\n",
    "airline_clean_df"
   ]
  },
  {
   "cell_type": "code",
   "execution_count": 6,
   "metadata": {},
   "outputs": [],
   "source": [
    "# airline_clean_df['Active'] = airline_clean_df['Active'].replace({'n': 'N'})\n",
    "# airline_clean_df"
   ]
  },
  {
   "cell_type": "code",
   "execution_count": 7,
   "metadata": {},
   "outputs": [
    {
     "output_type": "execute_result",
     "data": {
      "text/plain": [
       "     Airline ID Operator IATA ICAO  Country Active\n",
       "515         515  Avianca   AV  AVA  AVIANCA      Y"
      ],
      "text/html": "<div>\n<style scoped>\n    .dataframe tbody tr th:only-of-type {\n        vertical-align: middle;\n    }\n\n    .dataframe tbody tr th {\n        vertical-align: top;\n    }\n\n    .dataframe thead th {\n        text-align: right;\n    }\n</style>\n<table border=\"1\" class=\"dataframe\">\n  <thead>\n    <tr style=\"text-align: right;\">\n      <th></th>\n      <th>Airline ID</th>\n      <th>Operator</th>\n      <th>IATA</th>\n      <th>ICAO</th>\n      <th>Country</th>\n      <th>Active</th>\n    </tr>\n  </thead>\n  <tbody>\n    <tr>\n      <th>515</th>\n      <td>515</td>\n      <td>Avianca</td>\n      <td>AV</td>\n      <td>AVA</td>\n      <td>AVIANCA</td>\n      <td>Y</td>\n    </tr>\n  </tbody>\n</table>\n</div>"
     },
     "metadata": {},
     "execution_count": 7
    }
   ],
   "source": [
    "# Checking if the Operator names have been changed\n",
    "airline_clean_df.loc[airline_clean_df['Operator'] == 'Avianca']"
   ]
  },
  {
   "cell_type": "code",
   "execution_count": 8,
   "metadata": {},
   "outputs": [
    {
     "output_type": "execute_result",
     "data": {
      "text/plain": [
       "      Airline ID                                      Operator IATA ICAO  \\\n",
       "0             -1                                       Unknown    -  NaN   \n",
       "1              1                                       Private    -  NaN   \n",
       "2              2                                   135 Airways  NaN  GNL   \n",
       "3              3                                 1Time Airline   1T  RNX   \n",
       "4              4  2 Sqn No 1 Elementary Flying Training School  NaN  WYT   \n",
       "...          ...                                           ...  ...  ...   \n",
       "6157       21248                                   GX Airlines  NaN  CBG   \n",
       "6158       21251                        Lynx Aviation (L3/SSX)  NaN  SSX   \n",
       "6159       21268                               Jetgo Australia   JG   \\N   \n",
       "6160       21270                                  Air Carnival   2S   \\N   \n",
       "6161       21317                                 Svyaz Rossiya   7R  SJM   \n",
       "\n",
       "             Country Active  \n",
       "0                 \\N      Y  \n",
       "1                NaN      Y  \n",
       "2      United States      N  \n",
       "3       South Africa      Y  \n",
       "4     United Kingdom      N  \n",
       "...              ...    ...  \n",
       "6157           China      Y  \n",
       "6158   United States      N  \n",
       "6159       Australia      Y  \n",
       "6160           India      Y  \n",
       "6161          Russia      Y  \n",
       "\n",
       "[6162 rows x 6 columns]"
      ],
      "text/html": "<div>\n<style scoped>\n    .dataframe tbody tr th:only-of-type {\n        vertical-align: middle;\n    }\n\n    .dataframe tbody tr th {\n        vertical-align: top;\n    }\n\n    .dataframe thead th {\n        text-align: right;\n    }\n</style>\n<table border=\"1\" class=\"dataframe\">\n  <thead>\n    <tr style=\"text-align: right;\">\n      <th></th>\n      <th>Airline ID</th>\n      <th>Operator</th>\n      <th>IATA</th>\n      <th>ICAO</th>\n      <th>Country</th>\n      <th>Active</th>\n    </tr>\n  </thead>\n  <tbody>\n    <tr>\n      <th>0</th>\n      <td>-1</td>\n      <td>Unknown</td>\n      <td>-</td>\n      <td>NaN</td>\n      <td>\\N</td>\n      <td>Y</td>\n    </tr>\n    <tr>\n      <th>1</th>\n      <td>1</td>\n      <td>Private</td>\n      <td>-</td>\n      <td>NaN</td>\n      <td>NaN</td>\n      <td>Y</td>\n    </tr>\n    <tr>\n      <th>2</th>\n      <td>2</td>\n      <td>135 Airways</td>\n      <td>NaN</td>\n      <td>GNL</td>\n      <td>United States</td>\n      <td>N</td>\n    </tr>\n    <tr>\n      <th>3</th>\n      <td>3</td>\n      <td>1Time Airline</td>\n      <td>1T</td>\n      <td>RNX</td>\n      <td>South Africa</td>\n      <td>Y</td>\n    </tr>\n    <tr>\n      <th>4</th>\n      <td>4</td>\n      <td>2 Sqn No 1 Elementary Flying Training School</td>\n      <td>NaN</td>\n      <td>WYT</td>\n      <td>United Kingdom</td>\n      <td>N</td>\n    </tr>\n    <tr>\n      <th>...</th>\n      <td>...</td>\n      <td>...</td>\n      <td>...</td>\n      <td>...</td>\n      <td>...</td>\n      <td>...</td>\n    </tr>\n    <tr>\n      <th>6157</th>\n      <td>21248</td>\n      <td>GX Airlines</td>\n      <td>NaN</td>\n      <td>CBG</td>\n      <td>China</td>\n      <td>Y</td>\n    </tr>\n    <tr>\n      <th>6158</th>\n      <td>21251</td>\n      <td>Lynx Aviation (L3/SSX)</td>\n      <td>NaN</td>\n      <td>SSX</td>\n      <td>United States</td>\n      <td>N</td>\n    </tr>\n    <tr>\n      <th>6159</th>\n      <td>21268</td>\n      <td>Jetgo Australia</td>\n      <td>JG</td>\n      <td>\\N</td>\n      <td>Australia</td>\n      <td>Y</td>\n    </tr>\n    <tr>\n      <th>6160</th>\n      <td>21270</td>\n      <td>Air Carnival</td>\n      <td>2S</td>\n      <td>\\N</td>\n      <td>India</td>\n      <td>Y</td>\n    </tr>\n    <tr>\n      <th>6161</th>\n      <td>21317</td>\n      <td>Svyaz Rossiya</td>\n      <td>7R</td>\n      <td>SJM</td>\n      <td>Russia</td>\n      <td>Y</td>\n    </tr>\n  </tbody>\n</table>\n<p>6162 rows × 6 columns</p>\n</div>"
     },
     "metadata": {},
     "execution_count": 8
    }
   ],
   "source": [
    "# Changing the names of Countries\n",
    "airline_clean_df = airline_clean_df.replace({'ALASKA': 'United States',\n",
    "                                                        'AVIANCA': 'Colombia',\n",
    "                                                        'Russia]]': 'Russia'\n",
    "                                                        })\n",
    "airline_clean_df"
   ]
  },
  {
   "cell_type": "code",
   "execution_count": 9,
   "metadata": {},
   "outputs": [
    {
     "output_type": "execute_result",
     "data": {
      "text/plain": [
       "Empty DataFrame\n",
       "Columns: [Airline ID, Operator, IATA, ICAO, Country, Active]\n",
       "Index: []"
      ],
      "text/html": "<div>\n<style scoped>\n    .dataframe tbody tr th:only-of-type {\n        vertical-align: middle;\n    }\n\n    .dataframe tbody tr th {\n        vertical-align: top;\n    }\n\n    .dataframe thead th {\n        text-align: right;\n    }\n</style>\n<table border=\"1\" class=\"dataframe\">\n  <thead>\n    <tr style=\"text-align: right;\">\n      <th></th>\n      <th>Airline ID</th>\n      <th>Operator</th>\n      <th>IATA</th>\n      <th>ICAO</th>\n      <th>Country</th>\n      <th>Active</th>\n    </tr>\n  </thead>\n  <tbody>\n  </tbody>\n</table>\n</div>"
     },
     "metadata": {},
     "execution_count": 9
    }
   ],
   "source": [
    "# Checking to see if the Country names have been changed\n",
    "airline_clean_df.loc[airline_clean_df['Country'] == 'ALASKA']"
   ]
  },
  {
   "cell_type": "code",
   "execution_count": 10,
   "metadata": {},
   "outputs": [],
   "source": [
    "# # Resetin the index for airline_clean_df\n",
    "# airline_clean_df = airline_clean_df.reset_index()\n",
    "# # airline_clean_df = airline_df[[\"Airline ID\", \"Name\", \"Country\", \"Active\"]]\n",
    "# airline_clean_df"
   ]
  },
  {
   "cell_type": "code",
   "execution_count": 11,
   "metadata": {},
   "outputs": [
    {
     "output_type": "execute_result",
     "data": {
      "text/plain": [
       "     Airline ID  Operator IATA ICAO Country Active\n",
       "130         130  Aeroflot   SU  AFL  Russia      Y"
      ],
      "text/html": "<div>\n<style scoped>\n    .dataframe tbody tr th:only-of-type {\n        vertical-align: middle;\n    }\n\n    .dataframe tbody tr th {\n        vertical-align: top;\n    }\n\n    .dataframe thead th {\n        text-align: right;\n    }\n</style>\n<table border=\"1\" class=\"dataframe\">\n  <thead>\n    <tr style=\"text-align: right;\">\n      <th></th>\n      <th>Airline ID</th>\n      <th>Operator</th>\n      <th>IATA</th>\n      <th>ICAO</th>\n      <th>Country</th>\n      <th>Active</th>\n    </tr>\n  </thead>\n  <tbody>\n    <tr>\n      <th>130</th>\n      <td>130</td>\n      <td>Aeroflot</td>\n      <td>SU</td>\n      <td>AFL</td>\n      <td>Russia</td>\n      <td>Y</td>\n    </tr>\n  </tbody>\n</table>\n</div>"
     },
     "metadata": {},
     "execution_count": 11
    }
   ],
   "source": [
    "airline_clean_df.loc[airline_clean_df['Operator'] == 'Aeroflot']"
   ]
  },
  {
   "cell_type": "code",
   "execution_count": 12,
   "metadata": {},
   "outputs": [
    {
     "output_type": "execute_result",
     "data": {
      "text/plain": [
       "         Date   Time                            Location  \\\n",
       "0  09/17/1908  17:18                 Fort Myer, Virginia   \n",
       "1   7/12/1912   6:30             AtlantiCity, New Jersey   \n",
       "2   8/06/1913    NaN  Victoria, British Columbia, Canada   \n",
       "3   9/09/1913  18:30                  Over the North Sea   \n",
       "4  10/17/1913  10:30          Near Johannisthal, Germany   \n",
       "\n",
       "                 Operator Flight #          Route                    Type  \\\n",
       "0    Military - U.S. Army      NaN  Demonstration        Wright Flyer III   \n",
       "1    Military - U.S. Navy      NaN    Test flight               Dirigible   \n",
       "2                 Private        -            NaN        Curtiss seaplane   \n",
       "3  Military - German Navy      NaN            NaN  Zeppelin L-1 (airship)   \n",
       "4  Military - German Navy      NaN            NaN  Zeppelin L-2 (airship)   \n",
       "\n",
       "  Registration cn/In  Aboard  Fatalities  Ground  \\\n",
       "0          NaN     1     2.0         1.0     0.0   \n",
       "1          NaN   NaN     5.0         5.0     0.0   \n",
       "2          NaN   NaN     1.0         1.0     0.0   \n",
       "3          NaN   NaN    20.0        14.0     0.0   \n",
       "4          NaN   NaN    30.0        30.0     0.0   \n",
       "\n",
       "                                             Summary  \n",
       "0  During a demonstration flight, a U.S. Army fly...  \n",
       "1  First U.S. dirigible Akron exploded just offsh...  \n",
       "2  The first fatal airplane accident in Canada oc...  \n",
       "3  The airship flew into a thunderstorm and encou...  \n",
       "4  Hydrogen gas which was being vented was sucked...  "
      ],
      "text/html": "<div>\n<style scoped>\n    .dataframe tbody tr th:only-of-type {\n        vertical-align: middle;\n    }\n\n    .dataframe tbody tr th {\n        vertical-align: top;\n    }\n\n    .dataframe thead th {\n        text-align: right;\n    }\n</style>\n<table border=\"1\" class=\"dataframe\">\n  <thead>\n    <tr style=\"text-align: right;\">\n      <th></th>\n      <th>Date</th>\n      <th>Time</th>\n      <th>Location</th>\n      <th>Operator</th>\n      <th>Flight #</th>\n      <th>Route</th>\n      <th>Type</th>\n      <th>Registration</th>\n      <th>cn/In</th>\n      <th>Aboard</th>\n      <th>Fatalities</th>\n      <th>Ground</th>\n      <th>Summary</th>\n    </tr>\n  </thead>\n  <tbody>\n    <tr>\n      <th>0</th>\n      <td>09/17/1908</td>\n      <td>17:18</td>\n      <td>Fort Myer, Virginia</td>\n      <td>Military - U.S. Army</td>\n      <td>NaN</td>\n      <td>Demonstration</td>\n      <td>Wright Flyer III</td>\n      <td>NaN</td>\n      <td>1</td>\n      <td>2.0</td>\n      <td>1.0</td>\n      <td>0.0</td>\n      <td>During a demonstration flight, a U.S. Army fly...</td>\n    </tr>\n    <tr>\n      <th>1</th>\n      <td>7/12/1912</td>\n      <td>6:30</td>\n      <td>AtlantiCity, New Jersey</td>\n      <td>Military - U.S. Navy</td>\n      <td>NaN</td>\n      <td>Test flight</td>\n      <td>Dirigible</td>\n      <td>NaN</td>\n      <td>NaN</td>\n      <td>5.0</td>\n      <td>5.0</td>\n      <td>0.0</td>\n      <td>First U.S. dirigible Akron exploded just offsh...</td>\n    </tr>\n    <tr>\n      <th>2</th>\n      <td>8/06/1913</td>\n      <td>NaN</td>\n      <td>Victoria, British Columbia, Canada</td>\n      <td>Private</td>\n      <td>-</td>\n      <td>NaN</td>\n      <td>Curtiss seaplane</td>\n      <td>NaN</td>\n      <td>NaN</td>\n      <td>1.0</td>\n      <td>1.0</td>\n      <td>0.0</td>\n      <td>The first fatal airplane accident in Canada oc...</td>\n    </tr>\n    <tr>\n      <th>3</th>\n      <td>9/09/1913</td>\n      <td>18:30</td>\n      <td>Over the North Sea</td>\n      <td>Military - German Navy</td>\n      <td>NaN</td>\n      <td>NaN</td>\n      <td>Zeppelin L-1 (airship)</td>\n      <td>NaN</td>\n      <td>NaN</td>\n      <td>20.0</td>\n      <td>14.0</td>\n      <td>0.0</td>\n      <td>The airship flew into a thunderstorm and encou...</td>\n    </tr>\n    <tr>\n      <th>4</th>\n      <td>10/17/1913</td>\n      <td>10:30</td>\n      <td>Near Johannisthal, Germany</td>\n      <td>Military - German Navy</td>\n      <td>NaN</td>\n      <td>NaN</td>\n      <td>Zeppelin L-2 (airship)</td>\n      <td>NaN</td>\n      <td>NaN</td>\n      <td>30.0</td>\n      <td>30.0</td>\n      <td>0.0</td>\n      <td>Hydrogen gas which was being vented was sucked...</td>\n    </tr>\n  </tbody>\n</table>\n</div>"
     },
     "metadata": {},
     "execution_count": 12
    }
   ],
   "source": [
    "crash_file = \"Data/Airplane_Crashes_and_Fatalities_Since_1908.csv\"\n",
    "crash_df = pd.read_csv(crash_file)\n",
    "crash_df.head()"
   ]
  },
  {
   "cell_type": "code",
   "execution_count": 13,
   "metadata": {},
   "outputs": [],
   "source": [
    "crash_clean_df = crash_df[[\"Date\", \"Location\", \"Operator\", \"Type\", \"Aboard\", \"Fatalities\", \"Summary\"]].copy()\n",
    "crash_clean_df[\"Date\"] = pd.to_datetime(crash_clean_df[\"Date\"])\n",
    "crash_clean_df = crash_clean_df[crash_clean_df[\"Date\"].dt.year >= 1970]\n",
    "\n",
    "crash_clean_df = crash_clean_df.reset_index()"
   ]
  },
  {
   "cell_type": "code",
   "execution_count": 14,
   "metadata": {},
   "outputs": [],
   "source": [
    "# # All the crashes with two or more collisions, still trying a way to separating the two operators\n",
    "# crash_clean_df[crash_clean_df['Operator'].str.contains('/', na=False)]"
   ]
  },
  {
   "cell_type": "code",
   "execution_count": 15,
   "metadata": {},
   "outputs": [],
   "source": [
    "# Attempting the resolve how to split the two collision rows\n",
    "# crash_clean_df['Operator', 'Type'] = crash_clean_df['Operator', 'Type'].str.split(\"/\") \n",
    "# crash_clean_df.explode('Operator', 'Type').reset_index(drop=False)\n"
   ]
  },
  {
   "cell_type": "code",
   "execution_count": 16,
   "metadata": {},
   "outputs": [
    {
     "output_type": "execute_result",
     "data": {
      "text/plain": [
       "   index       Date                  Location                      Operator  \\\n",
       "0   1237 1970-02-13    Pin-la-Garenne, France                     Avia-Taxi   \n",
       "1   1643 1973-05-11  Near Semipalatinsk, USSR                      Aeroflot   \n",
       "2   1807 1973-10-12          Acapulco, Mexico              Avionas  Banamex   \n",
       "3   1965 1973-10-15  Fort Smith AFB, Oklahoma     Military - U.S. Air Force   \n",
       "4   2003 1975-07-31           Santiago, Chili  Military - Chilian Air Force   \n",
       "\n",
       "                       Type  Aboard  Fatalities  \\\n",
       "0                Cessna 402    10.0        10.0   \n",
       "1           Ilyushin IL-18B    61.0        61.0   \n",
       "2    de Havilland DH-125-1A     8.0         8.0   \n",
       "3  Lockheed C-130E Hercules     7.0         7.0   \n",
       "4              Douglas C-47    10.0        10.0   \n",
       "\n",
       "                              Summary  \n",
       "0                                 NaN  \n",
       "1                                 NaN  \n",
       "2  Crashed while approaching to land.  \n",
       "3            Crashed into a mountain.  \n",
       "4                                 NaN  "
      ],
      "text/html": "<div>\n<style scoped>\n    .dataframe tbody tr th:only-of-type {\n        vertical-align: middle;\n    }\n\n    .dataframe tbody tr th {\n        vertical-align: top;\n    }\n\n    .dataframe thead th {\n        text-align: right;\n    }\n</style>\n<table border=\"1\" class=\"dataframe\">\n  <thead>\n    <tr style=\"text-align: right;\">\n      <th></th>\n      <th>index</th>\n      <th>Date</th>\n      <th>Location</th>\n      <th>Operator</th>\n      <th>Type</th>\n      <th>Aboard</th>\n      <th>Fatalities</th>\n      <th>Summary</th>\n    </tr>\n  </thead>\n  <tbody>\n    <tr>\n      <th>0</th>\n      <td>1237</td>\n      <td>1970-02-13</td>\n      <td>Pin-la-Garenne, France</td>\n      <td>Avia-Taxi</td>\n      <td>Cessna 402</td>\n      <td>10.0</td>\n      <td>10.0</td>\n      <td>NaN</td>\n    </tr>\n    <tr>\n      <th>1</th>\n      <td>1643</td>\n      <td>1973-05-11</td>\n      <td>Near Semipalatinsk, USSR</td>\n      <td>Aeroflot</td>\n      <td>Ilyushin IL-18B</td>\n      <td>61.0</td>\n      <td>61.0</td>\n      <td>NaN</td>\n    </tr>\n    <tr>\n      <th>2</th>\n      <td>1807</td>\n      <td>1973-10-12</td>\n      <td>Acapulco, Mexico</td>\n      <td>Avionas  Banamex</td>\n      <td>de Havilland DH-125-1A</td>\n      <td>8.0</td>\n      <td>8.0</td>\n      <td>Crashed while approaching to land.</td>\n    </tr>\n    <tr>\n      <th>3</th>\n      <td>1965</td>\n      <td>1973-10-15</td>\n      <td>Fort Smith AFB, Oklahoma</td>\n      <td>Military - U.S. Air Force</td>\n      <td>Lockheed C-130E Hercules</td>\n      <td>7.0</td>\n      <td>7.0</td>\n      <td>Crashed into a mountain.</td>\n    </tr>\n    <tr>\n      <th>4</th>\n      <td>2003</td>\n      <td>1975-07-31</td>\n      <td>Santiago, Chili</td>\n      <td>Military - Chilian Air Force</td>\n      <td>Douglas C-47</td>\n      <td>10.0</td>\n      <td>10.0</td>\n      <td>NaN</td>\n    </tr>\n  </tbody>\n</table>\n</div>"
     },
     "metadata": {},
     "execution_count": 16
    }
   ],
   "source": [
    "crash_clean_df.head()"
   ]
  },
  {
   "cell_type": "code",
   "execution_count": 17,
   "metadata": {},
   "outputs": [
    {
     "output_type": "execute_result",
     "data": {
      "text/plain": [
       "    index       Date                       Location  \\\n",
       "80   2436 1970-11-24     Nar Can Tho, South Vietnam   \n",
       "81   2437 1970-11-27              Anchorage, Alaska   \n",
       "82   2438 1970-11-27  Near Nha Trang, South Vietnam   \n",
       "83   2439 1970-11-29   Near Cam Ranh, South Vietnam   \n",
       "84   2440 1970-12-02              Dhaka, Bangladesh   \n",
       "85   2441 1970-12-05                   Delhi, India   \n",
       "86   2442 1970-12-07        Near Constanta, Romania   \n",
       "87   2443 1970-12-19              Panarah, Pakistan   \n",
       "88   2444 1970-12-28     St. Thomas, Virgin Islands   \n",
       "89   2445 1970-12-30  Near Shemshernagar,  Pakistan   \n",
       "90   2446 1970-12-31           Off Algiers, Algeria   \n",
       "91   2447 1970-12-31              Leningrad, Russia   \n",
       "92   2448 1971-01-02              Ben Gashir, Libya   \n",
       "93   2449 1971-01-09             Edison, New Jersey   \n",
       "94   2450 1971-01-18            Zurich, Switzerland   \n",
       "95   2451 1971-01-21            Near Privas, France   \n",
       "96   2452 1971-01-21               Near Pacae, Peru   \n",
       "97   2453 1971-01-22                   Surgut, USSR   \n",
       "98   2454 1988-10-02    Sao Pedro da Aldeia, Brazil   \n",
       "99   2455 1971-01-23       Near Sokcho, South Korea   \n",
       "\n",
       "                                             Operator  \\\n",
       "80  Military - Vietnamese Air Force / Military - U...   \n",
       "81                                   Capital Airlines   \n",
       "82                          Military - U.S. Air Force   \n",
       "83                          Military - U.S. Air Force   \n",
       "84                                           Cargolux   \n",
       "85                                             Jamair   \n",
       "86                                              Tarom   \n",
       "87                                           Aeroflot   \n",
       "88                            Trans Caribbean Airways   \n",
       "89                    Pakistan International Airlines   \n",
       "90                                  Rousseau Aviaiton   \n",
       "91                                           Aeroflot   \n",
       "92                               United Arab Airlines   \n",
       "93                        American Airlines / Private   \n",
       "94                          Balkan Bulgarian Airlines   \n",
       "95                                   L'Armée de L'Air   \n",
       "96                              Fuerza Aérea del Peru   \n",
       "97                                           Aeroflot   \n",
       "98                                             Aramar   \n",
       "99                                    Korean Airlines   \n",
       "\n",
       "                                     Type  Aboard  Fatalities  \\\n",
       "80  de Havilland RU-6A Beaver /Bell UH-1H    18.0        18.0   \n",
       "81            McDonnell Douglas DC-8-63CF   229.0        47.0   \n",
       "82                       Fairchild C-123K    79.0        79.0   \n",
       "83                       Fairchild C-123K    44.0        42.0   \n",
       "84                        Canadair CL-44J     4.0         4.0   \n",
       "85                           Douglas DC-3    16.0         5.0   \n",
       "86                  BAC One-Eleven  424EU    27.0        18.0   \n",
       "87                          Antonov AN-22    25.0        25.0   \n",
       "88                       Boeing B-727-2A7    55.0         2.0   \n",
       "89             Fokker F-27 Friendship 200    35.0         7.0   \n",
       "90                              Nord 262E    31.0        31.0   \n",
       "91                        Ilyushin IL-18B    93.0        93.0   \n",
       "92                  de Havilland Comet 4C    16.0        16.0   \n",
       "93          Boeing B-707-323 / Cessna 150    21.0         2.0   \n",
       "94                         Ilyushin IL-18    47.0        45.0   \n",
       "95                           Nord 262A-34    21.0        21.0   \n",
       "96                    Curtiss-Wright C-46    35.0        35.0   \n",
       "97                          Antonov AN-12    13.0        13.0   \n",
       "98                     Beech King Air F90     8.0         8.0   \n",
       "99             Fokker F-27 Friendship 500    60.0         2.0   \n",
       "\n",
       "                                              Summary  \n",
       "80                     Mid-air collision at 1,200 ft.  \n",
       "81  The military charter overran the runway during...  \n",
       "82  Crashed into high ground on a mountainside whi...  \n",
       "83  Crashed into the jungle 15 miles from it desti...  \n",
       "84  The cargo plane crashed while attempting to la...  \n",
       "85  The No. 2 engine failed on takeoff due to fuel...  \n",
       "86  Crashed 4 kms short of the runway on approach ...  \n",
       "87  Crashed during an emergency landing with engin...  \n",
       "88  The aircraft experienced a hard landing which ...  \n",
       "89                     Crashed and burned on landing.  \n",
       "90  Ditched in the ocean. Mayday received. No trac...  \n",
       "91  The plane crashed during takeoff on a flight t...  \n",
       "92  Crashed 7 kms from the runway in a sandstorm. ...  \n",
       "93  Midair collision at 3,000 ft.  Failed to see a...  \n",
       "94  The crew decided while on the ground at Paris ...  \n",
       "95  Crashed and exploded  in a snowstorm in mounta...  \n",
       "96  Crashed in the Andes mountains after experienc...  \n",
       "97                               Crashed on approach.  \n",
       "98                                                NaN  \n",
       "99  Crash landed on a beach after a hijacker deton...  "
      ],
      "text/html": "<div>\n<style scoped>\n    .dataframe tbody tr th:only-of-type {\n        vertical-align: middle;\n    }\n\n    .dataframe tbody tr th {\n        vertical-align: top;\n    }\n\n    .dataframe thead th {\n        text-align: right;\n    }\n</style>\n<table border=\"1\" class=\"dataframe\">\n  <thead>\n    <tr style=\"text-align: right;\">\n      <th></th>\n      <th>index</th>\n      <th>Date</th>\n      <th>Location</th>\n      <th>Operator</th>\n      <th>Type</th>\n      <th>Aboard</th>\n      <th>Fatalities</th>\n      <th>Summary</th>\n    </tr>\n  </thead>\n  <tbody>\n    <tr>\n      <th>80</th>\n      <td>2436</td>\n      <td>1970-11-24</td>\n      <td>Nar Can Tho, South Vietnam</td>\n      <td>Military - Vietnamese Air Force / Military - U...</td>\n      <td>de Havilland RU-6A Beaver /Bell UH-1H</td>\n      <td>18.0</td>\n      <td>18.0</td>\n      <td>Mid-air collision at 1,200 ft.</td>\n    </tr>\n    <tr>\n      <th>81</th>\n      <td>2437</td>\n      <td>1970-11-27</td>\n      <td>Anchorage, Alaska</td>\n      <td>Capital Airlines</td>\n      <td>McDonnell Douglas DC-8-63CF</td>\n      <td>229.0</td>\n      <td>47.0</td>\n      <td>The military charter overran the runway during...</td>\n    </tr>\n    <tr>\n      <th>82</th>\n      <td>2438</td>\n      <td>1970-11-27</td>\n      <td>Near Nha Trang, South Vietnam</td>\n      <td>Military - U.S. Air Force</td>\n      <td>Fairchild C-123K</td>\n      <td>79.0</td>\n      <td>79.0</td>\n      <td>Crashed into high ground on a mountainside whi...</td>\n    </tr>\n    <tr>\n      <th>83</th>\n      <td>2439</td>\n      <td>1970-11-29</td>\n      <td>Near Cam Ranh, South Vietnam</td>\n      <td>Military - U.S. Air Force</td>\n      <td>Fairchild C-123K</td>\n      <td>44.0</td>\n      <td>42.0</td>\n      <td>Crashed into the jungle 15 miles from it desti...</td>\n    </tr>\n    <tr>\n      <th>84</th>\n      <td>2440</td>\n      <td>1970-12-02</td>\n      <td>Dhaka, Bangladesh</td>\n      <td>Cargolux</td>\n      <td>Canadair CL-44J</td>\n      <td>4.0</td>\n      <td>4.0</td>\n      <td>The cargo plane crashed while attempting to la...</td>\n    </tr>\n    <tr>\n      <th>85</th>\n      <td>2441</td>\n      <td>1970-12-05</td>\n      <td>Delhi, India</td>\n      <td>Jamair</td>\n      <td>Douglas DC-3</td>\n      <td>16.0</td>\n      <td>5.0</td>\n      <td>The No. 2 engine failed on takeoff due to fuel...</td>\n    </tr>\n    <tr>\n      <th>86</th>\n      <td>2442</td>\n      <td>1970-12-07</td>\n      <td>Near Constanta, Romania</td>\n      <td>Tarom</td>\n      <td>BAC One-Eleven  424EU</td>\n      <td>27.0</td>\n      <td>18.0</td>\n      <td>Crashed 4 kms short of the runway on approach ...</td>\n    </tr>\n    <tr>\n      <th>87</th>\n      <td>2443</td>\n      <td>1970-12-19</td>\n      <td>Panarah, Pakistan</td>\n      <td>Aeroflot</td>\n      <td>Antonov AN-22</td>\n      <td>25.0</td>\n      <td>25.0</td>\n      <td>Crashed during an emergency landing with engin...</td>\n    </tr>\n    <tr>\n      <th>88</th>\n      <td>2444</td>\n      <td>1970-12-28</td>\n      <td>St. Thomas, Virgin Islands</td>\n      <td>Trans Caribbean Airways</td>\n      <td>Boeing B-727-2A7</td>\n      <td>55.0</td>\n      <td>2.0</td>\n      <td>The aircraft experienced a hard landing which ...</td>\n    </tr>\n    <tr>\n      <th>89</th>\n      <td>2445</td>\n      <td>1970-12-30</td>\n      <td>Near Shemshernagar,  Pakistan</td>\n      <td>Pakistan International Airlines</td>\n      <td>Fokker F-27 Friendship 200</td>\n      <td>35.0</td>\n      <td>7.0</td>\n      <td>Crashed and burned on landing.</td>\n    </tr>\n    <tr>\n      <th>90</th>\n      <td>2446</td>\n      <td>1970-12-31</td>\n      <td>Off Algiers, Algeria</td>\n      <td>Rousseau Aviaiton</td>\n      <td>Nord 262E</td>\n      <td>31.0</td>\n      <td>31.0</td>\n      <td>Ditched in the ocean. Mayday received. No trac...</td>\n    </tr>\n    <tr>\n      <th>91</th>\n      <td>2447</td>\n      <td>1970-12-31</td>\n      <td>Leningrad, Russia</td>\n      <td>Aeroflot</td>\n      <td>Ilyushin IL-18B</td>\n      <td>93.0</td>\n      <td>93.0</td>\n      <td>The plane crashed during takeoff on a flight t...</td>\n    </tr>\n    <tr>\n      <th>92</th>\n      <td>2448</td>\n      <td>1971-01-02</td>\n      <td>Ben Gashir, Libya</td>\n      <td>United Arab Airlines</td>\n      <td>de Havilland Comet 4C</td>\n      <td>16.0</td>\n      <td>16.0</td>\n      <td>Crashed 7 kms from the runway in a sandstorm. ...</td>\n    </tr>\n    <tr>\n      <th>93</th>\n      <td>2449</td>\n      <td>1971-01-09</td>\n      <td>Edison, New Jersey</td>\n      <td>American Airlines / Private</td>\n      <td>Boeing B-707-323 / Cessna 150</td>\n      <td>21.0</td>\n      <td>2.0</td>\n      <td>Midair collision at 3,000 ft.  Failed to see a...</td>\n    </tr>\n    <tr>\n      <th>94</th>\n      <td>2450</td>\n      <td>1971-01-18</td>\n      <td>Zurich, Switzerland</td>\n      <td>Balkan Bulgarian Airlines</td>\n      <td>Ilyushin IL-18</td>\n      <td>47.0</td>\n      <td>45.0</td>\n      <td>The crew decided while on the ground at Paris ...</td>\n    </tr>\n    <tr>\n      <th>95</th>\n      <td>2451</td>\n      <td>1971-01-21</td>\n      <td>Near Privas, France</td>\n      <td>L'Armée de L'Air</td>\n      <td>Nord 262A-34</td>\n      <td>21.0</td>\n      <td>21.0</td>\n      <td>Crashed and exploded  in a snowstorm in mounta...</td>\n    </tr>\n    <tr>\n      <th>96</th>\n      <td>2452</td>\n      <td>1971-01-21</td>\n      <td>Near Pacae, Peru</td>\n      <td>Fuerza Aérea del Peru</td>\n      <td>Curtiss-Wright C-46</td>\n      <td>35.0</td>\n      <td>35.0</td>\n      <td>Crashed in the Andes mountains after experienc...</td>\n    </tr>\n    <tr>\n      <th>97</th>\n      <td>2453</td>\n      <td>1971-01-22</td>\n      <td>Surgut, USSR</td>\n      <td>Aeroflot</td>\n      <td>Antonov AN-12</td>\n      <td>13.0</td>\n      <td>13.0</td>\n      <td>Crashed on approach.</td>\n    </tr>\n    <tr>\n      <th>98</th>\n      <td>2454</td>\n      <td>1988-10-02</td>\n      <td>Sao Pedro da Aldeia, Brazil</td>\n      <td>Aramar</td>\n      <td>Beech King Air F90</td>\n      <td>8.0</td>\n      <td>8.0</td>\n      <td>NaN</td>\n    </tr>\n    <tr>\n      <th>99</th>\n      <td>2455</td>\n      <td>1971-01-23</td>\n      <td>Near Sokcho, South Korea</td>\n      <td>Korean Airlines</td>\n      <td>Fokker F-27 Friendship 500</td>\n      <td>60.0</td>\n      <td>2.0</td>\n      <td>Crash landed on a beach after a hijacker deton...</td>\n    </tr>\n  </tbody>\n</table>\n</div>"
     },
     "metadata": {},
     "execution_count": 17
    }
   ],
   "source": [
    "crash_clean_df.iloc[80:100]"
   ]
  },
  {
   "cell_type": "code",
   "execution_count": 18,
   "metadata": {},
   "outputs": [],
   "source": [
    "# Renaming Airlines so they match with the two datasets\n",
    "crash_clean_df = crash_clean_df.replace({'United Air Lines': 'United Airlines',\n",
    "                                         'AVIANCA': 'Avianca',\n",
    "                                         'Varig': ' Varig Log',\n",
    "                                         'Compania Dominicana de Aviacion': 'Dominicana de Aviaci',\n",
    "                                         'Aviogenex (Yugoslavia)': 'Aviogenex',\n",
    "                                         'Stirling Airways': 'Stirling Airlines',\n",
    "                                         'Japan Air Lines': 'Japan Airlines',\n",
    "                                         'Cathay PacifiAirways': 'Cathay Pacific',\n",
    "                                         'British European Airways': 'British Airways',\n",
    "                                         'Spantax': 'Spantax S.A.',\n",
    "                                         'Eastern Air Lines': 'Balitmore Airways',\n",
    "                                         'Alia Royal Jordanian Airlines': ' Royal Jordanian',\n",
    "                                         'Libya Arab Airlines': ' Libyan Airlines',\n",
    "                                         'Turkish Airlines(THY)': 'Turkish Airlines',\n",
    "                                         'Martinair Holland NV': 'Martinair',\n",
    "                                         'Ceskoslevenske Aerolinie': 'Czech Airlines',\n",
    "                                         'Inex Adria Aviopromet': 'Adria Airways',\n",
    "                                         'TAP (Air Portugal)': 'TAP Portugal',\n",
    "                                         'Air India': 'Air India Limited',\n",
    "                                         'Loftledidir IcelandiAirlines': 'Icelandair',\n",
    "                                         'Iran National Airlines': 'Iran Air',\n",
    "                                         'Dan Air Services': 'Dan-Air London',\n",
    "                                         'Korean Airlines': ' Korean Air',\n",
    "                                         'Arrow Airways': 'Arrow Air',\n",
    "                                         'Mexicana': 'Mexicana de Aviaci',\n",
    "                                         'Thai Airways': 'Thai Airways International',\n",
    "                                         'Tajikistan Airlines': 'Tajikistan International Airlines',\n",
    "                                         'Cebu PacifiAir': ' Cebu Pacific',\n",
    "                                         'China Airlines (Taiwan)': 'China Airlines',\n",
    "                                         'EgyptAir': 'Egyptair',\n",
    "                                         'Scandinavian Airlines (SAS)': 'Scandinavian Airlines System',\n",
    "                                         'Flash Air': 'Flash Airlines',\n",
    "                                         'Subir (S7)': 'S7 Airlines',\n",
    "                                         'Pulkovo Airlines': 'Rossiya-Russian Airlines',\n",
    "                                         'TAM (Brazil)': 'TAM Brazilian Airlines',\n",
    "                                         'One-Two-Go Airlines': 'One Two Go Airlines',\n",
    "                                         'Philippine Air Lines': 'Philippine Airlines',\n",
    "                                         'Garuda Indonesia Airlines': 'Garuda Indonesia',\n",
    "                                         'LAN': 'LAN Airlines'})"
   ]
  },
  {
   "cell_type": "code",
   "execution_count": 19,
   "metadata": {},
   "outputs": [
    {
     "output_type": "execute_result",
     "data": {
      "text/plain": [
       "           Date                                           Location  \\\n",
       "0    1970-02-13                             Pin-la-Garenne, France   \n",
       "1    1973-05-11                           Near Semipalatinsk, USSR   \n",
       "2    1973-10-12                                   Acapulco, Mexico   \n",
       "3    1973-10-15                           Fort Smith AFB, Oklahoma   \n",
       "4    1975-07-31                                    Santiago, Chili   \n",
       "...         ...                                                ...   \n",
       "2907 2009-05-20                             Near Madiun, Indonesia   \n",
       "2908 2009-05-26                  Near Isiro, DemocratiRepubliCongo   \n",
       "2909 2009-06-01  AtlantiOcean, 570 miles northeast of Natal, Br...   \n",
       "2910 2009-06-07       Near Port Hope Simpson, Newfoundland, Canada   \n",
       "2911 2009-06-08                  State of Arunachal Pradesh, India   \n",
       "\n",
       "                             Operator                              Type  \\\n",
       "0                           Avia-Taxi                        Cessna 402   \n",
       "1                            Aeroflot                   Ilyushin IL-18B   \n",
       "2                    Avionas  Banamex            de Havilland DH-125-1A   \n",
       "3           Military - U.S. Air Force          Lockheed C-130E Hercules   \n",
       "4        Military - Chilian Air Force                      Douglas C-47   \n",
       "...                               ...                               ...   \n",
       "2907  Military - Indonesian Air Force           Lockheed C-130 Hercules   \n",
       "2908                      Service Air                     Antonov An-26   \n",
       "2909                       Air France                   Airbus A330-203   \n",
       "2910                       Strait Air  Britten-Norman BN-2A-27 Islander   \n",
       "2911      Military - Indian Air Force                     Antonov An-32   \n",
       "\n",
       "      Aboard  Fatalities                                            Summary  \n",
       "0       10.0        10.0                                                NaN  \n",
       "1       61.0        61.0                                                NaN  \n",
       "2        8.0         8.0                 Crashed while approaching to land.  \n",
       "3        7.0         7.0                           Crashed into a mountain.  \n",
       "4       10.0        10.0                                                NaN  \n",
       "...      ...         ...                                                ...  \n",
       "2907   112.0        98.0  While on approach, the military transport cras...  \n",
       "2908     4.0         4.0  The cargo plane crashed while on approach to I...  \n",
       "2909   228.0       228.0  The Airbus went missing over the AtlantiOcean ...  \n",
       "2910     1.0         1.0  The air ambulance crashed into hills while att...  \n",
       "2911    13.0        13.0  The military transport went missing while en r...  \n",
       "\n",
       "[2912 rows x 7 columns]"
      ],
      "text/html": "<div>\n<style scoped>\n    .dataframe tbody tr th:only-of-type {\n        vertical-align: middle;\n    }\n\n    .dataframe tbody tr th {\n        vertical-align: top;\n    }\n\n    .dataframe thead th {\n        text-align: right;\n    }\n</style>\n<table border=\"1\" class=\"dataframe\">\n  <thead>\n    <tr style=\"text-align: right;\">\n      <th></th>\n      <th>Date</th>\n      <th>Location</th>\n      <th>Operator</th>\n      <th>Type</th>\n      <th>Aboard</th>\n      <th>Fatalities</th>\n      <th>Summary</th>\n    </tr>\n  </thead>\n  <tbody>\n    <tr>\n      <th>0</th>\n      <td>1970-02-13</td>\n      <td>Pin-la-Garenne, France</td>\n      <td>Avia-Taxi</td>\n      <td>Cessna 402</td>\n      <td>10.0</td>\n      <td>10.0</td>\n      <td>NaN</td>\n    </tr>\n    <tr>\n      <th>1</th>\n      <td>1973-05-11</td>\n      <td>Near Semipalatinsk, USSR</td>\n      <td>Aeroflot</td>\n      <td>Ilyushin IL-18B</td>\n      <td>61.0</td>\n      <td>61.0</td>\n      <td>NaN</td>\n    </tr>\n    <tr>\n      <th>2</th>\n      <td>1973-10-12</td>\n      <td>Acapulco, Mexico</td>\n      <td>Avionas  Banamex</td>\n      <td>de Havilland DH-125-1A</td>\n      <td>8.0</td>\n      <td>8.0</td>\n      <td>Crashed while approaching to land.</td>\n    </tr>\n    <tr>\n      <th>3</th>\n      <td>1973-10-15</td>\n      <td>Fort Smith AFB, Oklahoma</td>\n      <td>Military - U.S. Air Force</td>\n      <td>Lockheed C-130E Hercules</td>\n      <td>7.0</td>\n      <td>7.0</td>\n      <td>Crashed into a mountain.</td>\n    </tr>\n    <tr>\n      <th>4</th>\n      <td>1975-07-31</td>\n      <td>Santiago, Chili</td>\n      <td>Military - Chilian Air Force</td>\n      <td>Douglas C-47</td>\n      <td>10.0</td>\n      <td>10.0</td>\n      <td>NaN</td>\n    </tr>\n    <tr>\n      <th>...</th>\n      <td>...</td>\n      <td>...</td>\n      <td>...</td>\n      <td>...</td>\n      <td>...</td>\n      <td>...</td>\n      <td>...</td>\n    </tr>\n    <tr>\n      <th>2907</th>\n      <td>2009-05-20</td>\n      <td>Near Madiun, Indonesia</td>\n      <td>Military - Indonesian Air Force</td>\n      <td>Lockheed C-130 Hercules</td>\n      <td>112.0</td>\n      <td>98.0</td>\n      <td>While on approach, the military transport cras...</td>\n    </tr>\n    <tr>\n      <th>2908</th>\n      <td>2009-05-26</td>\n      <td>Near Isiro, DemocratiRepubliCongo</td>\n      <td>Service Air</td>\n      <td>Antonov An-26</td>\n      <td>4.0</td>\n      <td>4.0</td>\n      <td>The cargo plane crashed while on approach to I...</td>\n    </tr>\n    <tr>\n      <th>2909</th>\n      <td>2009-06-01</td>\n      <td>AtlantiOcean, 570 miles northeast of Natal, Br...</td>\n      <td>Air France</td>\n      <td>Airbus A330-203</td>\n      <td>228.0</td>\n      <td>228.0</td>\n      <td>The Airbus went missing over the AtlantiOcean ...</td>\n    </tr>\n    <tr>\n      <th>2910</th>\n      <td>2009-06-07</td>\n      <td>Near Port Hope Simpson, Newfoundland, Canada</td>\n      <td>Strait Air</td>\n      <td>Britten-Norman BN-2A-27 Islander</td>\n      <td>1.0</td>\n      <td>1.0</td>\n      <td>The air ambulance crashed into hills while att...</td>\n    </tr>\n    <tr>\n      <th>2911</th>\n      <td>2009-06-08</td>\n      <td>State of Arunachal Pradesh, India</td>\n      <td>Military - Indian Air Force</td>\n      <td>Antonov An-32</td>\n      <td>13.0</td>\n      <td>13.0</td>\n      <td>The military transport went missing while en r...</td>\n    </tr>\n  </tbody>\n</table>\n<p>2912 rows × 7 columns</p>\n</div>"
     },
     "metadata": {},
     "execution_count": 19
    }
   ],
   "source": [
    "# Dropping the index column\n",
    "crash_clean_df = crash_clean_df.drop(columns=['index'])\n",
    "crash_clean_df"
   ]
  },
  {
   "cell_type": "code",
   "execution_count": 20,
   "metadata": {},
   "outputs": [
    {
     "output_type": "execute_result",
     "data": {
      "text/plain": [
       "      Airline ID          Operator IATA ICAO Country Active       Date  \\\n",
       "0           -1.0           Unknown    -  NaN      \\N      Y        NaT   \n",
       "1            1.0           Private    -  NaN     NaN      Y 1970-10-04   \n",
       "2            1.0           Private    -  NaN     NaN      Y 1971-05-28   \n",
       "3            1.0           Private    -  NaN     NaN      Y 1972-09-24   \n",
       "4            1.0           Private    -  NaN     NaN      Y 1972-10-16   \n",
       "...          ...               ...  ...  ...     ...    ...        ...   \n",
       "8753         NaN  Aviastar Mandiri  NaN  NaN     NaN    NaN 2009-04-09   \n",
       "8754         NaN        Mimika Air  NaN  NaN     NaN    NaN 2009-04-17   \n",
       "8755         NaN   Aerotuy airline  NaN  NaN     NaN    NaN 2009-04-17   \n",
       "8756         NaN          Bako Air  NaN  NaN     NaN    NaN 2009-04-29   \n",
       "8757         NaN        Strait Air  NaN  NaN     NaN    NaN 2009-06-07   \n",
       "\n",
       "                                          Location  \\\n",
       "0                                              NaN   \n",
       "1                           Mahaffey, Pennsylvania   \n",
       "2                                Roanoke, Virginia   \n",
       "3                           Sacramento, California   \n",
       "4                             Off the Alaska coast   \n",
       "...                                            ...   \n",
       "8753                        Near Wamena, Indonesia   \n",
       "8754                      Mount Gergaji, Indonesia   \n",
       "8755              Canaima National Park, Venezuela   \n",
       "8756            Massamba, DemocratiRepubliof Congo   \n",
       "8757  Near Port Hope Simpson, Newfoundland, Canada   \n",
       "\n",
       "                                  Type  Aboard  Fatalities  \\\n",
       "0                                  NaN     NaN         NaN   \n",
       "1                 Aero Commander 500-B     2.0         2.0   \n",
       "2                  Aero Commander 680E     6.0         6.0   \n",
       "3                        F-86 Sabrejet     1.0         0.0   \n",
       "4                          Cessna 310C     4.0         4.0   \n",
       "...                                ...     ...         ...   \n",
       "8753     British Aerospace BAe-146-300     6.0         6.0   \n",
       "8754                      Pilatus PC-6    11.0        11.0   \n",
       "8755         Cessna 208B Grand Caravan    11.0         1.0   \n",
       "8756                  Boeing B-737-200     7.0         7.0   \n",
       "8757  Britten-Norman BN-2A-27 Islander     1.0         1.0   \n",
       "\n",
       "                                                Summary  \n",
       "0                                                   NaN  \n",
       "1     The aircraft crashed into a mountainside 20 mi...  \n",
       "2     The flight crashed into the side of a mountain...  \n",
       "3     A World War II vintage Sabrejet fighter leavin...  \n",
       "4     The plane was on a flight from Anchorage to Ju...  \n",
       "...                                                 ...  \n",
       "8753  The cargo plane crashed into Gunung Pike mount...  \n",
       "8754  The passenger plane crashed in poor weather in...  \n",
       "8755  The plane, carrying 9 tourists, crashed 5 mile...  \n",
       "8756  Crashed while en route on a ferrying flight. T...  \n",
       "8757  The air ambulance crashed into hills while att...  \n",
       "\n",
       "[8758 rows x 12 columns]"
      ],
      "text/html": "<div>\n<style scoped>\n    .dataframe tbody tr th:only-of-type {\n        vertical-align: middle;\n    }\n\n    .dataframe tbody tr th {\n        vertical-align: top;\n    }\n\n    .dataframe thead th {\n        text-align: right;\n    }\n</style>\n<table border=\"1\" class=\"dataframe\">\n  <thead>\n    <tr style=\"text-align: right;\">\n      <th></th>\n      <th>Airline ID</th>\n      <th>Operator</th>\n      <th>IATA</th>\n      <th>ICAO</th>\n      <th>Country</th>\n      <th>Active</th>\n      <th>Date</th>\n      <th>Location</th>\n      <th>Type</th>\n      <th>Aboard</th>\n      <th>Fatalities</th>\n      <th>Summary</th>\n    </tr>\n  </thead>\n  <tbody>\n    <tr>\n      <th>0</th>\n      <td>-1.0</td>\n      <td>Unknown</td>\n      <td>-</td>\n      <td>NaN</td>\n      <td>\\N</td>\n      <td>Y</td>\n      <td>NaT</td>\n      <td>NaN</td>\n      <td>NaN</td>\n      <td>NaN</td>\n      <td>NaN</td>\n      <td>NaN</td>\n    </tr>\n    <tr>\n      <th>1</th>\n      <td>1.0</td>\n      <td>Private</td>\n      <td>-</td>\n      <td>NaN</td>\n      <td>NaN</td>\n      <td>Y</td>\n      <td>1970-10-04</td>\n      <td>Mahaffey, Pennsylvania</td>\n      <td>Aero Commander 500-B</td>\n      <td>2.0</td>\n      <td>2.0</td>\n      <td>The aircraft crashed into a mountainside 20 mi...</td>\n    </tr>\n    <tr>\n      <th>2</th>\n      <td>1.0</td>\n      <td>Private</td>\n      <td>-</td>\n      <td>NaN</td>\n      <td>NaN</td>\n      <td>Y</td>\n      <td>1971-05-28</td>\n      <td>Roanoke, Virginia</td>\n      <td>Aero Commander 680E</td>\n      <td>6.0</td>\n      <td>6.0</td>\n      <td>The flight crashed into the side of a mountain...</td>\n    </tr>\n    <tr>\n      <th>3</th>\n      <td>1.0</td>\n      <td>Private</td>\n      <td>-</td>\n      <td>NaN</td>\n      <td>NaN</td>\n      <td>Y</td>\n      <td>1972-09-24</td>\n      <td>Sacramento, California</td>\n      <td>F-86 Sabrejet</td>\n      <td>1.0</td>\n      <td>0.0</td>\n      <td>A World War II vintage Sabrejet fighter leavin...</td>\n    </tr>\n    <tr>\n      <th>4</th>\n      <td>1.0</td>\n      <td>Private</td>\n      <td>-</td>\n      <td>NaN</td>\n      <td>NaN</td>\n      <td>Y</td>\n      <td>1972-10-16</td>\n      <td>Off the Alaska coast</td>\n      <td>Cessna 310C</td>\n      <td>4.0</td>\n      <td>4.0</td>\n      <td>The plane was on a flight from Anchorage to Ju...</td>\n    </tr>\n    <tr>\n      <th>...</th>\n      <td>...</td>\n      <td>...</td>\n      <td>...</td>\n      <td>...</td>\n      <td>...</td>\n      <td>...</td>\n      <td>...</td>\n      <td>...</td>\n      <td>...</td>\n      <td>...</td>\n      <td>...</td>\n      <td>...</td>\n    </tr>\n    <tr>\n      <th>8753</th>\n      <td>NaN</td>\n      <td>Aviastar Mandiri</td>\n      <td>NaN</td>\n      <td>NaN</td>\n      <td>NaN</td>\n      <td>NaN</td>\n      <td>2009-04-09</td>\n      <td>Near Wamena, Indonesia</td>\n      <td>British Aerospace BAe-146-300</td>\n      <td>6.0</td>\n      <td>6.0</td>\n      <td>The cargo plane crashed into Gunung Pike mount...</td>\n    </tr>\n    <tr>\n      <th>8754</th>\n      <td>NaN</td>\n      <td>Mimika Air</td>\n      <td>NaN</td>\n      <td>NaN</td>\n      <td>NaN</td>\n      <td>NaN</td>\n      <td>2009-04-17</td>\n      <td>Mount Gergaji, Indonesia</td>\n      <td>Pilatus PC-6</td>\n      <td>11.0</td>\n      <td>11.0</td>\n      <td>The passenger plane crashed in poor weather in...</td>\n    </tr>\n    <tr>\n      <th>8755</th>\n      <td>NaN</td>\n      <td>Aerotuy airline</td>\n      <td>NaN</td>\n      <td>NaN</td>\n      <td>NaN</td>\n      <td>NaN</td>\n      <td>2009-04-17</td>\n      <td>Canaima National Park, Venezuela</td>\n      <td>Cessna 208B Grand Caravan</td>\n      <td>11.0</td>\n      <td>1.0</td>\n      <td>The plane, carrying 9 tourists, crashed 5 mile...</td>\n    </tr>\n    <tr>\n      <th>8756</th>\n      <td>NaN</td>\n      <td>Bako Air</td>\n      <td>NaN</td>\n      <td>NaN</td>\n      <td>NaN</td>\n      <td>NaN</td>\n      <td>2009-04-29</td>\n      <td>Massamba, DemocratiRepubliof Congo</td>\n      <td>Boeing B-737-200</td>\n      <td>7.0</td>\n      <td>7.0</td>\n      <td>Crashed while en route on a ferrying flight. T...</td>\n    </tr>\n    <tr>\n      <th>8757</th>\n      <td>NaN</td>\n      <td>Strait Air</td>\n      <td>NaN</td>\n      <td>NaN</td>\n      <td>NaN</td>\n      <td>NaN</td>\n      <td>2009-06-07</td>\n      <td>Near Port Hope Simpson, Newfoundland, Canada</td>\n      <td>Britten-Norman BN-2A-27 Islander</td>\n      <td>1.0</td>\n      <td>1.0</td>\n      <td>The air ambulance crashed into hills while att...</td>\n    </tr>\n  </tbody>\n</table>\n<p>8758 rows × 12 columns</p>\n</div>"
     },
     "metadata": {},
     "execution_count": 20
    }
   ],
   "source": [
    "# Merging the two tables together\n",
    "airline_crash_df = pd.merge(airline_clean_df, crash_clean_df, how='outer', on='Operator')\n",
    "airline_crash_df"
   ]
  },
  {
   "cell_type": "code",
   "execution_count": 21,
   "metadata": {},
   "outputs": [
    {
     "output_type": "execute_result",
     "data": {
      "text/plain": [
       "    Airline ID                        Operator IATA ICAO            Country  \\\n",
       "27         3.0                   1Time Airline   1T  RNX       South Africa   \n",
       "34        10.0                     40-Mile Air   Q5  MLA      United States   \n",
       "37        13.0                Ansett Australia   AN  AAA          Australia   \n",
       "39        15.0                 Abelag Aviation   W9  AAB            Belgium   \n",
       "46        21.0                      Aigle Azur   ZI  AAF             France   \n",
       "47        22.0                  Aloha Airlines   AQ  AAH      United States   \n",
       "49        24.0               American Airlines   AA  AAL      United States   \n",
       "50        24.0               American Airlines   AA  AAL      United States   \n",
       "51        24.0               American Airlines   AA  AAL      United States   \n",
       "52        24.0               American Airlines   AA  AAL      United States   \n",
       "53        24.0               American Airlines   AA  AAL      United States   \n",
       "54        24.0               American Airlines   AA  AAL      United States   \n",
       "55        24.0               American Airlines   AA  AAL      United States   \n",
       "56        24.0               American Airlines   AA  AAL      United States   \n",
       "57        24.0               American Airlines   AA  AAL      United States   \n",
       "58        24.0               American Airlines   AA  AAL      United States   \n",
       "62        28.0                 Asiana Airlines   OZ  AAR  Republic of Korea   \n",
       "63        29.0                 Askari Aviation   4K  AAS           Pakistan   \n",
       "66        32.0               Afriqiyah Airways   8U  AAW              Libya   \n",
       "67        33.0  Afrinat International Airlines   Q9  AFU             Gambia   \n",
       "\n",
       "   Active                   Date                              Location  \\\n",
       "27      Y  No Inccident Recorded                 No Inccident Recorded   \n",
       "34      Y  No Inccident Recorded                 No Inccident Recorded   \n",
       "37      Y  No Inccident Recorded                 No Inccident Recorded   \n",
       "39      N  No Inccident Recorded                 No Inccident Recorded   \n",
       "46      Y  No Inccident Recorded                 No Inccident Recorded   \n",
       "47      Y    1988-04-28 00:00:00                          Maui, Hawaii   \n",
       "49      Y    1976-04-27 00:00:00            St. Thomas, Virgin Islands   \n",
       "50      Y    1979-05-25 00:00:00              Chicago O'Hare, Illinois   \n",
       "51      Y    1979-11-15 00:00:00                Near Chicago, Illinois   \n",
       "52      Y    1985-04-16 00:00:00                Las Cruces, New Mexico   \n",
       "53      Y    1995-12-20 00:00:00  Near Buga, Valle del Cauca, Colombia   \n",
       "54      Y    1999-06-01 00:00:00                 Little Rock, Arkansas   \n",
       "55      Y    2000-11-20 00:00:00                        Miami, Florida   \n",
       "56      Y    2001-09-11 00:00:00                  Arlington, Virginia.   \n",
       "57      Y    2001-09-11 00:00:00               New York City, New York   \n",
       "58      Y    2001-11-12 00:00:00        Belle Harbor, Queens, New York   \n",
       "62      Y    1993-07-26 00:00:00                   Haenam, South Korea   \n",
       "63      Y  No Inccident Recorded                 No Inccident Recorded   \n",
       "66      Y  No Inccident Recorded                 No Inccident Recorded   \n",
       "67      N  No Inccident Recorded                 No Inccident Recorded   \n",
       "\n",
       "                          Type  Aboard  Fatalities  \\\n",
       "27       No Inccident Recorded     0.0         0.0   \n",
       "34       No Inccident Recorded     0.0         0.0   \n",
       "37       No Inccident Recorded     0.0         0.0   \n",
       "39       No Inccident Recorded     0.0         0.0   \n",
       "46       No Inccident Recorded     0.0         0.0   \n",
       "47            Boeing B-737-297    95.0         1.0   \n",
       "49             Boeing B-727-95    88.0        37.0   \n",
       "50  McDonnell Douglas DC-10-10   271.0       271.0   \n",
       "51                Boeing B-727    78.0         0.0   \n",
       "52            Boeing B-727-227    89.0         0.0   \n",
       "53            Boeing B-757-223   164.0       160.0   \n",
       "54     McDonnell Douglas MD-82   145.0        11.0   \n",
       "55            Airbus A300-600R   114.0         1.0   \n",
       "56            Boeing B-757-223    64.0        64.0   \n",
       "57            Boeing 767-223ER    92.0        92.0   \n",
       "58           Airbus A-300-605R   260.0       260.0   \n",
       "62            Boeing B-737-5L9   110.0        68.0   \n",
       "63       No Inccident Recorded     0.0         0.0   \n",
       "66       No Inccident Recorded     0.0         0.0   \n",
       "67       No Inccident Recorded     0.0         0.0   \n",
       "\n",
       "                                              Summary  \n",
       "27                              No Inccident Recorded  \n",
       "34                              No Inccident Recorded  \n",
       "37                              No Inccident Recorded  \n",
       "39                              No Inccident Recorded  \n",
       "46                              No Inccident Recorded  \n",
       "47  The aircraft suffered separation of the top of...  \n",
       "49  After touching down 2,200 feet down the runway...  \n",
       "50  During takeoff just, as the plane lifted from ...  \n",
       "51  While en route from Chicago to Washington an e...  \n",
       "52  While cruising at FL 350 a loud noise was hear...  \n",
       "53  While on a flight from Miami, FL to Cali, Colu...  \n",
       "54  The plane was on a flight from Dallas/Fort Wor...  \n",
       "55  After climbing through 16,000 ft. the crew des...  \n",
       "56  The aircraft was hijacked after taking off fro...  \n",
       "57  The aircraft was hijacked shortly after it lef...  \n",
       "58  Three minutes after taking off and while in a ...  \n",
       "62  The aircraft hit Mt. Ungeo at 800 ft. while on...  \n",
       "63                              No Inccident Recorded  \n",
       "66                              No Inccident Recorded  \n",
       "67                              No Inccident Recorded  "
      ],
      "text/html": "<div>\n<style scoped>\n    .dataframe tbody tr th:only-of-type {\n        vertical-align: middle;\n    }\n\n    .dataframe tbody tr th {\n        vertical-align: top;\n    }\n\n    .dataframe thead th {\n        text-align: right;\n    }\n</style>\n<table border=\"1\" class=\"dataframe\">\n  <thead>\n    <tr style=\"text-align: right;\">\n      <th></th>\n      <th>Airline ID</th>\n      <th>Operator</th>\n      <th>IATA</th>\n      <th>ICAO</th>\n      <th>Country</th>\n      <th>Active</th>\n      <th>Date</th>\n      <th>Location</th>\n      <th>Type</th>\n      <th>Aboard</th>\n      <th>Fatalities</th>\n      <th>Summary</th>\n    </tr>\n  </thead>\n  <tbody>\n    <tr>\n      <th>27</th>\n      <td>3.0</td>\n      <td>1Time Airline</td>\n      <td>1T</td>\n      <td>RNX</td>\n      <td>South Africa</td>\n      <td>Y</td>\n      <td>No Inccident Recorded</td>\n      <td>No Inccident Recorded</td>\n      <td>No Inccident Recorded</td>\n      <td>0.0</td>\n      <td>0.0</td>\n      <td>No Inccident Recorded</td>\n    </tr>\n    <tr>\n      <th>34</th>\n      <td>10.0</td>\n      <td>40-Mile Air</td>\n      <td>Q5</td>\n      <td>MLA</td>\n      <td>United States</td>\n      <td>Y</td>\n      <td>No Inccident Recorded</td>\n      <td>No Inccident Recorded</td>\n      <td>No Inccident Recorded</td>\n      <td>0.0</td>\n      <td>0.0</td>\n      <td>No Inccident Recorded</td>\n    </tr>\n    <tr>\n      <th>37</th>\n      <td>13.0</td>\n      <td>Ansett Australia</td>\n      <td>AN</td>\n      <td>AAA</td>\n      <td>Australia</td>\n      <td>Y</td>\n      <td>No Inccident Recorded</td>\n      <td>No Inccident Recorded</td>\n      <td>No Inccident Recorded</td>\n      <td>0.0</td>\n      <td>0.0</td>\n      <td>No Inccident Recorded</td>\n    </tr>\n    <tr>\n      <th>39</th>\n      <td>15.0</td>\n      <td>Abelag Aviation</td>\n      <td>W9</td>\n      <td>AAB</td>\n      <td>Belgium</td>\n      <td>N</td>\n      <td>No Inccident Recorded</td>\n      <td>No Inccident Recorded</td>\n      <td>No Inccident Recorded</td>\n      <td>0.0</td>\n      <td>0.0</td>\n      <td>No Inccident Recorded</td>\n    </tr>\n    <tr>\n      <th>46</th>\n      <td>21.0</td>\n      <td>Aigle Azur</td>\n      <td>ZI</td>\n      <td>AAF</td>\n      <td>France</td>\n      <td>Y</td>\n      <td>No Inccident Recorded</td>\n      <td>No Inccident Recorded</td>\n      <td>No Inccident Recorded</td>\n      <td>0.0</td>\n      <td>0.0</td>\n      <td>No Inccident Recorded</td>\n    </tr>\n    <tr>\n      <th>47</th>\n      <td>22.0</td>\n      <td>Aloha Airlines</td>\n      <td>AQ</td>\n      <td>AAH</td>\n      <td>United States</td>\n      <td>Y</td>\n      <td>1988-04-28 00:00:00</td>\n      <td>Maui, Hawaii</td>\n      <td>Boeing B-737-297</td>\n      <td>95.0</td>\n      <td>1.0</td>\n      <td>The aircraft suffered separation of the top of...</td>\n    </tr>\n    <tr>\n      <th>49</th>\n      <td>24.0</td>\n      <td>American Airlines</td>\n      <td>AA</td>\n      <td>AAL</td>\n      <td>United States</td>\n      <td>Y</td>\n      <td>1976-04-27 00:00:00</td>\n      <td>St. Thomas, Virgin Islands</td>\n      <td>Boeing B-727-95</td>\n      <td>88.0</td>\n      <td>37.0</td>\n      <td>After touching down 2,200 feet down the runway...</td>\n    </tr>\n    <tr>\n      <th>50</th>\n      <td>24.0</td>\n      <td>American Airlines</td>\n      <td>AA</td>\n      <td>AAL</td>\n      <td>United States</td>\n      <td>Y</td>\n      <td>1979-05-25 00:00:00</td>\n      <td>Chicago O'Hare, Illinois</td>\n      <td>McDonnell Douglas DC-10-10</td>\n      <td>271.0</td>\n      <td>271.0</td>\n      <td>During takeoff just, as the plane lifted from ...</td>\n    </tr>\n    <tr>\n      <th>51</th>\n      <td>24.0</td>\n      <td>American Airlines</td>\n      <td>AA</td>\n      <td>AAL</td>\n      <td>United States</td>\n      <td>Y</td>\n      <td>1979-11-15 00:00:00</td>\n      <td>Near Chicago, Illinois</td>\n      <td>Boeing B-727</td>\n      <td>78.0</td>\n      <td>0.0</td>\n      <td>While en route from Chicago to Washington an e...</td>\n    </tr>\n    <tr>\n      <th>52</th>\n      <td>24.0</td>\n      <td>American Airlines</td>\n      <td>AA</td>\n      <td>AAL</td>\n      <td>United States</td>\n      <td>Y</td>\n      <td>1985-04-16 00:00:00</td>\n      <td>Las Cruces, New Mexico</td>\n      <td>Boeing B-727-227</td>\n      <td>89.0</td>\n      <td>0.0</td>\n      <td>While cruising at FL 350 a loud noise was hear...</td>\n    </tr>\n    <tr>\n      <th>53</th>\n      <td>24.0</td>\n      <td>American Airlines</td>\n      <td>AA</td>\n      <td>AAL</td>\n      <td>United States</td>\n      <td>Y</td>\n      <td>1995-12-20 00:00:00</td>\n      <td>Near Buga, Valle del Cauca, Colombia</td>\n      <td>Boeing B-757-223</td>\n      <td>164.0</td>\n      <td>160.0</td>\n      <td>While on a flight from Miami, FL to Cali, Colu...</td>\n    </tr>\n    <tr>\n      <th>54</th>\n      <td>24.0</td>\n      <td>American Airlines</td>\n      <td>AA</td>\n      <td>AAL</td>\n      <td>United States</td>\n      <td>Y</td>\n      <td>1999-06-01 00:00:00</td>\n      <td>Little Rock, Arkansas</td>\n      <td>McDonnell Douglas MD-82</td>\n      <td>145.0</td>\n      <td>11.0</td>\n      <td>The plane was on a flight from Dallas/Fort Wor...</td>\n    </tr>\n    <tr>\n      <th>55</th>\n      <td>24.0</td>\n      <td>American Airlines</td>\n      <td>AA</td>\n      <td>AAL</td>\n      <td>United States</td>\n      <td>Y</td>\n      <td>2000-11-20 00:00:00</td>\n      <td>Miami, Florida</td>\n      <td>Airbus A300-600R</td>\n      <td>114.0</td>\n      <td>1.0</td>\n      <td>After climbing through 16,000 ft. the crew des...</td>\n    </tr>\n    <tr>\n      <th>56</th>\n      <td>24.0</td>\n      <td>American Airlines</td>\n      <td>AA</td>\n      <td>AAL</td>\n      <td>United States</td>\n      <td>Y</td>\n      <td>2001-09-11 00:00:00</td>\n      <td>Arlington, Virginia.</td>\n      <td>Boeing B-757-223</td>\n      <td>64.0</td>\n      <td>64.0</td>\n      <td>The aircraft was hijacked after taking off fro...</td>\n    </tr>\n    <tr>\n      <th>57</th>\n      <td>24.0</td>\n      <td>American Airlines</td>\n      <td>AA</td>\n      <td>AAL</td>\n      <td>United States</td>\n      <td>Y</td>\n      <td>2001-09-11 00:00:00</td>\n      <td>New York City, New York</td>\n      <td>Boeing 767-223ER</td>\n      <td>92.0</td>\n      <td>92.0</td>\n      <td>The aircraft was hijacked shortly after it lef...</td>\n    </tr>\n    <tr>\n      <th>58</th>\n      <td>24.0</td>\n      <td>American Airlines</td>\n      <td>AA</td>\n      <td>AAL</td>\n      <td>United States</td>\n      <td>Y</td>\n      <td>2001-11-12 00:00:00</td>\n      <td>Belle Harbor, Queens, New York</td>\n      <td>Airbus A-300-605R</td>\n      <td>260.0</td>\n      <td>260.0</td>\n      <td>Three minutes after taking off and while in a ...</td>\n    </tr>\n    <tr>\n      <th>62</th>\n      <td>28.0</td>\n      <td>Asiana Airlines</td>\n      <td>OZ</td>\n      <td>AAR</td>\n      <td>Republic of Korea</td>\n      <td>Y</td>\n      <td>1993-07-26 00:00:00</td>\n      <td>Haenam, South Korea</td>\n      <td>Boeing B-737-5L9</td>\n      <td>110.0</td>\n      <td>68.0</td>\n      <td>The aircraft hit Mt. Ungeo at 800 ft. while on...</td>\n    </tr>\n    <tr>\n      <th>63</th>\n      <td>29.0</td>\n      <td>Askari Aviation</td>\n      <td>4K</td>\n      <td>AAS</td>\n      <td>Pakistan</td>\n      <td>Y</td>\n      <td>No Inccident Recorded</td>\n      <td>No Inccident Recorded</td>\n      <td>No Inccident Recorded</td>\n      <td>0.0</td>\n      <td>0.0</td>\n      <td>No Inccident Recorded</td>\n    </tr>\n    <tr>\n      <th>66</th>\n      <td>32.0</td>\n      <td>Afriqiyah Airways</td>\n      <td>8U</td>\n      <td>AAW</td>\n      <td>Libya</td>\n      <td>Y</td>\n      <td>No Inccident Recorded</td>\n      <td>No Inccident Recorded</td>\n      <td>No Inccident Recorded</td>\n      <td>0.0</td>\n      <td>0.0</td>\n      <td>No Inccident Recorded</td>\n    </tr>\n    <tr>\n      <th>67</th>\n      <td>33.0</td>\n      <td>Afrinat International Airlines</td>\n      <td>Q9</td>\n      <td>AFU</td>\n      <td>Gambia</td>\n      <td>N</td>\n      <td>No Inccident Recorded</td>\n      <td>No Inccident Recorded</td>\n      <td>No Inccident Recorded</td>\n      <td>0.0</td>\n      <td>0.0</td>\n      <td>No Inccident Recorded</td>\n    </tr>\n  </tbody>\n</table>\n</div>"
     },
     "metadata": {},
     "execution_count": 21
    }
   ],
   "source": [
    "# Filling the NaN values with more meaningful data\n",
    "airline_crash_df = airline_crash_df[airline_crash_df['ICAO'].notna()]\n",
    "airline_crash_df = airline_crash_df[airline_crash_df['Airline ID'].notna()]\n",
    "airline_crash_df = airline_crash_df[airline_crash_df['IATA'].notna()]\n",
    "airline_crash_df[['Aboard', 'Fatalities']] = airline_crash_df[['Aboard', 'Fatalities']].fillna(0)\n",
    "airline_crash_df[['Date', 'Location', 'Type', 'Summary']] = airline_crash_df[['Date', 'Location', 'Type', 'Summary']].fillna('No Inccident Recorded')\n",
    "airline_crash_df.head(20)"
   ]
  },
  {
   "cell_type": "code",
   "execution_count": 22,
   "metadata": {},
   "outputs": [
    {
     "output_type": "execute_result",
     "data": {
      "text/plain": [
       "      Airline ID          Operator IATA ICAO        Country Active  \\\n",
       "27           3.0     1Time Airline   1T  RNX   South Africa      Y   \n",
       "34          10.0       40-Mile Air   Q5  MLA  United States      Y   \n",
       "37          13.0  Ansett Australia   AN  AAA      Australia      Y   \n",
       "39          15.0   Abelag Aviation   W9  AAB        Belgium      N   \n",
       "46          21.0        Aigle Azur   ZI  AAF         France      Y   \n",
       "...          ...               ...  ...  ...            ...    ...   \n",
       "6738     21131.0  All America BOPY   0P  PYB       Paraguay      Y   \n",
       "6740     21181.0  Air Andaman (2Y)   2Y  AOW       Thailand      N   \n",
       "6744     21268.0   Jetgo Australia   JG   \\N      Australia      Y   \n",
       "6745     21270.0      Air Carnival   2S   \\N          India      Y   \n",
       "6746     21317.0     Svyaz Rossiya   7R  SJM         Russia      Y   \n",
       "\n",
       "                       Date               Location                   Type  \\\n",
       "27    No Inccident Recorded  No Inccident Recorded  No Inccident Recorded   \n",
       "34    No Inccident Recorded  No Inccident Recorded  No Inccident Recorded   \n",
       "37    No Inccident Recorded  No Inccident Recorded  No Inccident Recorded   \n",
       "39    No Inccident Recorded  No Inccident Recorded  No Inccident Recorded   \n",
       "46    No Inccident Recorded  No Inccident Recorded  No Inccident Recorded   \n",
       "...                     ...                    ...                    ...   \n",
       "6738  No Inccident Recorded  No Inccident Recorded  No Inccident Recorded   \n",
       "6740  No Inccident Recorded  No Inccident Recorded  No Inccident Recorded   \n",
       "6744  No Inccident Recorded  No Inccident Recorded  No Inccident Recorded   \n",
       "6745  No Inccident Recorded  No Inccident Recorded  No Inccident Recorded   \n",
       "6746  No Inccident Recorded  No Inccident Recorded  No Inccident Recorded   \n",
       "\n",
       "      Aboard  Fatalities                Summary  \n",
       "27       0.0         0.0  No Inccident Recorded  \n",
       "34       0.0         0.0  No Inccident Recorded  \n",
       "37       0.0         0.0  No Inccident Recorded  \n",
       "39       0.0         0.0  No Inccident Recorded  \n",
       "46       0.0         0.0  No Inccident Recorded  \n",
       "...      ...         ...                    ...  \n",
       "6738     0.0         0.0  No Inccident Recorded  \n",
       "6740     0.0         0.0  No Inccident Recorded  \n",
       "6744     0.0         0.0  No Inccident Recorded  \n",
       "6745     0.0         0.0  No Inccident Recorded  \n",
       "6746     0.0         0.0  No Inccident Recorded  \n",
       "\n",
       "[1870 rows x 12 columns]"
      ],
      "text/html": "<div>\n<style scoped>\n    .dataframe tbody tr th:only-of-type {\n        vertical-align: middle;\n    }\n\n    .dataframe tbody tr th {\n        vertical-align: top;\n    }\n\n    .dataframe thead th {\n        text-align: right;\n    }\n</style>\n<table border=\"1\" class=\"dataframe\">\n  <thead>\n    <tr style=\"text-align: right;\">\n      <th></th>\n      <th>Airline ID</th>\n      <th>Operator</th>\n      <th>IATA</th>\n      <th>ICAO</th>\n      <th>Country</th>\n      <th>Active</th>\n      <th>Date</th>\n      <th>Location</th>\n      <th>Type</th>\n      <th>Aboard</th>\n      <th>Fatalities</th>\n      <th>Summary</th>\n    </tr>\n  </thead>\n  <tbody>\n    <tr>\n      <th>27</th>\n      <td>3.0</td>\n      <td>1Time Airline</td>\n      <td>1T</td>\n      <td>RNX</td>\n      <td>South Africa</td>\n      <td>Y</td>\n      <td>No Inccident Recorded</td>\n      <td>No Inccident Recorded</td>\n      <td>No Inccident Recorded</td>\n      <td>0.0</td>\n      <td>0.0</td>\n      <td>No Inccident Recorded</td>\n    </tr>\n    <tr>\n      <th>34</th>\n      <td>10.0</td>\n      <td>40-Mile Air</td>\n      <td>Q5</td>\n      <td>MLA</td>\n      <td>United States</td>\n      <td>Y</td>\n      <td>No Inccident Recorded</td>\n      <td>No Inccident Recorded</td>\n      <td>No Inccident Recorded</td>\n      <td>0.0</td>\n      <td>0.0</td>\n      <td>No Inccident Recorded</td>\n    </tr>\n    <tr>\n      <th>37</th>\n      <td>13.0</td>\n      <td>Ansett Australia</td>\n      <td>AN</td>\n      <td>AAA</td>\n      <td>Australia</td>\n      <td>Y</td>\n      <td>No Inccident Recorded</td>\n      <td>No Inccident Recorded</td>\n      <td>No Inccident Recorded</td>\n      <td>0.0</td>\n      <td>0.0</td>\n      <td>No Inccident Recorded</td>\n    </tr>\n    <tr>\n      <th>39</th>\n      <td>15.0</td>\n      <td>Abelag Aviation</td>\n      <td>W9</td>\n      <td>AAB</td>\n      <td>Belgium</td>\n      <td>N</td>\n      <td>No Inccident Recorded</td>\n      <td>No Inccident Recorded</td>\n      <td>No Inccident Recorded</td>\n      <td>0.0</td>\n      <td>0.0</td>\n      <td>No Inccident Recorded</td>\n    </tr>\n    <tr>\n      <th>46</th>\n      <td>21.0</td>\n      <td>Aigle Azur</td>\n      <td>ZI</td>\n      <td>AAF</td>\n      <td>France</td>\n      <td>Y</td>\n      <td>No Inccident Recorded</td>\n      <td>No Inccident Recorded</td>\n      <td>No Inccident Recorded</td>\n      <td>0.0</td>\n      <td>0.0</td>\n      <td>No Inccident Recorded</td>\n    </tr>\n    <tr>\n      <th>...</th>\n      <td>...</td>\n      <td>...</td>\n      <td>...</td>\n      <td>...</td>\n      <td>...</td>\n      <td>...</td>\n      <td>...</td>\n      <td>...</td>\n      <td>...</td>\n      <td>...</td>\n      <td>...</td>\n      <td>...</td>\n    </tr>\n    <tr>\n      <th>6738</th>\n      <td>21131.0</td>\n      <td>All America BOPY</td>\n      <td>0P</td>\n      <td>PYB</td>\n      <td>Paraguay</td>\n      <td>Y</td>\n      <td>No Inccident Recorded</td>\n      <td>No Inccident Recorded</td>\n      <td>No Inccident Recorded</td>\n      <td>0.0</td>\n      <td>0.0</td>\n      <td>No Inccident Recorded</td>\n    </tr>\n    <tr>\n      <th>6740</th>\n      <td>21181.0</td>\n      <td>Air Andaman (2Y)</td>\n      <td>2Y</td>\n      <td>AOW</td>\n      <td>Thailand</td>\n      <td>N</td>\n      <td>No Inccident Recorded</td>\n      <td>No Inccident Recorded</td>\n      <td>No Inccident Recorded</td>\n      <td>0.0</td>\n      <td>0.0</td>\n      <td>No Inccident Recorded</td>\n    </tr>\n    <tr>\n      <th>6744</th>\n      <td>21268.0</td>\n      <td>Jetgo Australia</td>\n      <td>JG</td>\n      <td>\\N</td>\n      <td>Australia</td>\n      <td>Y</td>\n      <td>No Inccident Recorded</td>\n      <td>No Inccident Recorded</td>\n      <td>No Inccident Recorded</td>\n      <td>0.0</td>\n      <td>0.0</td>\n      <td>No Inccident Recorded</td>\n    </tr>\n    <tr>\n      <th>6745</th>\n      <td>21270.0</td>\n      <td>Air Carnival</td>\n      <td>2S</td>\n      <td>\\N</td>\n      <td>India</td>\n      <td>Y</td>\n      <td>No Inccident Recorded</td>\n      <td>No Inccident Recorded</td>\n      <td>No Inccident Recorded</td>\n      <td>0.0</td>\n      <td>0.0</td>\n      <td>No Inccident Recorded</td>\n    </tr>\n    <tr>\n      <th>6746</th>\n      <td>21317.0</td>\n      <td>Svyaz Rossiya</td>\n      <td>7R</td>\n      <td>SJM</td>\n      <td>Russia</td>\n      <td>Y</td>\n      <td>No Inccident Recorded</td>\n      <td>No Inccident Recorded</td>\n      <td>No Inccident Recorded</td>\n      <td>0.0</td>\n      <td>0.0</td>\n      <td>No Inccident Recorded</td>\n    </tr>\n  </tbody>\n</table>\n<p>1870 rows × 12 columns</p>\n</div>"
     },
     "metadata": {},
     "execution_count": 22
    }
   ],
   "source": [
    "airline_crash_df"
   ]
  },
  {
   "cell_type": "code",
   "execution_count": 30,
   "metadata": {},
   "outputs": [
    {
     "output_type": "execute_result",
     "data": {
      "text/plain": [
       "      Airline ID           Operator IATA ICAO              Country Active  \\\n",
       "47          22.0     Aloha Airlines   AQ  AAH        United States      Y   \n",
       "49          24.0  American Airlines   AA  AAL        United States      Y   \n",
       "50          24.0  American Airlines   AA  AAL        United States      Y   \n",
       "51          24.0  American Airlines   AA  AAL        United States      Y   \n",
       "52          24.0  American Airlines   AA  AAL        United States      Y   \n",
       "...          ...                ...  ...  ...                  ...    ...   \n",
       "6115      9082.0            Uni Air   B7  UIA               Taiwan      Y   \n",
       "6136      9808.0   Minerva Airlines   N4   \\N                Italy      N   \n",
       "6193     10929.0                TAN   T8   \\N            Argentina      N   \n",
       "6194     10929.0                TAN   T8   \\N            Argentina      N   \n",
       "6549     18762.0         Lina Congo   GC   \\N  Congo (Brazzaville)      N   \n",
       "\n",
       "                     Date                    Location  \\\n",
       "47    1988-04-28 00:00:00                Maui, Hawaii   \n",
       "49    1976-04-27 00:00:00  St. Thomas, Virgin Islands   \n",
       "50    1979-05-25 00:00:00    Chicago O'Hare, Illinois   \n",
       "51    1979-11-15 00:00:00      Near Chicago, Illinois   \n",
       "52    1985-04-16 00:00:00      Las Cruces, New Mexico   \n",
       "...                   ...                         ...   \n",
       "6115  1999-08-24 00:00:00             Hualian, Taiwan   \n",
       "6136  1999-02-25 00:00:00                Genoa, Italy   \n",
       "6193  1973-01-27 00:00:00  Near Tegucigalpa, Honduras   \n",
       "6194  1989-10-21 00:00:00  Near Tegucigalpa, Honduras   \n",
       "6549  1992-03-12 00:00:00             Etsouali, Congo   \n",
       "\n",
       "                                          Type  Aboard  Fatalities  \\\n",
       "47                            Boeing B-737-297    95.0         1.0   \n",
       "49                             Boeing B-727-95    88.0        37.0   \n",
       "50                  McDonnell Douglas DC-10-10   271.0       271.0   \n",
       "51                                Boeing B-727    78.0         0.0   \n",
       "52                            Boeing B-727-227    89.0         0.0   \n",
       "...                                        ...     ...         ...   \n",
       "6115                McDonnell Douglas MD-90-30    96.0         1.0   \n",
       "6136                           Dornier 328-110    31.0         4.0   \n",
       "6193                             Douglas DC-6A     3.0         3.0   \n",
       "6194                          Boeing B-727-224   146.0       127.0   \n",
       "6549  de Havilland Canada DHC-6 Twin Otter 300     8.0         3.0   \n",
       "\n",
       "                                                Summary  \n",
       "47    The aircraft suffered separation of the top of...  \n",
       "49    After touching down 2,200 feet down the runway...  \n",
       "50    During takeoff just, as the plane lifted from ...  \n",
       "51    While en route from Chicago to Washington an e...  \n",
       "52    While cruising at FL 350 a loud noise was hear...  \n",
       "...                                                 ...  \n",
       "6115  A fire in the front portion of the cabin, in t...  \n",
       "6136  The aircraft touched down briefly, overran the...  \n",
       "6193                              No Inccident Recorded  \n",
       "6194  The aircraft landed short of the runway in hea...  \n",
       "6549              Crashed during a severe thunderstorm.  \n",
       "\n",
       "[596 rows x 12 columns]"
      ],
      "text/html": "<div>\n<style scoped>\n    .dataframe tbody tr th:only-of-type {\n        vertical-align: middle;\n    }\n\n    .dataframe tbody tr th {\n        vertical-align: top;\n    }\n\n    .dataframe thead th {\n        text-align: right;\n    }\n</style>\n<table border=\"1\" class=\"dataframe\">\n  <thead>\n    <tr style=\"text-align: right;\">\n      <th></th>\n      <th>Airline ID</th>\n      <th>Operator</th>\n      <th>IATA</th>\n      <th>ICAO</th>\n      <th>Country</th>\n      <th>Active</th>\n      <th>Date</th>\n      <th>Location</th>\n      <th>Type</th>\n      <th>Aboard</th>\n      <th>Fatalities</th>\n      <th>Summary</th>\n    </tr>\n  </thead>\n  <tbody>\n    <tr>\n      <th>47</th>\n      <td>22.0</td>\n      <td>Aloha Airlines</td>\n      <td>AQ</td>\n      <td>AAH</td>\n      <td>United States</td>\n      <td>Y</td>\n      <td>1988-04-28 00:00:00</td>\n      <td>Maui, Hawaii</td>\n      <td>Boeing B-737-297</td>\n      <td>95.0</td>\n      <td>1.0</td>\n      <td>The aircraft suffered separation of the top of...</td>\n    </tr>\n    <tr>\n      <th>49</th>\n      <td>24.0</td>\n      <td>American Airlines</td>\n      <td>AA</td>\n      <td>AAL</td>\n      <td>United States</td>\n      <td>Y</td>\n      <td>1976-04-27 00:00:00</td>\n      <td>St. Thomas, Virgin Islands</td>\n      <td>Boeing B-727-95</td>\n      <td>88.0</td>\n      <td>37.0</td>\n      <td>After touching down 2,200 feet down the runway...</td>\n    </tr>\n    <tr>\n      <th>50</th>\n      <td>24.0</td>\n      <td>American Airlines</td>\n      <td>AA</td>\n      <td>AAL</td>\n      <td>United States</td>\n      <td>Y</td>\n      <td>1979-05-25 00:00:00</td>\n      <td>Chicago O'Hare, Illinois</td>\n      <td>McDonnell Douglas DC-10-10</td>\n      <td>271.0</td>\n      <td>271.0</td>\n      <td>During takeoff just, as the plane lifted from ...</td>\n    </tr>\n    <tr>\n      <th>51</th>\n      <td>24.0</td>\n      <td>American Airlines</td>\n      <td>AA</td>\n      <td>AAL</td>\n      <td>United States</td>\n      <td>Y</td>\n      <td>1979-11-15 00:00:00</td>\n      <td>Near Chicago, Illinois</td>\n      <td>Boeing B-727</td>\n      <td>78.0</td>\n      <td>0.0</td>\n      <td>While en route from Chicago to Washington an e...</td>\n    </tr>\n    <tr>\n      <th>52</th>\n      <td>24.0</td>\n      <td>American Airlines</td>\n      <td>AA</td>\n      <td>AAL</td>\n      <td>United States</td>\n      <td>Y</td>\n      <td>1985-04-16 00:00:00</td>\n      <td>Las Cruces, New Mexico</td>\n      <td>Boeing B-727-227</td>\n      <td>89.0</td>\n      <td>0.0</td>\n      <td>While cruising at FL 350 a loud noise was hear...</td>\n    </tr>\n    <tr>\n      <th>...</th>\n      <td>...</td>\n      <td>...</td>\n      <td>...</td>\n      <td>...</td>\n      <td>...</td>\n      <td>...</td>\n      <td>...</td>\n      <td>...</td>\n      <td>...</td>\n      <td>...</td>\n      <td>...</td>\n      <td>...</td>\n    </tr>\n    <tr>\n      <th>6115</th>\n      <td>9082.0</td>\n      <td>Uni Air</td>\n      <td>B7</td>\n      <td>UIA</td>\n      <td>Taiwan</td>\n      <td>Y</td>\n      <td>1999-08-24 00:00:00</td>\n      <td>Hualian, Taiwan</td>\n      <td>McDonnell Douglas MD-90-30</td>\n      <td>96.0</td>\n      <td>1.0</td>\n      <td>A fire in the front portion of the cabin, in t...</td>\n    </tr>\n    <tr>\n      <th>6136</th>\n      <td>9808.0</td>\n      <td>Minerva Airlines</td>\n      <td>N4</td>\n      <td>\\N</td>\n      <td>Italy</td>\n      <td>N</td>\n      <td>1999-02-25 00:00:00</td>\n      <td>Genoa, Italy</td>\n      <td>Dornier 328-110</td>\n      <td>31.0</td>\n      <td>4.0</td>\n      <td>The aircraft touched down briefly, overran the...</td>\n    </tr>\n    <tr>\n      <th>6193</th>\n      <td>10929.0</td>\n      <td>TAN</td>\n      <td>T8</td>\n      <td>\\N</td>\n      <td>Argentina</td>\n      <td>N</td>\n      <td>1973-01-27 00:00:00</td>\n      <td>Near Tegucigalpa, Honduras</td>\n      <td>Douglas DC-6A</td>\n      <td>3.0</td>\n      <td>3.0</td>\n      <td>No Inccident Recorded</td>\n    </tr>\n    <tr>\n      <th>6194</th>\n      <td>10929.0</td>\n      <td>TAN</td>\n      <td>T8</td>\n      <td>\\N</td>\n      <td>Argentina</td>\n      <td>N</td>\n      <td>1989-10-21 00:00:00</td>\n      <td>Near Tegucigalpa, Honduras</td>\n      <td>Boeing B-727-224</td>\n      <td>146.0</td>\n      <td>127.0</td>\n      <td>The aircraft landed short of the runway in hea...</td>\n    </tr>\n    <tr>\n      <th>6549</th>\n      <td>18762.0</td>\n      <td>Lina Congo</td>\n      <td>GC</td>\n      <td>\\N</td>\n      <td>Congo (Brazzaville)</td>\n      <td>N</td>\n      <td>1992-03-12 00:00:00</td>\n      <td>Etsouali, Congo</td>\n      <td>de Havilland Canada DHC-6 Twin Otter 300</td>\n      <td>8.0</td>\n      <td>3.0</td>\n      <td>Crashed during a severe thunderstorm.</td>\n    </tr>\n  </tbody>\n</table>\n<p>596 rows × 12 columns</p>\n</div>"
     },
     "metadata": {},
     "execution_count": 30
    }
   ],
   "source": [
    "# Test to see Airline values are entered \n",
    "airline_crash_df[airline_crash_df['Aboard'] >= 1]"
   ]
  },
  {
   "cell_type": "code",
   "execution_count": 24,
   "metadata": {},
   "outputs": [
    {
     "output_type": "execute_result",
     "data": {
      "text/plain": [
       "      Airline ID          Operator IATA ICAO        Country Active  \\\n",
       "27           3.0     1Time Airline   1T  RNX   South Africa      Y   \n",
       "34          10.0       40-Mile Air   Q5  MLA  United States      Y   \n",
       "37          13.0  Ansett Australia   AN  AAA      Australia      Y   \n",
       "46          21.0        Aigle Azur   ZI  AAF         France      Y   \n",
       "47          22.0    Aloha Airlines   AQ  AAH  United States      Y   \n",
       "...          ...               ...  ...  ...            ...    ...   \n",
       "6733     21021.0           Nordica   EE   \\N        Estonia      Y   \n",
       "6738     21131.0  All America BOPY   0P  PYB       Paraguay      Y   \n",
       "6744     21268.0   Jetgo Australia   JG   \\N      Australia      Y   \n",
       "6745     21270.0      Air Carnival   2S   \\N          India      Y   \n",
       "6746     21317.0     Svyaz Rossiya   7R  SJM         Russia      Y   \n",
       "\n",
       "                       Date               Location                   Type  \\\n",
       "27    No Inccident Recorded  No Inccident Recorded  No Inccident Recorded   \n",
       "34    No Inccident Recorded  No Inccident Recorded  No Inccident Recorded   \n",
       "37    No Inccident Recorded  No Inccident Recorded  No Inccident Recorded   \n",
       "46    No Inccident Recorded  No Inccident Recorded  No Inccident Recorded   \n",
       "47      1988-04-28 00:00:00           Maui, Hawaii       Boeing B-737-297   \n",
       "...                     ...                    ...                    ...   \n",
       "6733  No Inccident Recorded  No Inccident Recorded  No Inccident Recorded   \n",
       "6738  No Inccident Recorded  No Inccident Recorded  No Inccident Recorded   \n",
       "6744  No Inccident Recorded  No Inccident Recorded  No Inccident Recorded   \n",
       "6745  No Inccident Recorded  No Inccident Recorded  No Inccident Recorded   \n",
       "6746  No Inccident Recorded  No Inccident Recorded  No Inccident Recorded   \n",
       "\n",
       "      Aboard  Fatalities                                            Summary  \n",
       "27       0.0         0.0                              No Inccident Recorded  \n",
       "34       0.0         0.0                              No Inccident Recorded  \n",
       "37       0.0         0.0                              No Inccident Recorded  \n",
       "46       0.0         0.0                              No Inccident Recorded  \n",
       "47      95.0         1.0  The aircraft suffered separation of the top of...  \n",
       "...      ...         ...                                                ...  \n",
       "6733     0.0         0.0                              No Inccident Recorded  \n",
       "6738     0.0         0.0                              No Inccident Recorded  \n",
       "6744     0.0         0.0                              No Inccident Recorded  \n",
       "6745     0.0         0.0                              No Inccident Recorded  \n",
       "6746     0.0         0.0                              No Inccident Recorded  \n",
       "\n",
       "[1374 rows x 12 columns]"
      ],
      "text/html": "<div>\n<style scoped>\n    .dataframe tbody tr th:only-of-type {\n        vertical-align: middle;\n    }\n\n    .dataframe tbody tr th {\n        vertical-align: top;\n    }\n\n    .dataframe thead th {\n        text-align: right;\n    }\n</style>\n<table border=\"1\" class=\"dataframe\">\n  <thead>\n    <tr style=\"text-align: right;\">\n      <th></th>\n      <th>Airline ID</th>\n      <th>Operator</th>\n      <th>IATA</th>\n      <th>ICAO</th>\n      <th>Country</th>\n      <th>Active</th>\n      <th>Date</th>\n      <th>Location</th>\n      <th>Type</th>\n      <th>Aboard</th>\n      <th>Fatalities</th>\n      <th>Summary</th>\n    </tr>\n  </thead>\n  <tbody>\n    <tr>\n      <th>27</th>\n      <td>3.0</td>\n      <td>1Time Airline</td>\n      <td>1T</td>\n      <td>RNX</td>\n      <td>South Africa</td>\n      <td>Y</td>\n      <td>No Inccident Recorded</td>\n      <td>No Inccident Recorded</td>\n      <td>No Inccident Recorded</td>\n      <td>0.0</td>\n      <td>0.0</td>\n      <td>No Inccident Recorded</td>\n    </tr>\n    <tr>\n      <th>34</th>\n      <td>10.0</td>\n      <td>40-Mile Air</td>\n      <td>Q5</td>\n      <td>MLA</td>\n      <td>United States</td>\n      <td>Y</td>\n      <td>No Inccident Recorded</td>\n      <td>No Inccident Recorded</td>\n      <td>No Inccident Recorded</td>\n      <td>0.0</td>\n      <td>0.0</td>\n      <td>No Inccident Recorded</td>\n    </tr>\n    <tr>\n      <th>37</th>\n      <td>13.0</td>\n      <td>Ansett Australia</td>\n      <td>AN</td>\n      <td>AAA</td>\n      <td>Australia</td>\n      <td>Y</td>\n      <td>No Inccident Recorded</td>\n      <td>No Inccident Recorded</td>\n      <td>No Inccident Recorded</td>\n      <td>0.0</td>\n      <td>0.0</td>\n      <td>No Inccident Recorded</td>\n    </tr>\n    <tr>\n      <th>46</th>\n      <td>21.0</td>\n      <td>Aigle Azur</td>\n      <td>ZI</td>\n      <td>AAF</td>\n      <td>France</td>\n      <td>Y</td>\n      <td>No Inccident Recorded</td>\n      <td>No Inccident Recorded</td>\n      <td>No Inccident Recorded</td>\n      <td>0.0</td>\n      <td>0.0</td>\n      <td>No Inccident Recorded</td>\n    </tr>\n    <tr>\n      <th>47</th>\n      <td>22.0</td>\n      <td>Aloha Airlines</td>\n      <td>AQ</td>\n      <td>AAH</td>\n      <td>United States</td>\n      <td>Y</td>\n      <td>1988-04-28 00:00:00</td>\n      <td>Maui, Hawaii</td>\n      <td>Boeing B-737-297</td>\n      <td>95.0</td>\n      <td>1.0</td>\n      <td>The aircraft suffered separation of the top of...</td>\n    </tr>\n    <tr>\n      <th>...</th>\n      <td>...</td>\n      <td>...</td>\n      <td>...</td>\n      <td>...</td>\n      <td>...</td>\n      <td>...</td>\n      <td>...</td>\n      <td>...</td>\n      <td>...</td>\n      <td>...</td>\n      <td>...</td>\n      <td>...</td>\n    </tr>\n    <tr>\n      <th>6733</th>\n      <td>21021.0</td>\n      <td>Nordica</td>\n      <td>EE</td>\n      <td>\\N</td>\n      <td>Estonia</td>\n      <td>Y</td>\n      <td>No Inccident Recorded</td>\n      <td>No Inccident Recorded</td>\n      <td>No Inccident Recorded</td>\n      <td>0.0</td>\n      <td>0.0</td>\n      <td>No Inccident Recorded</td>\n    </tr>\n    <tr>\n      <th>6738</th>\n      <td>21131.0</td>\n      <td>All America BOPY</td>\n      <td>0P</td>\n      <td>PYB</td>\n      <td>Paraguay</td>\n      <td>Y</td>\n      <td>No Inccident Recorded</td>\n      <td>No Inccident Recorded</td>\n      <td>No Inccident Recorded</td>\n      <td>0.0</td>\n      <td>0.0</td>\n      <td>No Inccident Recorded</td>\n    </tr>\n    <tr>\n      <th>6744</th>\n      <td>21268.0</td>\n      <td>Jetgo Australia</td>\n      <td>JG</td>\n      <td>\\N</td>\n      <td>Australia</td>\n      <td>Y</td>\n      <td>No Inccident Recorded</td>\n      <td>No Inccident Recorded</td>\n      <td>No Inccident Recorded</td>\n      <td>0.0</td>\n      <td>0.0</td>\n      <td>No Inccident Recorded</td>\n    </tr>\n    <tr>\n      <th>6745</th>\n      <td>21270.0</td>\n      <td>Air Carnival</td>\n      <td>2S</td>\n      <td>\\N</td>\n      <td>India</td>\n      <td>Y</td>\n      <td>No Inccident Recorded</td>\n      <td>No Inccident Recorded</td>\n      <td>No Inccident Recorded</td>\n      <td>0.0</td>\n      <td>0.0</td>\n      <td>No Inccident Recorded</td>\n    </tr>\n    <tr>\n      <th>6746</th>\n      <td>21317.0</td>\n      <td>Svyaz Rossiya</td>\n      <td>7R</td>\n      <td>SJM</td>\n      <td>Russia</td>\n      <td>Y</td>\n      <td>No Inccident Recorded</td>\n      <td>No Inccident Recorded</td>\n      <td>No Inccident Recorded</td>\n      <td>0.0</td>\n      <td>0.0</td>\n      <td>No Inccident Recorded</td>\n    </tr>\n  </tbody>\n</table>\n<p>1374 rows × 12 columns</p>\n</div>"
     },
     "metadata": {},
     "execution_count": 24
    }
   ],
   "source": [
    "airline_crash_df[airline_crash_df['Active'] == 'Y']"
   ]
  },
  {
   "cell_type": "code",
   "execution_count": 25,
   "metadata": {},
   "outputs": [
    {
     "output_type": "execute_result",
     "data": {
      "text/plain": [
       "      Airline ID          Operator IATA ICAO        Country Active  \\\n",
       "27           3.0     1Time Airline   1T  RNX   South Africa      Y   \n",
       "34          10.0       40-Mile Air   Q5  MLA  United States      Y   \n",
       "37          13.0  Ansett Australia   AN  AAA      Australia      Y   \n",
       "39          15.0   Abelag Aviation   W9  AAB        Belgium      N   \n",
       "46          21.0        Aigle Azur   ZI  AAF         France      Y   \n",
       "...          ...               ...  ...  ...            ...    ...   \n",
       "6738     21131.0  All America BOPY   0P  PYB       Paraguay      Y   \n",
       "6740     21181.0  Air Andaman (2Y)   2Y  AOW       Thailand      N   \n",
       "6744     21268.0   Jetgo Australia   JG   \\N      Australia      Y   \n",
       "6745     21270.0      Air Carnival   2S   \\N          India      Y   \n",
       "6746     21317.0     Svyaz Rossiya   7R  SJM         Russia      Y   \n",
       "\n",
       "                       Date               Location                   Type  \\\n",
       "27    No Inccident Recorded  No Inccident Recorded  No Inccident Recorded   \n",
       "34    No Inccident Recorded  No Inccident Recorded  No Inccident Recorded   \n",
       "37    No Inccident Recorded  No Inccident Recorded  No Inccident Recorded   \n",
       "39    No Inccident Recorded  No Inccident Recorded  No Inccident Recorded   \n",
       "46    No Inccident Recorded  No Inccident Recorded  No Inccident Recorded   \n",
       "...                     ...                    ...                    ...   \n",
       "6738  No Inccident Recorded  No Inccident Recorded  No Inccident Recorded   \n",
       "6740  No Inccident Recorded  No Inccident Recorded  No Inccident Recorded   \n",
       "6744  No Inccident Recorded  No Inccident Recorded  No Inccident Recorded   \n",
       "6745  No Inccident Recorded  No Inccident Recorded  No Inccident Recorded   \n",
       "6746  No Inccident Recorded  No Inccident Recorded  No Inccident Recorded   \n",
       "\n",
       "      Aboard  Fatalities                Summary  \n",
       "27       0.0         0.0  No Inccident Recorded  \n",
       "34       0.0         0.0  No Inccident Recorded  \n",
       "37       0.0         0.0  No Inccident Recorded  \n",
       "39       0.0         0.0  No Inccident Recorded  \n",
       "46       0.0         0.0  No Inccident Recorded  \n",
       "...      ...         ...                    ...  \n",
       "6738     0.0         0.0  No Inccident Recorded  \n",
       "6740     0.0         0.0  No Inccident Recorded  \n",
       "6744     0.0         0.0  No Inccident Recorded  \n",
       "6745     0.0         0.0  No Inccident Recorded  \n",
       "6746     0.0         0.0  No Inccident Recorded  \n",
       "\n",
       "[1272 rows x 12 columns]"
      ],
      "text/html": "<div>\n<style scoped>\n    .dataframe tbody tr th:only-of-type {\n        vertical-align: middle;\n    }\n\n    .dataframe tbody tr th {\n        vertical-align: top;\n    }\n\n    .dataframe thead th {\n        text-align: right;\n    }\n</style>\n<table border=\"1\" class=\"dataframe\">\n  <thead>\n    <tr style=\"text-align: right;\">\n      <th></th>\n      <th>Airline ID</th>\n      <th>Operator</th>\n      <th>IATA</th>\n      <th>ICAO</th>\n      <th>Country</th>\n      <th>Active</th>\n      <th>Date</th>\n      <th>Location</th>\n      <th>Type</th>\n      <th>Aboard</th>\n      <th>Fatalities</th>\n      <th>Summary</th>\n    </tr>\n  </thead>\n  <tbody>\n    <tr>\n      <th>27</th>\n      <td>3.0</td>\n      <td>1Time Airline</td>\n      <td>1T</td>\n      <td>RNX</td>\n      <td>South Africa</td>\n      <td>Y</td>\n      <td>No Inccident Recorded</td>\n      <td>No Inccident Recorded</td>\n      <td>No Inccident Recorded</td>\n      <td>0.0</td>\n      <td>0.0</td>\n      <td>No Inccident Recorded</td>\n    </tr>\n    <tr>\n      <th>34</th>\n      <td>10.0</td>\n      <td>40-Mile Air</td>\n      <td>Q5</td>\n      <td>MLA</td>\n      <td>United States</td>\n      <td>Y</td>\n      <td>No Inccident Recorded</td>\n      <td>No Inccident Recorded</td>\n      <td>No Inccident Recorded</td>\n      <td>0.0</td>\n      <td>0.0</td>\n      <td>No Inccident Recorded</td>\n    </tr>\n    <tr>\n      <th>37</th>\n      <td>13.0</td>\n      <td>Ansett Australia</td>\n      <td>AN</td>\n      <td>AAA</td>\n      <td>Australia</td>\n      <td>Y</td>\n      <td>No Inccident Recorded</td>\n      <td>No Inccident Recorded</td>\n      <td>No Inccident Recorded</td>\n      <td>0.0</td>\n      <td>0.0</td>\n      <td>No Inccident Recorded</td>\n    </tr>\n    <tr>\n      <th>39</th>\n      <td>15.0</td>\n      <td>Abelag Aviation</td>\n      <td>W9</td>\n      <td>AAB</td>\n      <td>Belgium</td>\n      <td>N</td>\n      <td>No Inccident Recorded</td>\n      <td>No Inccident Recorded</td>\n      <td>No Inccident Recorded</td>\n      <td>0.0</td>\n      <td>0.0</td>\n      <td>No Inccident Recorded</td>\n    </tr>\n    <tr>\n      <th>46</th>\n      <td>21.0</td>\n      <td>Aigle Azur</td>\n      <td>ZI</td>\n      <td>AAF</td>\n      <td>France</td>\n      <td>Y</td>\n      <td>No Inccident Recorded</td>\n      <td>No Inccident Recorded</td>\n      <td>No Inccident Recorded</td>\n      <td>0.0</td>\n      <td>0.0</td>\n      <td>No Inccident Recorded</td>\n    </tr>\n    <tr>\n      <th>...</th>\n      <td>...</td>\n      <td>...</td>\n      <td>...</td>\n      <td>...</td>\n      <td>...</td>\n      <td>...</td>\n      <td>...</td>\n      <td>...</td>\n      <td>...</td>\n      <td>...</td>\n      <td>...</td>\n      <td>...</td>\n    </tr>\n    <tr>\n      <th>6738</th>\n      <td>21131.0</td>\n      <td>All America BOPY</td>\n      <td>0P</td>\n      <td>PYB</td>\n      <td>Paraguay</td>\n      <td>Y</td>\n      <td>No Inccident Recorded</td>\n      <td>No Inccident Recorded</td>\n      <td>No Inccident Recorded</td>\n      <td>0.0</td>\n      <td>0.0</td>\n      <td>No Inccident Recorded</td>\n    </tr>\n    <tr>\n      <th>6740</th>\n      <td>21181.0</td>\n      <td>Air Andaman (2Y)</td>\n      <td>2Y</td>\n      <td>AOW</td>\n      <td>Thailand</td>\n      <td>N</td>\n      <td>No Inccident Recorded</td>\n      <td>No Inccident Recorded</td>\n      <td>No Inccident Recorded</td>\n      <td>0.0</td>\n      <td>0.0</td>\n      <td>No Inccident Recorded</td>\n    </tr>\n    <tr>\n      <th>6744</th>\n      <td>21268.0</td>\n      <td>Jetgo Australia</td>\n      <td>JG</td>\n      <td>\\N</td>\n      <td>Australia</td>\n      <td>Y</td>\n      <td>No Inccident Recorded</td>\n      <td>No Inccident Recorded</td>\n      <td>No Inccident Recorded</td>\n      <td>0.0</td>\n      <td>0.0</td>\n      <td>No Inccident Recorded</td>\n    </tr>\n    <tr>\n      <th>6745</th>\n      <td>21270.0</td>\n      <td>Air Carnival</td>\n      <td>2S</td>\n      <td>\\N</td>\n      <td>India</td>\n      <td>Y</td>\n      <td>No Inccident Recorded</td>\n      <td>No Inccident Recorded</td>\n      <td>No Inccident Recorded</td>\n      <td>0.0</td>\n      <td>0.0</td>\n      <td>No Inccident Recorded</td>\n    </tr>\n    <tr>\n      <th>6746</th>\n      <td>21317.0</td>\n      <td>Svyaz Rossiya</td>\n      <td>7R</td>\n      <td>SJM</td>\n      <td>Russia</td>\n      <td>Y</td>\n      <td>No Inccident Recorded</td>\n      <td>No Inccident Recorded</td>\n      <td>No Inccident Recorded</td>\n      <td>0.0</td>\n      <td>0.0</td>\n      <td>No Inccident Recorded</td>\n    </tr>\n  </tbody>\n</table>\n<p>1272 rows × 12 columns</p>\n</div>"
     },
     "metadata": {},
     "execution_count": 25
    }
   ],
   "source": [
    "airline_crash_df[airline_crash_df['Date'] == 'No Inccident Recorded']"
   ]
  },
  {
   "cell_type": "code",
   "execution_count": 26,
   "metadata": {},
   "outputs": [
    {
     "output_type": "execute_result",
     "data": {
      "text/plain": [
       "United States     266\n",
       "Russia            227\n",
       "Canada             50\n",
       "Indonesia          49\n",
       "Germany            47\n",
       "United Kingdom     45\n",
       "France             44\n",
       "China              39\n",
       "Brazil             39\n",
       "India              37\n",
       "Australia          35\n",
       "Italy              31\n",
       "Japan              30\n",
       "Spain              27\n",
       "Colombia           27\n",
       "Taiwan             26\n",
       "Thailand           24\n",
       "Philippines        23\n",
       "Sweden             21\n",
       "Mexico             20\n",
       "Argentina          19\n",
       "Ukraine            18\n",
       "Switzerland        18\n",
       "Egypt              17\n",
       "Pakistan           16\n",
       "South Africa       15\n",
       "Ecuador            14\n",
       "Austria            13\n",
       "Portugal           13\n",
       "Chile              13\n",
       "Peru               13\n",
       "Netherlands        12\n",
       "Turkey             12\n",
       "Romania            12\n",
       "Nigeria            11\n",
       "Iran               11\n",
       "Belgium            11\n",
       "Nepal              10\n",
       "Venezuela          10\n",
       "Afghanistan         9\n",
       "Greece              9\n",
       "Singapore           9\n",
       "Malaysia            9\n",
       "Ethiopia            9\n",
       "New Zealand         9\n",
       "Ireland             8\n",
       "Denmark             8\n",
       "Cambodia            8\n",
       "Poland              8\n",
       "Iceland             8\n",
       "Name: Country, dtype: int64"
      ]
     },
     "metadata": {},
     "execution_count": 26
    }
   ],
   "source": [
    "# Number of crashes per Operator Country\n",
    "airline_crash_df[\"Country\"].value_counts().head(50)"
   ]
  },
  {
   "cell_type": "code",
   "execution_count": 27,
   "metadata": {},
   "outputs": [
    {
     "output_type": "execute_result",
     "data": {
      "text/plain": [
       "Y    1374\n",
       "N     495\n",
       "n       1\n",
       "Name: Active, dtype: int64"
      ]
     },
     "metadata": {},
     "execution_count": 27
    }
   ],
   "source": [
    "# Number of active operators\n",
    "airline_crash_df[\"Active\"].value_counts()"
   ]
  },
  {
   "cell_type": "code",
   "execution_count": 28,
   "metadata": {},
   "outputs": [
    {
     "output_type": "execute_result",
     "data": {
      "text/plain": [
       "Aeroflot                           141\n",
       "Merpati Nusantara Airlines          16\n",
       "Philippine Airlines                 14\n",
       "Indian Airlines                     13\n",
       "Pan American World Airways          12\n",
       "China Airlines                      12\n",
       "Garuda Indonesia                    11\n",
       "SATENA                              10\n",
       "United Airlines                     10\n",
       "American Airlines                   10\n",
       "Egyptair                             9\n",
       "Tarom                                9\n",
       "Ethiopian Airlines                   9\n",
       "Air France                           8\n",
       "Pakistan International Airlines      8\n",
       "Japan Airlines                       7\n",
       "Avianca                              7\n",
       "TAME                                 7\n",
       "VASP                                 7\n",
       "Trans World Airlines                 7\n",
       "Thai Airways International           6\n",
       "Delta Air Lines                      6\n",
       "Ariana Afghan Airlines               6\n",
       "Comair                               6\n",
       "British Airways                      6\n",
       "Royal Nepal Airlines                 5\n",
       "TAM Brazilian Airlines               5\n",
       "Formosa Airlines                     5\n",
       "LOT Polish Airlines                  5\n",
       "Sudan Airways                        5\n",
       "TAAG Angola Airlines                 5\n",
       "Cameroon Airlines                    4\n",
       "China Eastern Airlines               4\n",
       "Iran Air                             4\n",
       "Continental Airlines                 4\n",
       "Air Canada                           4\n",
       "National Airlines                    4\n",
       "Azerbaijan Airlines                  3\n",
       "Swissair                             3\n",
       "Far Eastern Air Transport            3\n",
       "Air Algerie                          3\n",
       "SAETA                                3\n",
       "Alitalia                             3\n",
       "Alaska Airlines                      3\n",
       "Air India Limited                    3\n",
       "Djibouti Airlines                    2\n",
       "TAN                                  2\n",
       "Hageland Aviation Services           2\n",
       "China Northwest Airlines             2\n",
       "Air New Zealand                      2\n",
       "Name: Operator, dtype: int64"
      ]
     },
     "metadata": {},
     "execution_count": 28
    }
   ],
   "source": [
    "# Operators with the most crashes\n",
    "airline_crash_df[\"Operator\"].value_counts().head(50)"
   ]
  },
  {
   "cell_type": "code",
   "execution_count": null,
   "metadata": {},
   "outputs": [],
   "source": []
  }
 ]
}