{
 "cells": [
  {
   "cell_type": "markdown",
   "metadata": {},
   "source": [
    "# ETL Project Report: WORLDWIDE AIRLINE CRASHES"
   ]
  },
  {
   "cell_type": "markdown",
   "metadata": {},
   "source": [
    "### TEAM: Brett, Divya, Seranica, Lauren"
   ]
  },
  {
   "cell_type": "markdown",
   "metadata": {},
   "source": [
    "MOTIVATION:\n",
    "\n",
    "The purpose of this project was to assess and evaluate the relationships of fatalities from airplane crashes from 1970-2009. The intention was that once ETL was complete we could analyse the data to show safety among airlines, number of incidents/crashes across decades, uncover the airline with the most crashes and inspect the percentage of fatalities to passengers per crash. \n",
    "The two sources of data that are presented are connected by one common column that is the Airline name or “Operator”. We are able to then decipher the information based upon this certain variable. There has also been an analysis to understand which airline by country has the most crashes, by filtering this information which country of origin is the most unreliable.  \n"
   ]
  },
  {
   "cell_type": "markdown",
   "metadata": {},
   "source": [
    "EXTRACT:\n",
    "\n",
    "Two data sets were chosen from www.kaggle.com and were both in CSV format. Both files had an extensive list and timeframe. The two files were loaded into dataframes in a python notebook through Visual Studio Code to begin transformation. The first one listed worldwide airlines and the second contained worldwide crashes:\n",
    "\n",
    "Airline Link: https://www.kaggle.com/open-flights/airline-database\n",
    "\n",
    "Airline Crashes Link: https://www.kaggle.com/saurograndi/airplane-crashes-since-1908?select=Airplane_Crashes_and_Fatalities_Since_1908.csv\n",
    "\n",
    "We attempted to use an API to extract more airline data but failed to retrieve the data we needed within the timeframe."
   ]
  },
  {
   "cell_type": "markdown",
   "metadata": {},
   "source": [
    "TRANSFORM:\n",
    "\n",
    "Columns were removed for the purpose of having relevant information in both tables of the Airlines and the Crashes. Names of the Airlines had to be renamed for them to be compatible once joining the two tables together. There were some anomalies with concerns to the name of countries of the operators (airlines) ie. Alaskan Airlines is from the United States not Alaska. A number of rows were dropped once the join was made, because they had to both match on operator names. Dates were transformed to datetime to then group-by and sort through years. \n",
    "\n",
    "There was a situation in the data where there were two or more collisions with two different airlines. The problem with this, is that they are represented in the same row and are unable to join on the table with the airlines listed. However, when trying to transform this data, it proved to be too challenging even though this would have been a useful application of our data.We transformed the dates using datetime to filter years before 1970 and after 2009. This also allowed for a groupby function to group the data by decades.\n"
   ]
  },
  {
   "cell_type": "markdown",
   "metadata": {},
   "source": [
    "LOAD:\n",
    "\n",
    "The final transformed data was loaded into tables in Postgres through pgAdmin. This was chosen because it is a relational database. The two sets of data relate over the airplane operator name. \n",
    "\n",
    "Once the schemas and tables were created we were able to complete a few views such as the safest country, the worst airline for safety and best airline for safety. \n",
    "\n",
    "The setup for the tables allow for further analysis and breakdown should someone be interested.....\n"
   ]
  },
  {
   "cell_type": "code",
   "execution_count": null,
   "metadata": {},
   "outputs": [],
   "source": []
  }
 ],
 "metadata": {
  "kernelspec": {
   "display_name": "Python 3",
   "language": "python",
   "name": "python3"
  },
  "language_info": {
   "codemirror_mode": {
    "name": "ipython",
    "version": 3
   },
   "file_extension": ".py",
   "mimetype": "text/x-python",
   "name": "python",
   "nbconvert_exporter": "python",
   "pygments_lexer": "ipython3",
   "version": "3.7.9"
  }
 },
 "nbformat": 4,
 "nbformat_minor": 4
}
